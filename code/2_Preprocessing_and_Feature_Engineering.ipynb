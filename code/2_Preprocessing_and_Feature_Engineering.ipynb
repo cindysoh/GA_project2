{
 "cells": [
  {
   "cell_type": "markdown",
   "id": "78b00cdf",
   "metadata": {},
   "source": [
    "# 2. Preprocessing and Feature Engineering\n",
    "\n",
    "* [2.1 Feature Selection](#2.1-Feature-Selection)\n",
    "    * [2.1.1 Skewed Distribution](#2.1.1-Skewed-Distribution)\n",
    "    * [2.1.2 Correlation](#2.1.2-Correlation)\n",
    "    * [2.1.3 P-Value](#2.1.3-P-Value)    \n",
    "    * [2.1.4 Saving Final Dataset](#2.1.4-Saving-Final-Dataset)"
   ]
  },
  {
   "cell_type": "code",
   "execution_count": 1,
   "id": "52a20169",
   "metadata": {},
   "outputs": [],
   "source": [
    "import pandas as pd\n",
    "import numpy as np\n",
    "import matplotlib.pyplot as plt\n",
    "import seaborn as sns\n",
    "from scipy.stats.stats import pearsonr\n",
    "import itertools\n",
    "import pingouin as pg\n",
    "from sklearn.model_selection import train_test_split, cross_val_score\n",
    "from sklearn.feature_selection import RFE\n",
    "from sklearn.linear_model import LinearRegression\n",
    "from sklearn.metrics import mean_squared_error, r2_score\n",
    "from sklearn.preprocessing import StandardScaler\n",
    "import re\n",
    "import statsmodels.api as sm\n",
    "from scipy import stats\n",
    "\n",
    "import warnings\n",
    "warnings.filterwarnings('ignore')"
   ]
  },
  {
   "cell_type": "code",
   "execution_count": 2,
   "id": "d44b9384",
   "metadata": {},
   "outputs": [],
   "source": [
    "train = pd.read_csv('../datasets/train_clean.csv') \n",
    "test = pd.read_csv('../datasets/test_clean.csv')"
   ]
  },
  {
   "cell_type": "code",
   "execution_count": 3,
   "id": "8858d77a",
   "metadata": {},
   "outputs": [],
   "source": [
    "pd.options.display.max_rows = train.shape[1]\n",
    "pd.options.display.max_columns = train.shape[1]"
   ]
  },
  {
   "cell_type": "markdown",
   "id": "32ae7926",
   "metadata": {},
   "source": [
    "## 2.1 Feature Selection\n",
    "Due to alot of categorical values and encoding, ended up with 222 columns. We will like to reduce redundant column that have skewed distribution and common correlation."
   ]
  },
  {
   "cell_type": "markdown",
   "id": "6a8bc27b",
   "metadata": {},
   "source": [
    "### 2.1.1 Skewed Distribution\n",
    "After filtering the column that have less than 0.005 variation, we can compare the features in the train and test set. We can decide which feature to drop if it won't affect the other set. We will proceed to drop those features that appear in both set. For features that are from original features we can consider combining them if it will help the variation to be more than 0.005."
   ]
  },
  {
   "cell_type": "code",
   "execution_count": 4,
   "id": "b311e0cc",
   "metadata": {},
   "outputs": [],
   "source": [
    "train_skew_var = train.var()\n",
    "test_skew_var = test.var()"
   ]
  },
  {
   "cell_type": "code",
   "execution_count": 5,
   "id": "139a4422",
   "metadata": {},
   "outputs": [
    {
     "data": {
      "text/plain": [
       "GarageType_2Types       0.009205\n",
       "GarageType_CarPort      0.005350\n",
       "MasVnrType_BrkCmn       0.005834\n",
       "MasVnrType_CBlock       0.000000\n",
       "MSZoning_A_agr          0.000977\n",
       "MSZoning_C_all          0.009205\n",
       "MSZoning_I_all          0.000489\n",
       "MSZoning_RH             0.006799\n",
       "Street_Grvl             0.003411\n",
       "Street_Pave             0.003411\n",
       "LotShape_IR3            0.003897\n",
       "LotConfig_FR3           0.004382\n",
       "LandSlope_Sev           0.003897\n",
       "Utilities_AllPub        0.000977\n",
       "Utilities_NoSeWa        0.000489\n",
       "Utilities_NoSewr        0.000489\n",
       "Heating_Floor           0.000000\n",
       "Heating_GasW            0.009684\n",
       "Heating_Grav            0.002439\n",
       "Heating_OthW            0.000977\n",
       "Heating_Wall            0.002925\n",
       "HouseStyle_2.5Fin       0.002925\n",
       "RoofStyle_Flat          0.005834\n",
       "RoofStyle_Gambrel       0.005834\n",
       "RoofStyle_Mansard       0.003411\n",
       "RoofStyle_Shed          0.001465\n",
       "RoofMatl_Membran        0.000489\n",
       "RoofMatl_Metal          0.000000\n",
       "RoofMatl_Roll           0.000000\n",
       "RoofMatl_Tar&Grv        0.006799\n",
       "RoofMatl_WdShake        0.001952\n",
       "RoofMatl_WdShngl        0.002439\n",
       "Exterior1st_AsphShn     0.000489\n",
       "Exterior1st_BrkComm     0.001465\n",
       "Exterior1st_CBlock      0.000977\n",
       "Exterior1st_ImStucc     0.000489\n",
       "Exterior1st_PreCast     0.000000\n",
       "Exterior1st_Stone       0.000977\n",
       "Exterior2nd_AsphShn     0.001465\n",
       "Exterior2nd_BrkCmn      0.008244\n",
       "Exterior2nd_CBlock      0.000977\n",
       "Exterior2nd_ImStucc     0.005350\n",
       "Exterior2nd_Other       0.000000\n",
       "Exterior2nd_PreCast     0.000000\n",
       "Exterior2nd_Stone       0.002925\n",
       "Foundation_Stone        0.002439\n",
       "Foundation_Wood         0.000977\n",
       "SaleType_CWD            0.004866\n",
       "SaleType_Con            0.001952\n",
       "SaleType_ConLD          0.008244\n",
       "SaleType_ConLI          0.003411\n",
       "SaleType_ConLw          0.002439\n",
       "SaleType_Oth            0.001952\n",
       "SaleType_VWD            0.000000\n",
       "Neighborhood_Blueste    0.002925\n",
       "Neighborhood_BrDale     0.009205\n",
       "Neighborhood_Greens     0.001465\n",
       "Neighborhood_GrnHill    0.000977\n",
       "Neighborhood_Landmrk    0.000489\n",
       "Neighborhood_NPkVill    0.008244\n",
       "Neighborhood_Veenker    0.008244\n",
       "MSSubClass_40           0.001952\n",
       "MSSubClass_45           0.005350\n",
       "MSSubClass_75           0.007763\n",
       "MSSubClass_150          0.000489\n",
       "MSSubClass_180          0.005350\n",
       "dtype: float64"
      ]
     },
     "execution_count": 5,
     "metadata": {},
     "output_type": "execute_result"
    }
   ],
   "source": [
    "train_skew_var[train_skew_var.values < 0.01]"
   ]
  },
  {
   "cell_type": "code",
   "execution_count": 6,
   "id": "3215bb97",
   "metadata": {},
   "outputs": [
    {
     "data": {
      "text/plain": [
       "MiscFeature_Othr        0.000000\n",
       "MiscFeature_TenC        0.000000\n",
       "GarageType_2Types       0.004540\n",
       "GarageType_CarPort      0.004540\n",
       "MasVnrType_CBlock       0.001139\n",
       "MSZoning_A_agr          0.000000\n",
       "MSZoning_C_all          0.006795\n",
       "MSZoning_I_all          0.001139\n",
       "Street_Grvl             0.005669\n",
       "Street_Pave             0.005669\n",
       "LotShape_IR3            0.007918\n",
       "LotConfig_FR3           0.005669\n",
       "LandSlope_Sev           0.006795\n",
       "Utilities_AllPub        0.001139\n",
       "Utilities_NoSeWa        0.000000\n",
       "Utilities_NoSewr        0.001139\n",
       "Heating_Floor           0.001139\n",
       "Heating_GasW            0.007918\n",
       "Heating_Grav            0.004540\n",
       "Heating_OthW            0.000000\n",
       "Heating_Wall            0.000000\n",
       "HouseStyle_2.5Fin       0.002275\n",
       "RoofStyle_Flat          0.007918\n",
       "RoofStyle_Mansard       0.004540\n",
       "RoofStyle_Shed          0.002275\n",
       "RoofMatl_Membran        0.000000\n",
       "RoofMatl_Metal          0.001139\n",
       "RoofMatl_Roll           0.001139\n",
       "RoofMatl_Tar&Grv        0.009039\n",
       "RoofMatl_WdShake        0.005669\n",
       "RoofMatl_WdShngl        0.002275\n",
       "Exterior1st_AsphShn     0.001139\n",
       "Exterior1st_BrkComm     0.003409\n",
       "Exterior1st_CBlock      0.000000\n",
       "Exterior1st_ImStucc     0.000000\n",
       "Exterior1st_PreCast     0.001139\n",
       "Exterior1st_Stone       0.000000\n",
       "Exterior2nd_AsphShn     0.001139\n",
       "Exterior2nd_BrkCmn      0.005669\n",
       "Exterior2nd_CBlock      0.001139\n",
       "Exterior2nd_ImStucc     0.004540\n",
       "Exterior2nd_Other       0.001139\n",
       "Exterior2nd_PreCast     0.001139\n",
       "Exterior2nd_Stone       0.000000\n",
       "Foundation_Stone        0.006795\n",
       "Foundation_Wood         0.003409\n",
       "SaleType_CWD            0.002275\n",
       "SaleType_Con            0.001139\n",
       "SaleType_ConLI          0.002275\n",
       "SaleType_ConLw          0.003409\n",
       "SaleType_Oth            0.003409\n",
       "SaleType_VWD            0.001139\n",
       "Neighborhood_Blmngtn    0.006795\n",
       "Neighborhood_Blueste    0.004540\n",
       "Neighborhood_Greens     0.005669\n",
       "Neighborhood_GrnHill    0.000000\n",
       "Neighborhood_Landmrk    0.000000\n",
       "Neighborhood_NPkVill    0.006795\n",
       "Neighborhood_Veenker    0.007918\n",
       "MSSubClass_40           0.002275\n",
       "MSSubClass_45           0.007918\n",
       "MSSubClass_75           0.007918\n",
       "MSSubClass_150          0.000000\n",
       "MSSubClass_180          0.006795\n",
       "dtype: float64"
      ]
     },
     "execution_count": 6,
     "metadata": {},
     "output_type": "execute_result"
    }
   ],
   "source": [
    "test_skew_var[test_skew_var.values < 0.01]"
   ]
  },
  {
   "cell_type": "markdown",
   "id": "89af1a88",
   "metadata": {},
   "source": [
    "#### MasVnrType\n",
    "Train:\n",
    "- MasVnrType_BrkCmn       0.005834\n",
    "- MasVnrType_CBlock       0.000000\n",
    "\n",
    "Test:\n",
    "- MasVnrType_CBlock       0.001139\n"
   ]
  },
  {
   "cell_type": "code",
   "execution_count": 7,
   "id": "35496bfd",
   "metadata": {},
   "outputs": [],
   "source": [
    "train.drop(['MasVnrType_CBlock', 'MasVnrType_BrkCmn'], axis=1, inplace=True)\n",
    "test.drop(['MasVnrType_CBlock', 'MasVnrType_BrkCmn'], axis=1, inplace=True)"
   ]
  },
  {
   "cell_type": "markdown",
   "id": "026e9ded",
   "metadata": {},
   "source": [
    "#### MSZoning\n",
    "Train:\n",
    "- MSZoning_A_agr          0.000977\n",
    "- MSZoning_C_all          0.009205\n",
    "- MSZoning_I_all          0.000489\n",
    "\n",
    "Test:\n",
    "- MSZoning_A_agr          0.000000\n",
    "- MSZoning_C_all          0.006795\n",
    "- MSZoning_I_all          0.001139"
   ]
  },
  {
   "cell_type": "code",
   "execution_count": 8,
   "id": "ec5a115b",
   "metadata": {},
   "outputs": [],
   "source": [
    "train['MSZoning_ACI'] = train['MSZoning_A_agr'] + train['MSZoning_C_all'] + train['MSZoning_I_all']\n",
    "test['MSZoning_ACI'] = test['MSZoning_A_agr'] + test['MSZoning_C_all'] + test['MSZoning_I_all']"
   ]
  },
  {
   "cell_type": "code",
   "execution_count": 9,
   "id": "eb8dc9da",
   "metadata": {},
   "outputs": [],
   "source": [
    "train.drop(['MSZoning_A_agr', 'MSZoning_C_all', 'MSZoning_I_all'], axis=1, inplace=True)\n",
    "test.drop(['MSZoning_A_agr', 'MSZoning_C_all', 'MSZoning_I_all'], axis=1, inplace=True)"
   ]
  },
  {
   "cell_type": "markdown",
   "id": "408a7d5f",
   "metadata": {},
   "source": [
    "#### Utilities\n",
    "Notice that all utilities from the original features are less than 0.005. We can proceed to drop all.\n"
   ]
  },
  {
   "cell_type": "code",
   "execution_count": 10,
   "id": "06aa0d92",
   "metadata": {},
   "outputs": [],
   "source": [
    "train.drop(['Utilities_AllPub', 'Utilities_NoSeWa', 'Utilities_NoSewr'], axis=1, inplace=True)\n",
    "test.drop(['Utilities_AllPub', 'Utilities_NoSeWa', 'Utilities_NoSewr'], axis=1, inplace=True)"
   ]
  },
  {
   "cell_type": "markdown",
   "id": "2b80ec92",
   "metadata": {},
   "source": [
    "#### Heating\n",
    "We can see that of we combine the low variance heating features, it will be more than 0.005.\n",
    "\n",
    "Train:\n",
    "- Heating_Floor           0.000000\n",
    "- Heating_GasW            0.009684\n",
    "- Heating_Grav            0.002439\n",
    "- Heating_OthW            0.000977\n",
    "- Heating_Wall            0.002925\n",
    "\n",
    "Test:\n",
    "- Heating_Floor           0.001139\n",
    "- Heating_GasW            0.007918\n",
    "- Heating_Grav            0.004540\n",
    "- Heating_OthW            0.000000\n",
    "- Heating_Wall            0.000000"
   ]
  },
  {
   "cell_type": "code",
   "execution_count": 11,
   "id": "36fbf488",
   "metadata": {},
   "outputs": [],
   "source": [
    "train['Heating_OthW'] = train['Heating_Floor'] + train['Heating_GasW'] + train['Heating_Grav'] + train['Heating_OthW'] \\\n",
    "                        + train['Heating_Wall']\n",
    "test['Heating_OthW'] = test['Heating_Floor'] + test['Heating_GasW'] + test['Heating_Grav'] + test['Heating_OthW'] + \\\n",
    "                        test['Heating_Wall']"
   ]
  },
  {
   "cell_type": "code",
   "execution_count": 12,
   "id": "0cf55662",
   "metadata": {},
   "outputs": [],
   "source": [
    "train.drop(['Heating_Floor', 'Heating_GasW', 'Heating_Grav', 'Heating_Wall'], axis=1, inplace=True)\n",
    "test.drop(['Heating_Floor', 'Heating_GasW', 'Heating_Grav', 'Heating_Wall'], axis=1, inplace=True)"
   ]
  },
  {
   "cell_type": "markdown",
   "id": "784a1ab5",
   "metadata": {},
   "source": [
    "#### RoofStyle\n",
    "Train:\n",
    "- RoofStyle_Flat          0.005834\n",
    "- RoofStyle_Gambrel       0.005834\n",
    "- RoofStyle_Mansard       0.003411\n",
    "- RoofStyle_Shed          0.001465\n",
    "\n",
    "Test:\n",
    "- RoofStyle_Flat          0.007918\n",
    "- RoofStyle_Mansard       0.004540\n",
    "- RoofStyle_Shed          0.002275"
   ]
  },
  {
   "cell_type": "code",
   "execution_count": 13,
   "id": "7a3cde13",
   "metadata": {},
   "outputs": [],
   "source": [
    "train['RoofStyle_Othr'] = train['RoofStyle_Flat'] + train['RoofStyle_Gambrel'] + train['RoofStyle_Mansard'] + \\\n",
    "                            train['RoofStyle_Shed'] \n",
    "test['RoofStyle_Othr'] = test['RoofStyle_Flat'] + test['RoofStyle_Gambrel'] + test['RoofStyle_Mansard'] + \\\n",
    "                            test['RoofStyle_Shed'] "
   ]
  },
  {
   "cell_type": "code",
   "execution_count": 14,
   "id": "3778e2a1",
   "metadata": {},
   "outputs": [],
   "source": [
    "train.drop(['RoofStyle_Flat', 'RoofStyle_Gambrel', 'RoofStyle_Mansard', 'RoofStyle_Shed'], axis=1, inplace=True)\n",
    "test.drop(['RoofStyle_Flat', 'RoofStyle_Gambrel', 'RoofStyle_Mansard', 'RoofStyle_Shed'], axis=1, inplace=True)"
   ]
  },
  {
   "cell_type": "markdown",
   "id": "0786e83f",
   "metadata": {},
   "source": [
    "#### RoofMatl\n",
    "Train:\n",
    "- RoofMatl_Membran        0.000489\n",
    "- RoofMatl_Metal          0.000000\n",
    "- RoofMatl_Roll           0.000000\n",
    "- RoofMatl_Tar&Grv        0.006799\n",
    "- RoofMatl_WdShake        0.001952\n",
    "- RoofMatl_WdShngl        0.002439\n",
    "\n",
    "Test:\n",
    "- RoofMatl_Membran        0.000000\n",
    "- RoofMatl_Metal          0.001139\n",
    "- RoofMatl_Roll           0.001139\n",
    "- RoofMatl_Tar&Grv        0.009039\n",
    "- RoofMatl_WdShake        0.005669\n",
    "- RoofMatl_WdShngl        0.002275"
   ]
  },
  {
   "cell_type": "code",
   "execution_count": 15,
   "id": "2a2c1a64",
   "metadata": {},
   "outputs": [],
   "source": [
    "train['RoofMatl_Othr'] = train['RoofMatl_Membran'] + train['RoofMatl_Metal'] + train['RoofMatl_Roll'] + \\\n",
    "                        train['RoofMatl_Tar&Grv'] + train['RoofMatl_WdShake'] + train['RoofMatl_WdShngl']\n",
    "test['RoofMatl_Othr'] = test['RoofMatl_Membran'] + test['RoofMatl_Metal'] + test['RoofMatl_Roll'] + \\\n",
    "                        test['RoofMatl_Tar&Grv'] + test['RoofMatl_WdShake'] + test['RoofMatl_WdShngl']"
   ]
  },
  {
   "cell_type": "code",
   "execution_count": 16,
   "id": "4ba08587",
   "metadata": {},
   "outputs": [],
   "source": [
    "train.drop(['RoofMatl_Membran', 'RoofMatl_Metal', 'RoofMatl_Roll', 'RoofMatl_Tar&Grv', 'RoofMatl_WdShake', \n",
    "            'RoofMatl_WdShngl'], axis=1, inplace=True)\n",
    "test.drop(['RoofMatl_Membran', 'RoofMatl_Metal', 'RoofMatl_Roll', 'RoofMatl_Tar&Grv', 'RoofMatl_WdShake', \n",
    "           'RoofMatl_WdShngl'], axis=1, inplace=True)"
   ]
  },
  {
   "cell_type": "markdown",
   "id": "78cf7e1c",
   "metadata": {},
   "source": [
    "#### Exterior1st\n",
    "Train:\n",
    "- Exterior1st_AsphShn     0.001139\n",
    "- Exterior1st_BrkComm     0.003409\n",
    "- Exterior1st_CBlock      0.000000\n",
    "- Exterior1st_ImStucc     0.000000\n",
    "- Exterior1st_PreCast     0.001139\n",
    "- Exterior1st_Stone       0.000000\n",
    "\n",
    "Test:\n",
    "- Exterior1st_AsphShn     0.001139\n",
    "- Exterior1st_BrkComm     0.003409\n",
    "- Exterior1st_CBlock      0.000000\n",
    "- Exterior1st_ImStucc     0.000000\n",
    "- Exterior1st_PreCast     0.001139\n",
    "- Exterior1st_Stone       0.000000"
   ]
  },
  {
   "cell_type": "code",
   "execution_count": 17,
   "id": "7a0c48d2",
   "metadata": {},
   "outputs": [],
   "source": [
    "train['Exterior1st_Other'] = train['Exterior1st_AsphShn'] + train['Exterior1st_BrkComm'] + train['Exterior1st_CBlock']\\\n",
    "                            + train['Exterior1st_ImStucc'] + train['Exterior1st_PreCast'] + train['Exterior1st_Stone']\n",
    "test['Exterior1st_Other'] = test['Exterior1st_AsphShn'] + test['Exterior1st_BrkComm'] + test['Exterior1st_CBlock'] + \\\n",
    "                            test['Exterior1st_ImStucc'] + test['Exterior1st_PreCast'] + test['Exterior1st_Stone']"
   ]
  },
  {
   "cell_type": "code",
   "execution_count": 18,
   "id": "5a931299",
   "metadata": {},
   "outputs": [],
   "source": [
    "train.drop(['Exterior1st_AsphShn', 'Exterior1st_BrkComm', 'Exterior1st_CBlock', 'Exterior1st_ImStucc', \n",
    "            'Exterior1st_PreCast', 'Exterior1st_Stone'], axis=1, inplace=True)\n",
    "test.drop(['Exterior1st_AsphShn', 'Exterior1st_BrkComm', 'Exterior1st_CBlock', 'Exterior1st_ImStucc', \n",
    "           'Exterior1st_PreCast', 'Exterior1st_Stone'], axis=1, inplace=True)"
   ]
  },
  {
   "cell_type": "markdown",
   "id": "08b8e931",
   "metadata": {},
   "source": [
    "#### Exterior2nd\n",
    "Train:\n",
    "- Exterior2nd_AsphShn     0.001465\n",
    "- Exterior2nd_BrkCmn      0.008244\n",
    "- Exterior2nd_CBlock      0.000977\n",
    "- Exterior2nd_ImStucc     0.005350\n",
    "- Exterior2nd_Other       0.000000\n",
    "- Exterior2nd_PreCast     0.000000\n",
    "- Exterior2nd_Stone       0.002925\n",
    "\n",
    "Test:\n",
    "- Exterior2nd_AsphShn     0.001139\n",
    "- Exterior2nd_BrkCmn      0.005669\n",
    "- Exterior2nd_CBlock      0.001139\n",
    "- Exterior2nd_ImStucc     0.004540\n",
    "- Exterior2nd_Other       0.001139\n",
    "- Exterior2nd_PreCast     0.001139\n",
    "- Exterior2nd_Stone       0.000000"
   ]
  },
  {
   "cell_type": "code",
   "execution_count": 19,
   "id": "865b0e6d",
   "metadata": {},
   "outputs": [],
   "source": [
    "train['Exterior2nd_Other'] = train['Exterior2nd_AsphShn'] + train['Exterior2nd_BrkCmn'] + train['Exterior2nd_CBlock'] \\\n",
    "                            + train['Exterior2nd_ImStucc'] + train['Exterior2nd_Other'] + train['Exterior2nd_PreCast'] \\\n",
    "                            + train['Exterior2nd_Stone']\n",
    "test['Exterior2nd_Other'] = test['Exterior2nd_AsphShn'] + test['Exterior2nd_BrkCmn'] + test['Exterior2nd_CBlock'] + \\\n",
    "                            test['Exterior2nd_ImStucc'] + test['Exterior2nd_Other'] + test['Exterior2nd_PreCast'] + \\\n",
    "                            test['Exterior2nd_Stone']"
   ]
  },
  {
   "cell_type": "code",
   "execution_count": 20,
   "id": "8d14c902",
   "metadata": {},
   "outputs": [],
   "source": [
    "train.drop(['Exterior2nd_AsphShn', 'Exterior2nd_BrkCmn', 'Exterior2nd_CBlock', 'Exterior2nd_ImStucc', \n",
    "            'Exterior2nd_PreCast', 'Exterior2nd_Stone'], axis=1, inplace=True)\n",
    "test.drop(['Exterior2nd_AsphShn', 'Exterior2nd_BrkCmn', 'Exterior2nd_CBlock', 'Exterior2nd_ImStucc', \n",
    "           'Exterior2nd_PreCast', 'Exterior2nd_Stone'], axis=1, inplace=True)"
   ]
  },
  {
   "cell_type": "markdown",
   "id": "60410753",
   "metadata": {},
   "source": [
    "#### Foundation\n",
    "Train:\n",
    "- Foundation_Slab      0.016350\n",
    "- Foundation_Stone     0.002439\n",
    "- Foundation_Wood      0.000977\n",
    "\n",
    "Test:\n",
    "- Foundation_Slab      0.016812\n",
    "- Foundation_Stone     0.006795\n",
    "- Foundation_Wood      0.003409"
   ]
  },
  {
   "cell_type": "code",
   "execution_count": 21,
   "id": "fa469303",
   "metadata": {},
   "outputs": [],
   "source": [
    "train['Foundation_Other'] = train['Foundation_Slab'] + train['Foundation_Stone'] + train['Foundation_Wood']\n",
    "test['Foundation_Other'] = test['Foundation_Slab'] + test['Foundation_Stone'] + test['Foundation_Wood']"
   ]
  },
  {
   "cell_type": "code",
   "execution_count": 22,
   "id": "403bf226",
   "metadata": {},
   "outputs": [],
   "source": [
    "train.drop(['Foundation_Slab', 'Foundation_Stone', 'Foundation_Wood'], axis=1, inplace=True)\n",
    "test.drop(['Foundation_Slab', 'Foundation_Stone', 'Foundation_Wood'], axis=1, inplace=True)"
   ]
  },
  {
   "cell_type": "markdown",
   "id": "eb4ab380",
   "metadata": {},
   "source": [
    "#### SaleType\n",
    "Train:\n",
    "- SaleType_CWD            0.004866\n",
    "- SaleType_Con            0.001952\n",
    "- SaleType_ConLD          0.008244\n",
    "- SaleType_ConLI          0.003411\n",
    "- SaleType_ConLw          0.002439\n",
    "- SaleType_Oth            0.001952\n",
    "- SaleType_VWD            0.000000\n",
    "\n",
    "Test:\n",
    "- SaleType_CWD            0.002275\n",
    "- SaleType_Con            0.001139\n",
    "- SaleType_ConLI          0.002275\n",
    "- SaleType_ConLw          0.003409\n",
    "- SaleType_Oth            0.003409\n",
    "- SaleType_VWD            0.001139"
   ]
  },
  {
   "cell_type": "code",
   "execution_count": 23,
   "id": "505af7c0",
   "metadata": {},
   "outputs": [],
   "source": [
    "train['SaleType_Oth'] = train['SaleType_CWD'] + train['SaleType_Con'] + train['SaleType_ConLD'] + \\\n",
    "                        train['SaleType_ConLI'] + train['SaleType_ConLw'] + train['SaleType_Oth'] + \\\n",
    "                        train['SaleType_VWD']\n",
    "test['SaleType_Oth'] = test['SaleType_CWD'] + test['SaleType_Con'] + test['SaleType_ConLD'] + test['SaleType_ConLI'] \\\n",
    "                        + test['SaleType_ConLw'] + test['SaleType_Oth'] + test['SaleType_VWD']"
   ]
  },
  {
   "cell_type": "code",
   "execution_count": 24,
   "id": "a0bcb1d0",
   "metadata": {},
   "outputs": [],
   "source": [
    "train.drop(['SaleType_CWD', 'SaleType_Con', 'SaleType_ConLD', 'SaleType_ConLI', 'SaleType_ConLw', 'SaleType_VWD'], \n",
    "           axis=1, inplace=True)\n",
    "test.drop(['SaleType_CWD', 'SaleType_Con', 'SaleType_ConLD', 'SaleType_ConLI', 'SaleType_ConLw', 'SaleType_VWD'], \n",
    "          axis=1, inplace=True)"
   ]
  },
  {
   "cell_type": "markdown",
   "id": "4af9f839",
   "metadata": {},
   "source": [
    "### 2.1.2 Correlation\n",
    "Using Pingouin to check pairwise correlation (r=Correlation coefficients). We will check for strong positive and negative correlation. Higher than 0.8 or lower than -0.8."
   ]
  },
  {
   "cell_type": "code",
   "execution_count": 25,
   "id": "391ef58c",
   "metadata": {},
   "outputs": [],
   "source": [
    "columns = train.columns\n",
    "pair_corr = pg.pairwise_corr(train, columns)"
   ]
  },
  {
   "cell_type": "code",
   "execution_count": 26,
   "id": "988773f3",
   "metadata": {},
   "outputs": [
    {
     "data": {
      "text/html": [
       "<div>\n",
       "<style scoped>\n",
       "    .dataframe tbody tr th:only-of-type {\n",
       "        vertical-align: middle;\n",
       "    }\n",
       "\n",
       "    .dataframe tbody tr th {\n",
       "        vertical-align: top;\n",
       "    }\n",
       "\n",
       "    .dataframe thead th {\n",
       "        text-align: right;\n",
       "    }\n",
       "</style>\n",
       "<table border=\"1\" class=\"dataframe\">\n",
       "  <thead>\n",
       "    <tr style=\"text-align: right;\">\n",
       "      <th></th>\n",
       "      <th>X</th>\n",
       "      <th>Y</th>\n",
       "      <th>r</th>\n",
       "    </tr>\n",
       "  </thead>\n",
       "  <tbody>\n",
       "    <tr>\n",
       "      <th>12997</th>\n",
       "      <td>BldgType_Duplex</td>\n",
       "      <td>MSSubClass_90</td>\n",
       "      <td>1.000000</td>\n",
       "    </tr>\n",
       "    <tr>\n",
       "      <th>14070</th>\n",
       "      <td>Exterior1st_CemntBd</td>\n",
       "      <td>Exterior2nd_CmentBd</td>\n",
       "      <td>0.988253</td>\n",
       "    </tr>\n",
       "    <tr>\n",
       "      <th>12914</th>\n",
       "      <td>BldgType_2fmCon</td>\n",
       "      <td>MSSubClass_190</td>\n",
       "      <td>0.977761</td>\n",
       "    </tr>\n",
       "    <tr>\n",
       "      <th>14431</th>\n",
       "      <td>Exterior1st_VinylSd</td>\n",
       "      <td>Exterior2nd_VinylSd</td>\n",
       "      <td>0.977539</td>\n",
       "    </tr>\n",
       "    <tr>\n",
       "      <th>14217</th>\n",
       "      <td>Exterior1st_MetalSd</td>\n",
       "      <td>Exterior2nd_MetalSd</td>\n",
       "      <td>0.976450</td>\n",
       "    </tr>\n",
       "    <tr>\n",
       "      <th>13663</th>\n",
       "      <td>HouseStyle_SLvl</td>\n",
       "      <td>MSSubClass_80</td>\n",
       "      <td>0.954547</td>\n",
       "    </tr>\n",
       "    <tr>\n",
       "      <th>13249</th>\n",
       "      <td>HouseStyle_1.5Story</td>\n",
       "      <td>MSSubClass_50</td>\n",
       "      <td>0.919442</td>\n",
       "    </tr>\n",
       "    <tr>\n",
       "      <th>5810</th>\n",
       "      <td>GarageCars</td>\n",
       "      <td>GarageArea</td>\n",
       "      <td>0.897599</td>\n",
       "    </tr>\n",
       "    <tr>\n",
       "      <th>14144</th>\n",
       "      <td>Exterior1st_HdBoard</td>\n",
       "      <td>Exterior2nd_HdBoard</td>\n",
       "      <td>0.887791</td>\n",
       "    </tr>\n",
       "    <tr>\n",
       "      <th>6105</th>\n",
       "      <td>GarageQual</td>\n",
       "      <td>GarageCond</td>\n",
       "      <td>0.884649</td>\n",
       "    </tr>\n",
       "    <tr>\n",
       "      <th>10256</th>\n",
       "      <td>MSZoning_FV</td>\n",
       "      <td>Neighborhood_Somerst</td>\n",
       "      <td>0.874837</td>\n",
       "    </tr>\n",
       "    <tr>\n",
       "      <th>14500</th>\n",
       "      <td>Exterior1st_WdSdng</td>\n",
       "      <td>Exterior2nd_WdSdng</td>\n",
       "      <td>0.860579</td>\n",
       "    </tr>\n",
       "    <tr>\n",
       "      <th>7245</th>\n",
       "      <td>PoolArea</td>\n",
       "      <td>PoolQC</td>\n",
       "      <td>0.857544</td>\n",
       "    </tr>\n",
       "    <tr>\n",
       "      <th>3550</th>\n",
       "      <td>2ndFlrSF</td>\n",
       "      <td>HouseStyle_2Story</td>\n",
       "      <td>0.824436</td>\n",
       "    </tr>\n",
       "    <tr>\n",
       "      <th>13919</th>\n",
       "      <td>Exterior1st_AsbShng</td>\n",
       "      <td>Exterior2nd_AsbShng</td>\n",
       "      <td>0.819804</td>\n",
       "    </tr>\n",
       "    <tr>\n",
       "      <th>3802</th>\n",
       "      <td>GrLivArea</td>\n",
       "      <td>TotRmsAbvGrd</td>\n",
       "      <td>0.812701</td>\n",
       "    </tr>\n",
       "    <tr>\n",
       "      <th>5360</th>\n",
       "      <td>Fireplaces</td>\n",
       "      <td>FireplaceQu</td>\n",
       "      <td>0.805170</td>\n",
       "    </tr>\n",
       "    <tr>\n",
       "      <th>949</th>\n",
       "      <td>OverallQual</td>\n",
       "      <td>SalePrice</td>\n",
       "      <td>0.803817</td>\n",
       "    </tr>\n",
       "  </tbody>\n",
       "</table>\n",
       "</div>"
      ],
      "text/plain": [
       "                         X                     Y         r\n",
       "12997      BldgType_Duplex         MSSubClass_90  1.000000\n",
       "14070  Exterior1st_CemntBd   Exterior2nd_CmentBd  0.988253\n",
       "12914      BldgType_2fmCon        MSSubClass_190  0.977761\n",
       "14431  Exterior1st_VinylSd   Exterior2nd_VinylSd  0.977539\n",
       "14217  Exterior1st_MetalSd   Exterior2nd_MetalSd  0.976450\n",
       "13663      HouseStyle_SLvl         MSSubClass_80  0.954547\n",
       "13249  HouseStyle_1.5Story         MSSubClass_50  0.919442\n",
       "5810            GarageCars            GarageArea  0.897599\n",
       "14144  Exterior1st_HdBoard   Exterior2nd_HdBoard  0.887791\n",
       "6105            GarageQual            GarageCond  0.884649\n",
       "10256          MSZoning_FV  Neighborhood_Somerst  0.874837\n",
       "14500   Exterior1st_WdSdng    Exterior2nd_WdSdng  0.860579\n",
       "7245              PoolArea                PoolQC  0.857544\n",
       "3550              2ndFlrSF     HouseStyle_2Story  0.824436\n",
       "13919  Exterior1st_AsbShng   Exterior2nd_AsbShng  0.819804\n",
       "3802             GrLivArea          TotRmsAbvGrd  0.812701\n",
       "5360            Fireplaces           FireplaceQu  0.805170\n",
       "949            OverallQual             SalePrice  0.803817"
      ]
     },
     "execution_count": 26,
     "metadata": {},
     "output_type": "execute_result"
    }
   ],
   "source": [
    "pair_corr.loc[pair_corr['r'] >= 0.8, ['X', 'Y', 'r']].sort_values(by='r', ascending = False).head(20)"
   ]
  },
  {
   "cell_type": "code",
   "execution_count": 27,
   "id": "9f8bf0f5",
   "metadata": {},
   "outputs": [
    {
     "data": {
      "text/html": [
       "<div>\n",
       "<style scoped>\n",
       "    .dataframe tbody tr th:only-of-type {\n",
       "        vertical-align: middle;\n",
       "    }\n",
       "\n",
       "    .dataframe tbody tr th {\n",
       "        vertical-align: top;\n",
       "    }\n",
       "\n",
       "    .dataframe thead th {\n",
       "        text-align: right;\n",
       "    }\n",
       "</style>\n",
       "<table border=\"1\" class=\"dataframe\">\n",
       "  <thead>\n",
       "    <tr style=\"text-align: right;\">\n",
       "      <th></th>\n",
       "      <th>X</th>\n",
       "      <th>Y</th>\n",
       "      <th>r</th>\n",
       "    </tr>\n",
       "  </thead>\n",
       "  <tbody>\n",
       "    <tr>\n",
       "      <th>10395</th>\n",
       "      <td>MSZoning_RL</td>\n",
       "      <td>MSZoning_RM</td>\n",
       "      <td>-0.801455</td>\n",
       "    </tr>\n",
       "    <tr>\n",
       "      <th>9815</th>\n",
       "      <td>MasVnrType_BrkFace</td>\n",
       "      <td>MasVnrType_None</td>\n",
       "      <td>-0.826490</td>\n",
       "    </tr>\n",
       "    <tr>\n",
       "      <th>6273</th>\n",
       "      <td>GarageCond</td>\n",
       "      <td>GarageType_None</td>\n",
       "      <td>-0.867613</td>\n",
       "    </tr>\n",
       "    <tr>\n",
       "      <th>6128</th>\n",
       "      <td>GarageQual</td>\n",
       "      <td>GarageType_None</td>\n",
       "      <td>-0.874681</td>\n",
       "    </tr>\n",
       "    <tr>\n",
       "      <th>10843</th>\n",
       "      <td>LotShape_IR1</td>\n",
       "      <td>LotShape_Reg</td>\n",
       "      <td>-0.937744</td>\n",
       "    </tr>\n",
       "    <tr>\n",
       "      <th>13676</th>\n",
       "      <td>RoofStyle_Gable</td>\n",
       "      <td>RoofStyle_Hip</td>\n",
       "      <td>-0.949623</td>\n",
       "    </tr>\n",
       "    <tr>\n",
       "      <th>12180</th>\n",
       "      <td>LandSlope_Gtl</td>\n",
       "      <td>LandSlope_Mod</td>\n",
       "      <td>-0.955013</td>\n",
       "    </tr>\n",
       "    <tr>\n",
       "      <th>48</th>\n",
       "      <td>Id</td>\n",
       "      <td>YrSold</td>\n",
       "      <td>-0.975766</td>\n",
       "    </tr>\n",
       "    <tr>\n",
       "      <th>13907</th>\n",
       "      <td>RoofMatl_CompShg</td>\n",
       "      <td>RoofMatl_Othr</td>\n",
       "      <td>-1.000000</td>\n",
       "    </tr>\n",
       "    <tr>\n",
       "      <th>10620</th>\n",
       "      <td>Street_Grvl</td>\n",
       "      <td>Street_Pave</td>\n",
       "      <td>-1.000000</td>\n",
       "    </tr>\n",
       "    <tr>\n",
       "      <th>12465</th>\n",
       "      <td>Heating_GasA</td>\n",
       "      <td>Heating_OthW</td>\n",
       "      <td>-1.000000</td>\n",
       "    </tr>\n",
       "  </tbody>\n",
       "</table>\n",
       "</div>"
      ],
      "text/plain": [
       "                        X                Y         r\n",
       "10395         MSZoning_RL      MSZoning_RM -0.801455\n",
       "9815   MasVnrType_BrkFace  MasVnrType_None -0.826490\n",
       "6273           GarageCond  GarageType_None -0.867613\n",
       "6128           GarageQual  GarageType_None -0.874681\n",
       "10843        LotShape_IR1     LotShape_Reg -0.937744\n",
       "13676     RoofStyle_Gable    RoofStyle_Hip -0.949623\n",
       "12180       LandSlope_Gtl    LandSlope_Mod -0.955013\n",
       "48                     Id           YrSold -0.975766\n",
       "13907    RoofMatl_CompShg    RoofMatl_Othr -1.000000\n",
       "10620         Street_Grvl      Street_Pave -1.000000\n",
       "12465        Heating_GasA     Heating_OthW -1.000000"
      ]
     },
     "execution_count": 27,
     "metadata": {},
     "output_type": "execute_result"
    }
   ],
   "source": [
    "pair_corr.loc[pair_corr['r'] <= -0.8, ['X', 'Y', 'r']].sort_values(by='r', ascending = False).head(20)"
   ]
  },
  {
   "cell_type": "markdown",
   "id": "93e45ecd",
   "metadata": {},
   "source": [
    "#### Exterior\n",
    "Notice that alot of Exterior1st and Exterior2nd features have strong correlation. We will proceed to use their mean value rather than choosing which to drop."
   ]
  },
  {
   "cell_type": "code",
   "execution_count": 28,
   "id": "cbab22ce",
   "metadata": {
    "scrolled": false
   },
   "outputs": [
    {
     "data": {
      "text/html": [
       "<div>\n",
       "<style scoped>\n",
       "    .dataframe tbody tr th:only-of-type {\n",
       "        vertical-align: middle;\n",
       "    }\n",
       "\n",
       "    .dataframe tbody tr th {\n",
       "        vertical-align: top;\n",
       "    }\n",
       "\n",
       "    .dataframe thead th {\n",
       "        text-align: right;\n",
       "    }\n",
       "</style>\n",
       "<table border=\"1\" class=\"dataframe\">\n",
       "  <thead>\n",
       "    <tr style=\"text-align: right;\">\n",
       "      <th></th>\n",
       "      <th>X</th>\n",
       "      <th>Y</th>\n",
       "      <th>r</th>\n",
       "    </tr>\n",
       "  </thead>\n",
       "  <tbody>\n",
       "    <tr>\n",
       "      <th>14070</th>\n",
       "      <td>Exterior1st_CemntBd</td>\n",
       "      <td>Exterior2nd_CmentBd</td>\n",
       "      <td>0.988253</td>\n",
       "    </tr>\n",
       "    <tr>\n",
       "      <th>14431</th>\n",
       "      <td>Exterior1st_VinylSd</td>\n",
       "      <td>Exterior2nd_VinylSd</td>\n",
       "      <td>0.977539</td>\n",
       "    </tr>\n",
       "    <tr>\n",
       "      <th>14217</th>\n",
       "      <td>Exterior1st_MetalSd</td>\n",
       "      <td>Exterior2nd_MetalSd</td>\n",
       "      <td>0.976450</td>\n",
       "    </tr>\n",
       "    <tr>\n",
       "      <th>14144</th>\n",
       "      <td>Exterior1st_HdBoard</td>\n",
       "      <td>Exterior2nd_HdBoard</td>\n",
       "      <td>0.887791</td>\n",
       "    </tr>\n",
       "    <tr>\n",
       "      <th>14500</th>\n",
       "      <td>Exterior1st_WdSdng</td>\n",
       "      <td>Exterior2nd_WdSdng</td>\n",
       "      <td>0.860579</td>\n",
       "    </tr>\n",
       "    <tr>\n",
       "      <th>13919</th>\n",
       "      <td>Exterior1st_AsbShng</td>\n",
       "      <td>Exterior2nd_AsbShng</td>\n",
       "      <td>0.819804</td>\n",
       "    </tr>\n",
       "    <tr>\n",
       "      <th>14290</th>\n",
       "      <td>Exterior1st_Plywood</td>\n",
       "      <td>Exterior2nd_Plywood</td>\n",
       "      <td>0.715010</td>\n",
       "    </tr>\n",
       "    <tr>\n",
       "      <th>14361</th>\n",
       "      <td>Exterior1st_Stucco</td>\n",
       "      <td>Exterior2nd_Stucco</td>\n",
       "      <td>0.687763</td>\n",
       "    </tr>\n",
       "    <tr>\n",
       "      <th>13995</th>\n",
       "      <td>Exterior1st_BrkFace</td>\n",
       "      <td>Exterior2nd_BrkFace</td>\n",
       "      <td>0.679487</td>\n",
       "    </tr>\n",
       "    <tr>\n",
       "      <th>14568</th>\n",
       "      <td>Exterior1st_WdShing</td>\n",
       "      <td>Exterior2nd_WdShng</td>\n",
       "      <td>0.629149</td>\n",
       "    </tr>\n",
       "    <tr>\n",
       "      <th>15004</th>\n",
       "      <td>Exterior2nd_Other</td>\n",
       "      <td>Exterior1st_Other</td>\n",
       "      <td>0.368812</td>\n",
       "    </tr>\n",
       "    <tr>\n",
       "      <th>14289</th>\n",
       "      <td>Exterior1st_Plywood</td>\n",
       "      <td>Exterior2nd_Other</td>\n",
       "      <td>0.193061</td>\n",
       "    </tr>\n",
       "    <tr>\n",
       "      <th>14564</th>\n",
       "      <td>Exterior1st_WdShing</td>\n",
       "      <td>Exterior2nd_Plywood</td>\n",
       "      <td>0.057697</td>\n",
       "    </tr>\n",
       "    <tr>\n",
       "      <th>14003</th>\n",
       "      <td>Exterior1st_BrkFace</td>\n",
       "      <td>Exterior2nd_WdSdng</td>\n",
       "      <td>0.057532</td>\n",
       "    </tr>\n",
       "    <tr>\n",
       "      <th>14364</th>\n",
       "      <td>Exterior1st_Stucco</td>\n",
       "      <td>Exterior2nd_WdShng</td>\n",
       "      <td>0.055554</td>\n",
       "    </tr>\n",
       "  </tbody>\n",
       "</table>\n",
       "</div>"
      ],
      "text/plain": [
       "                         X                    Y         r\n",
       "14070  Exterior1st_CemntBd  Exterior2nd_CmentBd  0.988253\n",
       "14431  Exterior1st_VinylSd  Exterior2nd_VinylSd  0.977539\n",
       "14217  Exterior1st_MetalSd  Exterior2nd_MetalSd  0.976450\n",
       "14144  Exterior1st_HdBoard  Exterior2nd_HdBoard  0.887791\n",
       "14500   Exterior1st_WdSdng   Exterior2nd_WdSdng  0.860579\n",
       "13919  Exterior1st_AsbShng  Exterior2nd_AsbShng  0.819804\n",
       "14290  Exterior1st_Plywood  Exterior2nd_Plywood  0.715010\n",
       "14361   Exterior1st_Stucco   Exterior2nd_Stucco  0.687763\n",
       "13995  Exterior1st_BrkFace  Exterior2nd_BrkFace  0.679487\n",
       "14568  Exterior1st_WdShing   Exterior2nd_WdShng  0.629149\n",
       "15004    Exterior2nd_Other    Exterior1st_Other  0.368812\n",
       "14289  Exterior1st_Plywood    Exterior2nd_Other  0.193061\n",
       "14564  Exterior1st_WdShing  Exterior2nd_Plywood  0.057697\n",
       "14003  Exterior1st_BrkFace   Exterior2nd_WdSdng  0.057532\n",
       "14364   Exterior1st_Stucco   Exterior2nd_WdShng  0.055554"
      ]
     },
     "execution_count": 28,
     "metadata": {},
     "output_type": "execute_result"
    }
   ],
   "source": [
    "pair_corr.loc[pair_corr['X'].str.contains(r'Exterior(?!$)') & pair_corr['Y'].str.contains(r'Exterior(?!$)'), \n",
    "              ['X', 'Y', 'r']].sort_values('r', ascending=False).head(15)"
   ]
  },
  {
   "cell_type": "code",
   "execution_count": 29,
   "id": "5bd34000",
   "metadata": {},
   "outputs": [
    {
     "data": {
      "text/plain": [
       "Index(['Exterior1st_AsbShng', 'Exterior1st_BrkFace', 'Exterior1st_CemntBd',\n",
       "       'Exterior1st_HdBoard', 'Exterior1st_MetalSd', 'Exterior1st_Plywood',\n",
       "       'Exterior1st_Stucco', 'Exterior1st_VinylSd', 'Exterior1st_WdSdng',\n",
       "       'Exterior1st_WdShing', 'Exterior1st_Other'],\n",
       "      dtype='object')"
      ]
     },
     "execution_count": 29,
     "metadata": {},
     "output_type": "execute_result"
    }
   ],
   "source": [
    "train.columns[train.columns.str.contains('Exterior1st')]"
   ]
  },
  {
   "cell_type": "code",
   "execution_count": 30,
   "id": "893b534e",
   "metadata": {},
   "outputs": [
    {
     "data": {
      "text/plain": [
       "Index(['Exterior2nd_AsbShng', 'Exterior2nd_BrkFace', 'Exterior2nd_CmentBd',\n",
       "       'Exterior2nd_HdBoard', 'Exterior2nd_MetalSd', 'Exterior2nd_Other',\n",
       "       'Exterior2nd_Plywood', 'Exterior2nd_Stucco', 'Exterior2nd_VinylSd',\n",
       "       'Exterior2nd_WdSdng', 'Exterior2nd_WdShng'],\n",
       "      dtype='object')"
      ]
     },
     "execution_count": 30,
     "metadata": {},
     "output_type": "execute_result"
    }
   ],
   "source": [
    "train.columns[train.columns.str.contains('Exterior2nd')]"
   ]
  },
  {
   "cell_type": "code",
   "execution_count": 31,
   "id": "8563f340",
   "metadata": {},
   "outputs": [],
   "source": [
    "train['Exterior_AsbShng'] = (train['Exterior1st_AsbShng'] + train['Exterior2nd_AsbShng']) / 2 \n",
    "train['Exterior_BrkFace'] = (train['Exterior1st_BrkFace'] + train['Exterior2nd_BrkFace']) / 2 \n",
    "train['Exterior_CmentBd'] = (train['Exterior1st_CemntBd'] + train['Exterior2nd_CmentBd']) / 2 \n",
    "train['Exterior_HdBoard'] = (train['Exterior1st_HdBoard'] + train['Exterior2nd_HdBoard']) / 2 \n",
    "train['Exterior_MetalSd'] = (train['Exterior1st_MetalSd'] + train['Exterior2nd_MetalSd']) / 2 \n",
    "train['Exterior_Other'] = (train['Exterior1st_Other'] + train['Exterior2nd_Other']) / 2 \n",
    "train['Exterior_Plywood'] = (train['Exterior1st_Plywood'] + train['Exterior2nd_Plywood']) / 2 \n",
    "train['Exterior_Stucco'] = (train['Exterior1st_Stucco'] + train['Exterior2nd_Stucco']) / 2 \n",
    "train['Exterior_VinylSd'] = (train['Exterior1st_VinylSd'] + train['Exterior2nd_VinylSd']) / 2 \n",
    "train['Exterior_WdSdng'] = (train['Exterior1st_WdSdng'] + train['Exterior2nd_WdSdng']) / 2 \n",
    "train['Exterior_WdShing'] = (train['Exterior1st_WdShing'] + train['Exterior2nd_WdShng']) / 2 "
   ]
  },
  {
   "cell_type": "code",
   "execution_count": 32,
   "id": "b1285724",
   "metadata": {},
   "outputs": [],
   "source": [
    "test['Exterior_AsbShng'] = (test['Exterior1st_AsbShng'] + test['Exterior2nd_AsbShng']) / 2 \n",
    "test['Exterior_BrkFace'] = (test['Exterior1st_BrkFace'] + test['Exterior2nd_BrkFace']) / 2 \n",
    "test['Exterior_CmentBd'] = (test['Exterior1st_CemntBd'] + test['Exterior2nd_CmentBd']) / 2 \n",
    "test['Exterior_HdBoard'] = (test['Exterior1st_HdBoard'] + test['Exterior2nd_HdBoard']) / 2 \n",
    "test['Exterior_MetalSd'] = (test['Exterior1st_MetalSd'] + test['Exterior2nd_MetalSd']) / 2 \n",
    "test['Exterior_Other'] = (test['Exterior1st_Other'] + test['Exterior2nd_Other']) / 2 \n",
    "test['Exterior_Plywood'] = (test['Exterior1st_Plywood'] + test['Exterior2nd_Plywood']) / 2 \n",
    "test['Exterior_Stucco'] = (test['Exterior1st_Stucco'] + test['Exterior2nd_Stucco']) / 2 \n",
    "test['Exterior_VinylSd'] = (test['Exterior1st_VinylSd'] + test['Exterior2nd_VinylSd']) / 2 \n",
    "test['Exterior_WdSdng'] = (test['Exterior1st_WdSdng'] + test['Exterior2nd_WdSdng']) / 2 \n",
    "test['Exterior_WdShing'] = (test['Exterior1st_WdShing'] + test['Exterior2nd_WdShng']) / 2 "
   ]
  },
  {
   "cell_type": "code",
   "execution_count": 33,
   "id": "0909437e",
   "metadata": {},
   "outputs": [],
   "source": [
    "train.drop(['Exterior1st_AsbShng', 'Exterior1st_BrkFace', 'Exterior1st_CemntBd', 'Exterior1st_HdBoard', \n",
    "            'Exterior1st_MetalSd', 'Exterior1st_Plywood', 'Exterior1st_Stucco', 'Exterior1st_VinylSd', \n",
    "            'Exterior1st_WdSdng', 'Exterior1st_WdShing', 'Exterior1st_Other', 'Exterior2nd_AsbShng', \n",
    "            'Exterior2nd_BrkFace', 'Exterior2nd_CmentBd', 'Exterior2nd_HdBoard', 'Exterior2nd_MetalSd', \n",
    "            'Exterior2nd_Other', 'Exterior2nd_Plywood', 'Exterior2nd_Stucco', 'Exterior2nd_VinylSd', \n",
    "            'Exterior2nd_WdSdng', 'Exterior2nd_WdShng'], axis=1, inplace=True)\n",
    "test.drop(['Exterior1st_AsbShng', 'Exterior1st_BrkFace', 'Exterior1st_CemntBd', 'Exterior1st_HdBoard', \n",
    "            'Exterior1st_MetalSd', 'Exterior1st_Plywood', 'Exterior1st_Stucco', 'Exterior1st_VinylSd', \n",
    "            'Exterior1st_WdSdng', 'Exterior1st_WdShing', 'Exterior1st_Other', 'Exterior2nd_AsbShng', \n",
    "            'Exterior2nd_BrkFace', 'Exterior2nd_CmentBd', 'Exterior2nd_HdBoard', 'Exterior2nd_MetalSd', \n",
    "            'Exterior2nd_Other', 'Exterior2nd_Plywood', 'Exterior2nd_Stucco', 'Exterior2nd_VinylSd', \n",
    "            'Exterior2nd_WdSdng', 'Exterior2nd_WdShng'], axis=1, inplace=True)"
   ]
  },
  {
   "cell_type": "markdown",
   "id": "e7f0e411",
   "metadata": {},
   "source": [
    "#### BldgType, MSSubClass\n",
    "Dropping MSSubClass over BldgType as there are info derive from it.\n",
    "\n",
    "|X|Y|r|\n",
    "|----|----|----|\n",
    "|BldgType_Duplex|MSSubClass_90|1.000000|\n",
    "|BldgType_2fmCon|MSSubClass_190|0.977761|"
   ]
  },
  {
   "cell_type": "code",
   "execution_count": 34,
   "id": "ca31c2fb",
   "metadata": {},
   "outputs": [],
   "source": [
    "train.drop(['MSSubClass_90', 'MSSubClass_190'], axis=1, inplace=True)\n",
    "test.drop(['MSSubClass_90', 'MSSubClass_190'], axis=1, inplace=True)"
   ]
  },
  {
   "cell_type": "markdown",
   "id": "751b458d",
   "metadata": {},
   "source": [
    "#### HouseStyle, MSSubClass\n",
    "Dropping MSSubClass over HouseStyle as there are info derive from it.\n",
    "\n",
    "|X|Y|r|\n",
    "|----|----|----|\n",
    "|HouseStyle_SLvl|MSSubClass_80|0.954547|\n",
    "|HouseStyle_1.5Story|MSSubClass_50|0.919442|\n",
    "|2ndFlrSF|HouseStyle_2Story|0.824436|"
   ]
  },
  {
   "cell_type": "code",
   "execution_count": 35,
   "id": "43966add",
   "metadata": {},
   "outputs": [],
   "source": [
    "train.drop(['MSSubClass_80', 'MSSubClass_50', 'HouseStyle_2Story'], axis=1, inplace=True)\n",
    "test.drop(['MSSubClass_80', 'MSSubClass_50', 'HouseStyle_2Story'], axis=1, inplace=True)"
   ]
  },
  {
   "cell_type": "markdown",
   "id": "5d0cc475",
   "metadata": {},
   "source": [
    "#### Garage\n",
    "\n",
    "|X|Y|r|\n",
    "|----|----|----|\n",
    "|GarageCars|GarageArea|0.897599\n",
    "|GarageQual|GarageCond|0.884649\n",
    "|GarageCond|GarageType_None|-0.867613\n",
    "|GarageQual|GarageType_None|-0.874681"
   ]
  },
  {
   "cell_type": "code",
   "execution_count": 36,
   "id": "8e9d5ec3",
   "metadata": {},
   "outputs": [],
   "source": [
    "train.drop(['GarageArea', 'GarageQual', 'GarageType_None'], axis=1, inplace=True)\n",
    "test.drop(['GarageArea', 'GarageQual', 'GarageType_None'], axis=1, inplace=True)"
   ]
  },
  {
   "cell_type": "markdown",
   "id": "466805e5",
   "metadata": {},
   "source": [
    "#### MSZoning, Neighborhood\n",
    "\n",
    "|X|Y|r|\n",
    "|----|----|----|\n",
    "|MSZoning_FV|Neighborhood_Somerst|0.874837|\n",
    "|MSZoning_RL|MSZoning_RM|-0.801455|"
   ]
  },
  {
   "cell_type": "code",
   "execution_count": 37,
   "id": "02105cd0",
   "metadata": {},
   "outputs": [],
   "source": [
    "train.drop(['Neighborhood_Somerst', 'MSZoning_RM'], axis=1, inplace=True)\n",
    "test.drop(['Neighborhood_Somerst', 'MSZoning_RM'], axis=1, inplace=True)"
   ]
  },
  {
   "cell_type": "markdown",
   "id": "254676a5",
   "metadata": {},
   "source": [
    "#### The Rest\n",
    "\n",
    "|X|Y|r|\n",
    "|----|----|----|\n",
    "|PoolArea|PoolQC|0.857544|\n",
    "|GrLivArea|TotRmsAbvGrd|0.812701|\n",
    "|Fireplaces|FireplaceQu|0.805170|\n",
    "|MasVnrType_BrkFace|MasVnrType_None|-0.826490|\n",
    "|LotShape_IR1|LotShape_Reg|-0.937744|\n",
    "|RoofStyle_Gable|RoofStyle_Hip|-0.949623|\n",
    "|LandSlope_Gtl|LandSlope_Mod|-0.955013|\n",
    "|RoofMatl_CompShg|RoofMatl_Othr|-1.000000|\n",
    "|Street_Grvl|Street_Pave|-1.000000|\n",
    "|Heating_GasA|Heating_OthW|-1.000000|"
   ]
  },
  {
   "cell_type": "code",
   "execution_count": 38,
   "id": "9a2a21c0",
   "metadata": {},
   "outputs": [],
   "source": [
    "train.drop(['PoolQC', 'TotRmsAbvGrd', 'FireplaceQu', 'MasVnrType_None', 'LotShape_IR1', 'RoofStyle_Gable', \n",
    "            'LandSlope_Gtl', 'Street_Grvl', 'RoofMatl_Othr', 'Heating_OthW'], axis=1, inplace=True)\n",
    "test.drop(['PoolQC', 'TotRmsAbvGrd', 'FireplaceQu', 'MasVnrType_None', 'LotShape_IR1', 'RoofStyle_Gable', \n",
    "           'LandSlope_Gtl', 'Street_Grvl', 'RoofMatl_Othr', 'Heating_OthW'], axis=1, inplace=True)"
   ]
  },
  {
   "cell_type": "markdown",
   "id": "907866f4",
   "metadata": {},
   "source": [
    "### 2.1.3 P-Value\n",
    "We will check for p-value higher than 0.05."
   ]
  },
  {
   "cell_type": "code",
   "execution_count": 39,
   "id": "cd3f8d23",
   "metadata": {},
   "outputs": [],
   "source": [
    "features = [col for col in train._get_numeric_data().columns[2:] if col != 'SalePrice']\n",
    "X = train[features]\n",
    "y = train['SalePrice']"
   ]
  },
  {
   "cell_type": "code",
   "execution_count": 40,
   "id": "4fc4005f",
   "metadata": {},
   "outputs": [
    {
     "name": "stdout",
     "output_type": "stream",
     "text": [
      "                            OLS Regression Results                            \n",
      "==============================================================================\n",
      "Dep. Variable:              SalePrice   R-squared:                       0.927\n",
      "Model:                            OLS   Adj. R-squared:                  0.922\n",
      "Method:                 Least Squares   F-statistic:                     169.8\n",
      "Date:                Sat, 29 Oct 2022   Prob (F-statistic):               0.00\n",
      "Time:                        08:13:34   Log-Likelihood:                -23300.\n",
      "No. Observations:                2046   AIC:                         4.689e+04\n",
      "Df Residuals:                    1902   BIC:                         4.770e+04\n",
      "Df Model:                         143                                         \n",
      "Covariance Type:            nonrobust                                         \n",
      "========================================================================================\n",
      "                           coef    std err          t      P>|t|      [0.025      0.975]\n",
      "----------------------------------------------------------------------------------------\n",
      "const                -1.497e+04   3.63e+05     -0.041      0.967   -7.27e+05    6.97e+05\n",
      "LotFrontage            133.7670     39.895      3.353      0.001      55.525     212.009\n",
      "LotArea                  1.1329      0.144      7.846      0.000       0.850       1.416\n",
      "Alley                 1016.1199   1462.070      0.695      0.487   -1851.308    3883.548\n",
      "OverallQual           8110.4769    778.663     10.416      0.000    6583.354    9637.600\n",
      "OverallCond           5638.2840    665.613      8.471      0.000    4332.876    6943.692\n",
      "YearBuilt              365.9842     66.547      5.500      0.000     235.472     496.497\n",
      "YearRemod/Add           59.2163     43.500      1.361      0.174     -26.097     144.529\n",
      "MasVnrArea              33.0867      4.704      7.034      0.000      23.861      42.313\n",
      "ExterQual             8205.4015   1643.706      4.992      0.000    4981.745    1.14e+04\n",
      "ExterCond            -2134.3946   1576.079     -1.354      0.176   -5225.420     956.631\n",
      "BsmtQual              2857.1971   1316.486      2.170      0.030     275.289    5439.105\n",
      "BsmtCond             -3655.4996   1553.793     -2.353      0.019   -6702.817    -608.183\n",
      "BsmtExposure          4051.8650    662.774      6.113      0.000    2752.024    5351.706\n",
      "TotalBsmtSF             14.7229      2.915      5.050      0.000       9.005      20.441\n",
      "HeatingQC             1084.7084    736.894      1.472      0.141    -360.497    2529.914\n",
      "CentralAir           -5568.2550   2684.494     -2.074      0.038   -1.08e+04    -303.393\n",
      "Electrical           -2748.8860   2032.798     -1.352      0.176   -6735.633    1237.861\n",
      "1stFlrSF                16.0866      3.994      4.027      0.000       8.253      23.920\n",
      "2ndFlrSF                18.5160      3.692      5.015      0.000      11.275      25.757\n",
      "LowQualFinSF             4.7604      8.489      0.561      0.575     -11.888      21.409\n",
      "GrLivArea               39.3630      3.495     11.261      0.000      32.508      46.218\n",
      "BsmtFullBath          3330.6905   1487.323      2.239      0.025     413.734    6247.647\n",
      "BsmtHalfBath           490.7008   2228.826      0.220      0.826   -3880.500    4861.901\n",
      "FullBath              1373.2962   1637.213      0.839      0.402   -1837.626    4584.218\n",
      "HalfBath              1893.8483   1602.565      1.182      0.237   -1249.122    5036.818\n",
      "BedroomAbvGr         -3857.8672    954.060     -4.044      0.000   -5728.982   -1986.752\n",
      "KitchenAbvGr         -8424.6699   4756.897     -1.771      0.077   -1.78e+04     904.614\n",
      "KitchenQual           6519.4335   1266.845      5.146      0.000    4034.883    9003.984\n",
      "Functional            1.257e+04   1747.100      7.197      0.000    9147.513     1.6e+04\n",
      "Fireplaces            3055.1296   1058.475      2.886      0.004     979.236    5131.023\n",
      "GarageFinish           762.1961    935.595      0.815      0.415   -1072.704    2597.097\n",
      "GarageCars            5765.3976   1274.852      4.522      0.000    3265.142    8265.653\n",
      "GarageCond            2513.6192   2135.963      1.177      0.239   -1675.457    6702.695\n",
      "PavedDrive            1170.1242   1246.384      0.939      0.348   -1274.300    3614.548\n",
      "WoodDeckSF              10.0971      4.537      2.225      0.026       1.198      18.996\n",
      "OpenPorchSF              8.9722      8.856      1.013      0.311      -8.396      26.340\n",
      "EnclosedPorch            2.0767      9.644      0.215      0.830     -16.837      20.991\n",
      "3SsnPorch               10.4302     20.129      0.518      0.604     -29.047      49.907\n",
      "ScreenPorch             63.4101      9.449      6.711      0.000      44.879      81.941\n",
      "PoolArea                 7.6636     15.251      0.503      0.615     -22.247      37.574\n",
      "Fence                 -424.6490    632.610     -0.671      0.502   -1665.331     816.033\n",
      "MoSold                -177.5998    189.528     -0.937      0.349    -549.304     194.104\n",
      "YrSold                -440.2005    399.833     -1.101      0.271   -1224.358     343.957\n",
      "MiscFeature_Gar2         0.3672      1.444      0.254      0.799      -2.466       3.200\n",
      "MiscFeature_Othr         4.0359      2.928      1.378      0.168      -1.707       9.779\n",
      "MiscFeature_Shed         1.0936      2.770      0.395      0.693      -4.340       6.527\n",
      "MiscFeature_TenC       -24.7185     12.110     -2.041      0.041     -48.469      -0.968\n",
      "GarageType_2Types     -2.58e+04   7825.353     -3.297      0.001   -4.11e+04   -1.04e+04\n",
      "GarageType_Attchd    -1.602e+04   5222.404     -3.067      0.002   -2.63e+04   -5772.922\n",
      "GarageType_Basment   -1.751e+04   7121.505     -2.459      0.014   -3.15e+04   -3541.536\n",
      "GarageType_BuiltIn   -1.301e+04   5812.765     -2.238      0.025   -2.44e+04   -1611.774\n",
      "GarageType_CarPort   -1.637e+04   8572.797     -1.909      0.056   -3.32e+04     448.065\n",
      "GarageType_Detchd    -1.151e+04   5069.585     -2.270      0.023   -2.15e+04   -1565.270\n",
      "GarageYrBltDiff         21.8641     44.018      0.497      0.619     -64.464     108.192\n",
      "BsmtLivArea             21.1944      2.125      9.975      0.000      17.027      25.362\n",
      "BsmtFin               -455.9988    350.873     -1.300      0.194   -1144.135     232.137\n",
      "MasVnrType_BrkFace   -6259.8413   1724.247     -3.630      0.000   -9641.455   -2878.227\n",
      "MasVnrType_Stone      3871.0616   2391.528      1.619      0.106    -819.233    8561.356\n",
      "MSZoning_FV           1.338e+04   5753.146      2.326      0.020    2099.981    2.47e+04\n",
      "MSZoning_RH            1.42e+04   7319.303      1.940      0.053    -155.723    2.86e+04\n",
      "MSZoning_RL           6717.9675   2932.343      2.291      0.022     967.021    1.25e+04\n",
      "Street_Pave           9254.0919   9267.065      0.999      0.318   -8920.587    2.74e+04\n",
      "LotShape_IR2          4148.7663   3465.044      1.197      0.231   -2646.920    1.09e+04\n",
      "LotShape_IR3         -1.174e+04   8148.921     -1.440      0.150   -2.77e+04    4244.374\n",
      "LotShape_Reg          2300.3190   1279.869      1.797      0.072    -209.775    4810.413\n",
      "LotConfig_Corner     -3984.3202   7.27e+04     -0.055      0.956   -1.47e+05    1.39e+05\n",
      "LotConfig_CulDSac     5601.1860   7.27e+04      0.077      0.939   -1.37e+05    1.48e+05\n",
      "LotConfig_FR2        -2547.3408   7.27e+04     -0.035      0.972   -1.45e+05     1.4e+05\n",
      "LotConfig_FR3        -1.344e+04   7.28e+04     -0.184      0.854   -1.56e+05    1.29e+05\n",
      "LotConfig_Inside      -607.8078   7.26e+04     -0.008      0.993   -1.43e+05    1.42e+05\n",
      "LandContour_Bnk      -7718.9449   9.09e+04     -0.085      0.932   -1.86e+05    1.71e+05\n",
      "LandContour_HLS       7361.1850   9.08e+04      0.081      0.935   -1.71e+05    1.85e+05\n",
      "LandContour_Low      -8473.4022   9.08e+04     -0.093      0.926   -1.86e+05     1.7e+05\n",
      "LandContour_Lvl      -6142.1596   9.08e+04     -0.068      0.946   -1.84e+05    1.72e+05\n",
      "LandSlope_Mod         1454.4938   3186.290      0.456      0.648   -4794.496    7703.483\n",
      "LandSlope_Sev        -8576.1441   8595.555     -0.998      0.319   -2.54e+04    8281.561\n",
      "Heating_GasA          9809.1243   4550.081      2.156      0.031     885.451    1.87e+04\n",
      "Condition             8516.9501   1581.745      5.385      0.000    5414.813    1.16e+04\n",
      "BldgType_1Fam        -1426.1570   7.28e+04     -0.020      0.984   -1.44e+05    1.41e+05\n",
      "BldgType_2fmCon      -9891.4047   7.27e+04     -0.136      0.892   -1.52e+05    1.33e+05\n",
      "BldgType_Duplex      -1.028e+04    7.3e+04     -0.141      0.888   -1.53e+05    1.33e+05\n",
      "BldgType_Twnhs         646.9811   7.31e+04      0.009      0.993   -1.43e+05    1.44e+05\n",
      "BldgType_TwnhsE       5980.7316   7.31e+04      0.082      0.935   -1.37e+05    1.49e+05\n",
      "HouseStyle_1.5Story   3371.1159   6091.867      0.553      0.580   -8576.327    1.53e+04\n",
      "HouseStyle_1Story     5357.1452   6465.494      0.829      0.407   -7323.059     1.8e+04\n",
      "HouseStyle_2.5Fin    -3792.7679   1.15e+04     -0.330      0.742   -2.64e+04    1.88e+04\n",
      "HouseStyle_SFoyer     -865.5524   8533.131     -0.101      0.919   -1.76e+04    1.59e+04\n",
      "HouseStyle_SLvl      -1360.8458   7173.151     -0.190      0.850   -1.54e+04    1.27e+04\n",
      "RoofStyle_Hip         4711.0935   1463.692      3.219      0.001    1840.483    7581.704\n",
      "RoofMatl_CompShg     -4346.6264   5920.465     -0.734      0.463    -1.6e+04    7264.661\n",
      "Foundation_BrkTil    -7386.4430   9.07e+04     -0.081      0.935   -1.85e+05    1.71e+05\n",
      "Foundation_CBlock    -8500.2160   9.08e+04     -0.094      0.925   -1.87e+05     1.7e+05\n",
      "Foundation_PConc     -4974.4179   9.08e+04     -0.055      0.956   -1.83e+05    1.73e+05\n",
      "SaleType_COD         -1.491e+04   9.09e+04     -0.164      0.870   -1.93e+05    1.63e+05\n",
      "SaleType_New          6943.7043   9.05e+04      0.077      0.939   -1.71e+05    1.84e+05\n",
      "SaleType_Oth          1066.4849    9.1e+04      0.012      0.991   -1.77e+05     1.8e+05\n",
      "SaleType_WD          -8076.5468   9.08e+04     -0.089      0.929   -1.86e+05     1.7e+05\n",
      "Neighborhood_Blmngtn  6605.2778   7008.080      0.943      0.346   -7139.052    2.03e+04\n",
      "Neighborhood_Blueste  1.745e+04   1.13e+04      1.543      0.123   -4726.609    3.96e+04\n",
      "Neighborhood_BrDale   2.843e+04   8893.073      3.197      0.001     1.1e+04    4.59e+04\n",
      "Neighborhood_BrkSide  2806.3520   6356.825      0.441      0.659   -9660.729    1.53e+04\n",
      "Neighborhood_ClearCr -2421.8235   6985.418     -0.347      0.729   -1.61e+04    1.13e+04\n",
      "Neighborhood_CollgCr -9325.9671   4725.344     -1.974      0.049   -1.86e+04     -58.566\n",
      "Neighborhood_Crawfor  3357.7894   5862.252      0.573      0.567   -8139.330    1.49e+04\n",
      "Neighborhood_Edwards -7849.6634   5356.727     -1.465      0.143   -1.84e+04    2656.014\n",
      "Neighborhood_Gilbert -1.002e+04   5096.909     -1.966      0.049      -2e+04     -26.918\n",
      "Neighborhood_Greens   7192.2241   1.45e+04      0.495      0.621   -2.13e+04    3.57e+04\n",
      "Neighborhood_GrnHill  1.197e+05   1.71e+04      7.012      0.000    8.62e+04    1.53e+05\n",
      "Neighborhood_IDOTRR   -433.8724   7118.952     -0.061      0.951   -1.44e+04    1.35e+04\n",
      "Neighborhood_Landmrk  6011.8463   2.43e+04      0.247      0.805   -4.17e+04    5.37e+04\n",
      "Neighborhood_MeadowV  1.102e+04   8885.845      1.240      0.215   -6411.145    2.84e+04\n",
      "Neighborhood_Mitchel -4822.1022   5364.308     -0.899      0.369   -1.53e+04    5698.443\n",
      "Neighborhood_NAmes   -7206.3030   5183.076     -1.390      0.165   -1.74e+04    2958.807\n",
      "Neighborhood_NPkVill  2.434e+04   8527.827      2.854      0.004    7611.674    4.11e+04\n",
      "Neighborhood_NWAmes  -1.275e+04   5378.471     -2.370      0.018   -2.33e+04   -2197.142\n",
      "Neighborhood_NoRidge  1.434e+04   5742.886      2.497      0.013    3075.539    2.56e+04\n",
      "Neighborhood_NridgHt   2.62e+04   4830.040      5.425      0.000    1.67e+04    3.57e+04\n",
      "Neighborhood_OldTown -3427.0115   6416.880     -0.534      0.593    -1.6e+04    9157.851\n",
      "Neighborhood_SWISU   -7735.0338   6866.853     -1.126      0.260   -2.12e+04    5732.321\n",
      "Neighborhood_Sawyer  -3736.4241   5429.771     -0.688      0.491   -1.44e+04    6912.508\n",
      "Neighborhood_SawyerW -1.193e+04   5127.742     -2.327      0.020    -2.2e+04   -1873.224\n",
      "Neighborhood_StoneBr  4.149e+04   6194.604      6.698      0.000    2.93e+04    5.36e+04\n",
      "Neighborhood_Timber  -9152.5304   5530.852     -1.655      0.098      -2e+04    1694.642\n",
      "Neighborhood_Veenker -1.144e+04   7494.279     -1.526      0.127   -2.61e+04    3260.107\n",
      "MSSubClass_20        -2600.8262   5839.950     -0.445      0.656   -1.41e+04    8852.553\n",
      "MSSubClass_30         6254.2130   6411.159      0.976      0.329   -6319.428    1.88e+04\n",
      "MSSubClass_40        -6014.7407   1.24e+04     -0.486      0.627   -3.03e+04    1.83e+04\n",
      "MSSubClass_45         6216.2898   7317.723      0.849      0.396   -8135.316    2.06e+04\n",
      "MSSubClass_60        -4886.6415   6567.546     -0.744      0.457   -1.78e+04    7993.708\n",
      "MSSubClass_70         3226.6440   6498.980      0.496      0.620   -9519.233     1.6e+04\n",
      "MSSubClass_75         8880.1151   8741.528      1.016      0.310   -8263.875     2.6e+04\n",
      "MSSubClass_85         -539.6584   8582.809     -0.063      0.950   -1.74e+04    1.63e+04\n",
      "MSSubClass_120       -3.514e+04    1.3e+04     -2.694      0.007   -6.07e+04   -9561.800\n",
      "MSSubClass_150        -7.14e+04   2.72e+04     -2.623      0.009   -1.25e+05    -1.8e+04\n",
      "MSSubClass_160       -3.473e+04   1.35e+04     -2.571      0.010   -6.12e+04   -8237.673\n",
      "MSSubClass_180       -2.284e+04    1.5e+04     -1.521      0.128   -5.23e+04    6609.619\n",
      "MSZoning_ACI         -3270.3107   6203.082     -0.527      0.598   -1.54e+04    8895.248\n",
      "RoofStyle_Othr        -1.33e+04   4719.812     -2.818      0.005   -2.26e+04   -4044.849\n",
      "Foundation_Other      5887.7553   9.09e+04      0.065      0.948   -1.72e+05    1.84e+05\n",
      "Exterior_AsbShng      -289.0090   3.33e+04     -0.009      0.993   -6.56e+04     6.5e+04\n",
      "Exterior_BrkFace      1.301e+04   3.31e+04      0.392      0.695    -5.2e+04     7.8e+04\n",
      "Exterior_CmentBd      4582.9000   3.33e+04      0.138      0.890   -6.07e+04    6.98e+04\n",
      "Exterior_HdBoard     -7019.9681   3.31e+04     -0.212      0.832    -7.2e+04    5.79e+04\n",
      "Exterior_MetalSd       761.5963    3.3e+04      0.023      0.982    -6.4e+04    6.56e+04\n",
      "Exterior_Other       -4697.8907   3.35e+04     -0.140      0.889   -7.05e+04    6.11e+04\n",
      "Exterior_Plywood     -5495.8168   3.32e+04     -0.166      0.868   -7.06e+04    5.96e+04\n",
      "Exterior_Stucco      -4241.5569   3.31e+04     -0.128      0.898   -6.91e+04    6.06e+04\n",
      "Exterior_VinylSd     -2476.2989   3.31e+04     -0.075      0.940   -6.75e+04    6.25e+04\n",
      "Exterior_WdSdng      -4330.2556    3.3e+04     -0.131      0.896    -6.9e+04    6.04e+04\n",
      "Exterior_WdShing     -4775.2650   3.32e+04     -0.144      0.886      -7e+04    6.04e+04\n",
      "==============================================================================\n",
      "Omnibus:                      373.862   Durbin-Watson:                   1.984\n",
      "Prob(Omnibus):                  0.000   Jarque-Bera (JB):             4264.302\n",
      "Skew:                           0.506   Prob(JB):                         0.00\n",
      "Kurtosis:                      10.000   Cond. No.                     1.10e+16\n",
      "==============================================================================\n",
      "\n",
      "Notes:\n",
      "[1] Standard Errors assume that the covariance matrix of the errors is correctly specified.\n",
      "[2] The smallest eigenvalue is 2.34e-21. This might indicate that there are\n",
      "strong multicollinearity problems or that the design matrix is singular.\n"
     ]
    }
   ],
   "source": [
    "X = sm.add_constant(X)\n",
    "model = sm.OLS(y,X)\n",
    "results = model.fit()\n",
    "print(results.summary())"
   ]
  },
  {
   "cell_type": "markdown",
   "id": "e4c27270",
   "metadata": {},
   "source": [
    "We can drop feature one by one and see how it affects the R-squared and Adj. R-squared.\n",
    "\n",
    "- R-squared:                       0.927\n",
    "- Adj. R-squared:                  0.922\n",
    "\n",
    "|Column Names|coef|std err|t|p-value|[0.025|0.975]|\n",
    "|---|---|---|---|---|---|---|\n",
    "|SaleType_Oth|1066.4849|9.1e+04|0.012|0.991|-1.77e+05|1.8e+05|\n"
   ]
  },
  {
   "cell_type": "code",
   "execution_count": 41,
   "id": "5647d988",
   "metadata": {},
   "outputs": [
    {
     "name": "stdout",
     "output_type": "stream",
     "text": [
      "                            OLS Regression Results                            \n",
      "==============================================================================\n",
      "Dep. Variable:              SalePrice   R-squared:                       0.927\n",
      "Model:                            OLS   Adj. R-squared:                  0.922\n",
      "Method:                 Least Squares   F-statistic:                     169.8\n",
      "Date:                Sat, 29 Oct 2022   Prob (F-statistic):               0.00\n",
      "Time:                        08:13:34   Log-Likelihood:                -23300.\n",
      "No. Observations:                2046   AIC:                         4.689e+04\n",
      "Df Residuals:                    1902   BIC:                         4.770e+04\n",
      "Df Model:                         143                                         \n",
      "Covariance Type:            nonrobust                                         \n",
      "========================================================================================\n",
      "                           coef    std err          t      P>|t|      [0.025      0.975]\n",
      "----------------------------------------------------------------------------------------\n",
      "const                -1.444e+04   4.09e+05     -0.035      0.972   -8.16e+05    7.87e+05\n",
      "LotFrontage            133.7670     39.895      3.353      0.001      55.525     212.009\n",
      "LotArea                  1.1329      0.144      7.846      0.000       0.850       1.416\n",
      "Alley                 1016.1199   1462.070      0.695      0.487   -1851.308    3883.548\n",
      "OverallQual           8110.4769    778.663     10.416      0.000    6583.354    9637.600\n",
      "OverallCond           5638.2840    665.613      8.471      0.000    4332.876    6943.692\n",
      "YearBuilt              365.9842     66.547      5.500      0.000     235.472     496.497\n",
      "YearRemod/Add           59.2163     43.500      1.361      0.174     -26.097     144.529\n",
      "MasVnrArea              33.0867      4.704      7.034      0.000      23.861      42.313\n",
      "ExterQual             8205.4015   1643.706      4.992      0.000    4981.745    1.14e+04\n",
      "ExterCond            -2134.3946   1576.079     -1.354      0.176   -5225.420     956.631\n",
      "BsmtQual              2857.1971   1316.486      2.170      0.030     275.289    5439.105\n",
      "BsmtCond             -3655.4996   1553.793     -2.353      0.019   -6702.817    -608.183\n",
      "BsmtExposure          4051.8650    662.774      6.113      0.000    2752.024    5351.706\n",
      "TotalBsmtSF             14.7229      2.915      5.050      0.000       9.005      20.441\n",
      "HeatingQC             1084.7084    736.894      1.472      0.141    -360.497    2529.914\n",
      "CentralAir           -5568.2550   2684.494     -2.074      0.038   -1.08e+04    -303.393\n",
      "Electrical           -2748.8860   2032.798     -1.352      0.176   -6735.633    1237.861\n",
      "1stFlrSF                16.0866      3.994      4.027      0.000       8.253      23.920\n",
      "2ndFlrSF                18.5160      3.692      5.015      0.000      11.275      25.757\n",
      "LowQualFinSF             4.7604      8.489      0.561      0.575     -11.888      21.409\n",
      "GrLivArea               39.3630      3.495     11.261      0.000      32.508      46.218\n",
      "BsmtFullBath          3330.6905   1487.323      2.239      0.025     413.734    6247.647\n",
      "BsmtHalfBath           490.7008   2228.826      0.220      0.826   -3880.500    4861.901\n",
      "FullBath              1373.2962   1637.213      0.839      0.402   -1837.626    4584.218\n",
      "HalfBath              1893.8483   1602.565      1.182      0.237   -1249.122    5036.818\n",
      "BedroomAbvGr         -3857.8672    954.060     -4.044      0.000   -5728.982   -1986.752\n",
      "KitchenAbvGr         -8424.6699   4756.897     -1.771      0.077   -1.78e+04     904.614\n",
      "KitchenQual           6519.4335   1266.845      5.146      0.000    4034.883    9003.984\n",
      "Functional            1.257e+04   1747.100      7.197      0.000    9147.513     1.6e+04\n",
      "Fireplaces            3055.1296   1058.475      2.886      0.004     979.236    5131.023\n",
      "GarageFinish           762.1961    935.595      0.815      0.415   -1072.704    2597.097\n",
      "GarageCars            5765.3976   1274.852      4.522      0.000    3265.142    8265.653\n",
      "GarageCond            2513.6192   2135.963      1.177      0.239   -1675.457    6702.695\n",
      "PavedDrive            1170.1242   1246.384      0.939      0.348   -1274.300    3614.548\n",
      "WoodDeckSF              10.0971      4.537      2.225      0.026       1.198      18.996\n",
      "OpenPorchSF              8.9722      8.856      1.013      0.311      -8.396      26.340\n",
      "EnclosedPorch            2.0767      9.644      0.215      0.830     -16.837      20.991\n",
      "3SsnPorch               10.4302     20.129      0.518      0.604     -29.047      49.907\n",
      "ScreenPorch             63.4101      9.449      6.711      0.000      44.879      81.941\n",
      "PoolArea                 7.6636     15.251      0.503      0.615     -22.247      37.574\n",
      "Fence                 -424.6490    632.610     -0.671      0.502   -1665.331     816.033\n",
      "MoSold                -177.5998    189.528     -0.937      0.349    -549.304     194.104\n",
      "YrSold                -440.2005    399.833     -1.101      0.271   -1224.358     343.957\n",
      "MiscFeature_Gar2         0.3672      1.444      0.254      0.799      -2.466       3.200\n",
      "MiscFeature_Othr         4.0359      2.928      1.378      0.168      -1.707       9.779\n",
      "MiscFeature_Shed         1.0936      2.770      0.395      0.693      -4.340       6.527\n",
      "MiscFeature_TenC       -24.7185     12.110     -2.041      0.041     -48.469      -0.968\n",
      "GarageType_2Types     -2.58e+04   7825.353     -3.297      0.001   -4.11e+04   -1.04e+04\n",
      "GarageType_Attchd    -1.602e+04   5222.404     -3.067      0.002   -2.63e+04   -5772.922\n",
      "GarageType_Basment   -1.751e+04   7121.505     -2.459      0.014   -3.15e+04   -3541.536\n",
      "GarageType_BuiltIn   -1.301e+04   5812.765     -2.238      0.025   -2.44e+04   -1611.774\n",
      "GarageType_CarPort   -1.637e+04   8572.797     -1.909      0.056   -3.32e+04     448.065\n",
      "GarageType_Detchd    -1.151e+04   5069.585     -2.270      0.023   -2.15e+04   -1565.270\n",
      "GarageYrBltDiff         21.8641     44.018      0.497      0.619     -64.464     108.192\n",
      "BsmtLivArea             21.1944      2.125      9.975      0.000      17.027      25.362\n",
      "BsmtFin               -455.9988    350.873     -1.300      0.194   -1144.135     232.137\n",
      "MasVnrType_BrkFace   -6259.8413   1724.247     -3.630      0.000   -9641.455   -2878.227\n",
      "MasVnrType_Stone      3871.0616   2391.528      1.619      0.106    -819.233    8561.356\n",
      "MSZoning_FV           1.338e+04   5753.146      2.326      0.020    2099.981    2.47e+04\n",
      "MSZoning_RH            1.42e+04   7319.303      1.940      0.053    -155.723    2.86e+04\n",
      "MSZoning_RL           6717.9675   2932.343      2.291      0.022     967.021    1.25e+04\n",
      "Street_Pave           9254.0919   9267.065      0.999      0.318   -8920.587    2.74e+04\n",
      "LotShape_IR2          4148.7663   3465.044      1.197      0.231   -2646.920    1.09e+04\n",
      "LotShape_IR3         -1.174e+04   8148.921     -1.440      0.150   -2.77e+04    4244.374\n",
      "LotShape_Reg          2300.3190   1279.869      1.797      0.072    -209.775    4810.413\n",
      "LotConfig_Corner     -3877.1847   8.18e+04     -0.047      0.962   -1.64e+05    1.57e+05\n",
      "LotConfig_CulDSac     5708.3215   8.18e+04      0.070      0.944   -1.55e+05    1.66e+05\n",
      "LotConfig_FR2        -2440.2053   8.18e+04     -0.030      0.976   -1.63e+05    1.58e+05\n",
      "LotConfig_FR3        -1.333e+04   8.19e+04     -0.163      0.871   -1.74e+05    1.47e+05\n",
      "LotConfig_Inside      -500.6723   8.18e+04     -0.006      0.995   -1.61e+05     1.6e+05\n",
      "LandContour_Bnk      -7585.0255   1.02e+05     -0.074      0.941   -2.08e+05    1.93e+05\n",
      "LandContour_HLS       7495.1044   1.02e+05      0.073      0.942   -1.93e+05    2.08e+05\n",
      "LandContour_Low      -8339.4828   1.02e+05     -0.082      0.935   -2.09e+05    1.92e+05\n",
      "LandContour_Lvl      -6008.2402   1.02e+05     -0.059      0.953   -2.06e+05    1.94e+05\n",
      "LandSlope_Mod         1454.4938   3186.290      0.456      0.648   -4794.496    7703.483\n",
      "LandSlope_Sev        -8576.1441   8595.555     -0.998      0.319   -2.54e+04    8281.561\n",
      "Heating_GasA          9809.1243   4550.081      2.156      0.031     885.451    1.87e+04\n",
      "Condition             8516.9501   1581.745      5.385      0.000    5414.813    1.16e+04\n",
      "BldgType_1Fam        -1319.0215   8.19e+04     -0.016      0.987   -1.62e+05    1.59e+05\n",
      "BldgType_2fmCon      -9784.2692   8.18e+04     -0.120      0.905    -1.7e+05    1.51e+05\n",
      "BldgType_Duplex      -1.018e+04   8.21e+04     -0.124      0.901   -1.71e+05    1.51e+05\n",
      "BldgType_Twnhs         754.1166   8.22e+04      0.009      0.993   -1.61e+05    1.62e+05\n",
      "BldgType_TwnhsE       6087.8670   8.22e+04      0.074      0.941   -1.55e+05    1.67e+05\n",
      "HouseStyle_1.5Story   3371.1159   6091.867      0.553      0.580   -8576.327    1.53e+04\n",
      "HouseStyle_1Story     5357.1452   6465.494      0.829      0.407   -7323.059     1.8e+04\n",
      "HouseStyle_2.5Fin    -3792.7679   1.15e+04     -0.330      0.742   -2.64e+04    1.88e+04\n",
      "HouseStyle_SFoyer     -865.5524   8533.131     -0.101      0.919   -1.76e+04    1.59e+04\n",
      "HouseStyle_SLvl      -1360.8458   7173.151     -0.190      0.850   -1.54e+04    1.27e+04\n",
      "RoofStyle_Hip         4711.0935   1463.692      3.219      0.001    1840.483    7581.704\n",
      "RoofMatl_CompShg     -4346.6264   5920.465     -0.734      0.463    -1.6e+04    7264.661\n",
      "Foundation_BrkTil    -7252.5237   1.02e+05     -0.071      0.943   -2.08e+05    1.93e+05\n",
      "Foundation_CBlock    -8366.2966   1.02e+05     -0.082      0.935   -2.09e+05    1.92e+05\n",
      "Foundation_PConc     -4840.4985   1.02e+05     -0.047      0.962   -2.05e+05    1.96e+05\n",
      "SaleType_COD         -1.597e+04   4457.111     -3.584      0.000   -2.47e+04   -7232.110\n",
      "SaleType_New          5877.2194   4042.840      1.454      0.146   -2051.646    1.38e+04\n",
      "SaleType_WD          -9143.0317   3394.624     -2.693      0.007   -1.58e+04   -2485.454\n",
      "Neighborhood_Blmngtn  6605.2778   7008.080      0.943      0.346   -7139.052    2.03e+04\n",
      "Neighborhood_Blueste  1.745e+04   1.13e+04      1.543      0.123   -4726.609    3.96e+04\n",
      "Neighborhood_BrDale   2.843e+04   8893.073      3.197      0.001     1.1e+04    4.59e+04\n",
      "Neighborhood_BrkSide  2806.3520   6356.825      0.441      0.659   -9660.729    1.53e+04\n",
      "Neighborhood_ClearCr -2421.8235   6985.418     -0.347      0.729   -1.61e+04    1.13e+04\n",
      "Neighborhood_CollgCr -9325.9671   4725.344     -1.974      0.049   -1.86e+04     -58.566\n",
      "Neighborhood_Crawfor  3357.7894   5862.252      0.573      0.567   -8139.330    1.49e+04\n",
      "Neighborhood_Edwards -7849.6634   5356.727     -1.465      0.143   -1.84e+04    2656.014\n",
      "Neighborhood_Gilbert -1.002e+04   5096.909     -1.966      0.049      -2e+04     -26.918\n",
      "Neighborhood_Greens   7192.2241   1.45e+04      0.495      0.621   -2.13e+04    3.57e+04\n",
      "Neighborhood_GrnHill  1.197e+05   1.71e+04      7.012      0.000    8.62e+04    1.53e+05\n",
      "Neighborhood_IDOTRR   -433.8724   7118.952     -0.061      0.951   -1.44e+04    1.35e+04\n",
      "Neighborhood_Landmrk  6011.8463   2.43e+04      0.247      0.805   -4.17e+04    5.37e+04\n",
      "Neighborhood_MeadowV  1.102e+04   8885.845      1.240      0.215   -6411.145    2.84e+04\n",
      "Neighborhood_Mitchel -4822.1022   5364.308     -0.899      0.369   -1.53e+04    5698.443\n",
      "Neighborhood_NAmes   -7206.3030   5183.076     -1.390      0.165   -1.74e+04    2958.807\n",
      "Neighborhood_NPkVill  2.434e+04   8527.827      2.854      0.004    7611.674    4.11e+04\n",
      "Neighborhood_NWAmes  -1.275e+04   5378.471     -2.370      0.018   -2.33e+04   -2197.142\n",
      "Neighborhood_NoRidge  1.434e+04   5742.886      2.497      0.013    3075.539    2.56e+04\n",
      "Neighborhood_NridgHt   2.62e+04   4830.040      5.425      0.000    1.67e+04    3.57e+04\n",
      "Neighborhood_OldTown -3427.0115   6416.880     -0.534      0.593    -1.6e+04    9157.851\n",
      "Neighborhood_SWISU   -7735.0338   6866.853     -1.126      0.260   -2.12e+04    5732.321\n",
      "Neighborhood_Sawyer  -3736.4241   5429.771     -0.688      0.491   -1.44e+04    6912.508\n",
      "Neighborhood_SawyerW -1.193e+04   5127.742     -2.327      0.020    -2.2e+04   -1873.224\n",
      "Neighborhood_StoneBr  4.149e+04   6194.604      6.698      0.000    2.93e+04    5.36e+04\n",
      "Neighborhood_Timber  -9152.5304   5530.852     -1.655      0.098      -2e+04    1694.642\n",
      "Neighborhood_Veenker -1.144e+04   7494.279     -1.526      0.127   -2.61e+04    3260.107\n",
      "MSSubClass_20        -2600.8262   5839.950     -0.445      0.656   -1.41e+04    8852.553\n",
      "MSSubClass_30         6254.2130   6411.159      0.976      0.329   -6319.428    1.88e+04\n",
      "MSSubClass_40        -6014.7407   1.24e+04     -0.486      0.627   -3.03e+04    1.83e+04\n",
      "MSSubClass_45         6216.2898   7317.723      0.849      0.396   -8135.316    2.06e+04\n",
      "MSSubClass_60        -4886.6415   6567.546     -0.744      0.457   -1.78e+04    7993.708\n",
      "MSSubClass_70         3226.6440   6498.980      0.496      0.620   -9519.233     1.6e+04\n",
      "MSSubClass_75         8880.1151   8741.528      1.016      0.310   -8263.875     2.6e+04\n",
      "MSSubClass_85         -539.6584   8582.809     -0.063      0.950   -1.74e+04    1.63e+04\n",
      "MSSubClass_120       -3.514e+04    1.3e+04     -2.694      0.007   -6.07e+04   -9561.800\n",
      "MSSubClass_150        -7.14e+04   2.72e+04     -2.623      0.009   -1.25e+05    -1.8e+04\n",
      "MSSubClass_160       -3.473e+04   1.35e+04     -2.571      0.010   -6.12e+04   -8237.673\n",
      "MSSubClass_180       -2.284e+04    1.5e+04     -1.521      0.128   -5.23e+04    6609.619\n",
      "MSZoning_ACI         -3270.3107   6203.082     -0.527      0.598   -1.54e+04    8895.248\n",
      "RoofStyle_Othr        -1.33e+04   4719.812     -2.818      0.005   -2.26e+04   -4044.849\n",
      "Foundation_Other      6021.6746   1.02e+05      0.059      0.953   -1.95e+05    2.07e+05\n",
      "Exterior_AsbShng      -240.3111   3.74e+04     -0.006      0.995   -7.36e+04    7.31e+04\n",
      "Exterior_BrkFace      1.306e+04   3.73e+04      0.350      0.726   -6.01e+04    8.62e+04\n",
      "Exterior_CmentBd      4631.5979   3.74e+04      0.124      0.901   -6.87e+04     7.8e+04\n",
      "Exterior_HdBoard     -6971.2701   3.73e+04     -0.187      0.852   -8.01e+04    6.61e+04\n",
      "Exterior_MetalSd       810.2942   3.72e+04      0.022      0.983   -7.21e+04    7.38e+04\n",
      "Exterior_Other       -4649.1928   3.76e+04     -0.124      0.902   -7.85e+04    6.92e+04\n",
      "Exterior_Plywood     -5447.1188   3.73e+04     -0.146      0.884   -7.86e+04    6.77e+04\n",
      "Exterior_Stucco      -4192.8590   3.72e+04     -0.113      0.910   -7.71e+04    6.88e+04\n",
      "Exterior_VinylSd     -2427.6009   3.73e+04     -0.065      0.948   -7.56e+04    7.07e+04\n",
      "Exterior_WdSdng      -4281.5577   3.71e+04     -0.115      0.908   -7.71e+04    6.86e+04\n",
      "Exterior_WdShing     -4726.5671   3.74e+04     -0.126      0.899    -7.8e+04    6.86e+04\n",
      "==============================================================================\n",
      "Omnibus:                      373.862   Durbin-Watson:                   1.984\n",
      "Prob(Omnibus):                  0.000   Jarque-Bera (JB):             4264.302\n",
      "Skew:                           0.506   Prob(JB):                         0.00\n",
      "Kurtosis:                      10.000   Cond. No.                     1.10e+16\n",
      "==============================================================================\n",
      "\n",
      "Notes:\n",
      "[1] Standard Errors assume that the covariance matrix of the errors is correctly specified.\n",
      "[2] The smallest eigenvalue is 2.34e-21. This might indicate that there are\n",
      "strong multicollinearity problems or that the design matrix is singular.\n"
     ]
    }
   ],
   "source": [
    "X.drop(['SaleType_Oth'], axis=1, inplace=True)\n",
    "model = sm.OLS(y,X)\n",
    "results = model.fit()\n",
    "print(results.summary())"
   ]
  },
  {
   "cell_type": "markdown",
   "id": "6839e7e5",
   "metadata": {},
   "source": [
    "- R-squared:                       0.927\n",
    "- Adj. R-squared:                  0.922\n",
    "\n",
    "|Column Names|coef|std err|t|p-value|[0.025|0.975]|\n",
    "|---|---|---|---|---|---|---|\n",
    "|Exterior_AsbShng|-240.3111|3.74e+04|-0.006|0.995|-7.36e+04|7.31e+04|\n"
   ]
  },
  {
   "cell_type": "code",
   "execution_count": 42,
   "id": "a2a163c9",
   "metadata": {},
   "outputs": [
    {
     "name": "stdout",
     "output_type": "stream",
     "text": [
      "                            OLS Regression Results                            \n",
      "==============================================================================\n",
      "Dep. Variable:              SalePrice   R-squared:                       0.927\n",
      "Model:                            OLS   Adj. R-squared:                  0.922\n",
      "Method:                 Least Squares   F-statistic:                     169.8\n",
      "Date:                Sat, 29 Oct 2022   Prob (F-statistic):               0.00\n",
      "Time:                        08:13:34   Log-Likelihood:                -23300.\n",
      "No. Observations:                2046   AIC:                         4.689e+04\n",
      "Df Residuals:                    1902   BIC:                         4.770e+04\n",
      "Df Model:                         143                                         \n",
      "Covariance Type:            nonrobust                                         \n",
      "========================================================================================\n",
      "                           coef    std err          t      P>|t|      [0.025      0.975]\n",
      "----------------------------------------------------------------------------------------\n",
      "const                -1.456e+04   4.28e+05     -0.034      0.973   -8.55e+05    8.26e+05\n",
      "LotFrontage            133.7670     39.895      3.353      0.001      55.525     212.009\n",
      "LotArea                  1.1329      0.144      7.846      0.000       0.850       1.416\n",
      "Alley                 1016.1199   1462.070      0.695      0.487   -1851.308    3883.548\n",
      "OverallQual           8110.4769    778.663     10.416      0.000    6583.354    9637.600\n",
      "OverallCond           5638.2840    665.613      8.471      0.000    4332.876    6943.692\n",
      "YearBuilt              365.9842     66.547      5.500      0.000     235.472     496.497\n",
      "YearRemod/Add           59.2163     43.500      1.361      0.174     -26.097     144.529\n",
      "MasVnrArea              33.0867      4.704      7.034      0.000      23.861      42.313\n",
      "ExterQual             8205.4015   1643.706      4.992      0.000    4981.745    1.14e+04\n",
      "ExterCond            -2134.3946   1576.079     -1.354      0.176   -5225.420     956.631\n",
      "BsmtQual              2857.1971   1316.486      2.170      0.030     275.289    5439.105\n",
      "BsmtCond             -3655.4996   1553.793     -2.353      0.019   -6702.817    -608.183\n",
      "BsmtExposure          4051.8650    662.774      6.113      0.000    2752.024    5351.706\n",
      "TotalBsmtSF             14.7229      2.915      5.050      0.000       9.005      20.441\n",
      "HeatingQC             1084.7084    736.894      1.472      0.141    -360.497    2529.914\n",
      "CentralAir           -5568.2550   2684.494     -2.074      0.038   -1.08e+04    -303.393\n",
      "Electrical           -2748.8860   2032.798     -1.352      0.176   -6735.633    1237.861\n",
      "1stFlrSF                16.0866      3.994      4.027      0.000       8.253      23.920\n",
      "2ndFlrSF                18.5160      3.692      5.015      0.000      11.275      25.757\n",
      "LowQualFinSF             4.7604      8.489      0.561      0.575     -11.888      21.409\n",
      "GrLivArea               39.3630      3.495     11.261      0.000      32.508      46.218\n",
      "BsmtFullBath          3330.6905   1487.323      2.239      0.025     413.734    6247.647\n",
      "BsmtHalfBath           490.7008   2228.826      0.220      0.826   -3880.500    4861.901\n",
      "FullBath              1373.2962   1637.213      0.839      0.402   -1837.626    4584.218\n",
      "HalfBath              1893.8483   1602.565      1.182      0.237   -1249.122    5036.818\n",
      "BedroomAbvGr         -3857.8672    954.060     -4.044      0.000   -5728.982   -1986.752\n",
      "KitchenAbvGr         -8424.6699   4756.897     -1.771      0.077   -1.78e+04     904.614\n",
      "KitchenQual           6519.4335   1266.845      5.146      0.000    4034.883    9003.984\n",
      "Functional            1.257e+04   1747.100      7.197      0.000    9147.513     1.6e+04\n",
      "Fireplaces            3055.1296   1058.475      2.886      0.004     979.236    5131.023\n",
      "GarageFinish           762.1961    935.595      0.815      0.415   -1072.704    2597.097\n",
      "GarageCars            5765.3976   1274.852      4.522      0.000    3265.142    8265.653\n",
      "GarageCond            2513.6192   2135.963      1.177      0.239   -1675.457    6702.695\n",
      "PavedDrive            1170.1242   1246.384      0.939      0.348   -1274.300    3614.548\n",
      "WoodDeckSF              10.0971      4.537      2.225      0.026       1.198      18.996\n",
      "OpenPorchSF              8.9722      8.856      1.013      0.311      -8.396      26.340\n",
      "EnclosedPorch            2.0767      9.644      0.215      0.830     -16.837      20.991\n",
      "3SsnPorch               10.4302     20.129      0.518      0.604     -29.047      49.907\n",
      "ScreenPorch             63.4101      9.449      6.711      0.000      44.879      81.941\n",
      "PoolArea                 7.6636     15.251      0.503      0.615     -22.247      37.574\n",
      "Fence                 -424.6490    632.610     -0.671      0.502   -1665.331     816.033\n",
      "MoSold                -177.5998    189.528     -0.937      0.349    -549.304     194.104\n",
      "YrSold                -440.2005    399.833     -1.101      0.271   -1224.358     343.957\n",
      "MiscFeature_Gar2         0.3672      1.444      0.254      0.799      -2.466       3.200\n",
      "MiscFeature_Othr         4.0359      2.928      1.378      0.168      -1.707       9.779\n",
      "MiscFeature_Shed         1.0936      2.770      0.395      0.693      -4.340       6.527\n",
      "MiscFeature_TenC       -24.7185     12.110     -2.041      0.041     -48.469      -0.968\n",
      "GarageType_2Types     -2.58e+04   7825.353     -3.297      0.001   -4.11e+04   -1.04e+04\n",
      "GarageType_Attchd    -1.602e+04   5222.404     -3.067      0.002   -2.63e+04   -5772.922\n",
      "GarageType_Basment   -1.751e+04   7121.505     -2.459      0.014   -3.15e+04   -3541.536\n",
      "GarageType_BuiltIn   -1.301e+04   5812.765     -2.238      0.025   -2.44e+04   -1611.774\n",
      "GarageType_CarPort   -1.637e+04   8572.797     -1.909      0.056   -3.32e+04     448.065\n",
      "GarageType_Detchd    -1.151e+04   5069.585     -2.270      0.023   -2.15e+04   -1565.270\n",
      "GarageYrBltDiff         21.8641     44.018      0.497      0.619     -64.464     108.192\n",
      "BsmtLivArea             21.1944      2.125      9.975      0.000      17.027      25.362\n",
      "BsmtFin               -455.9988    350.873     -1.300      0.194   -1144.135     232.137\n",
      "MasVnrType_BrkFace   -6259.8413   1724.247     -3.630      0.000   -9641.455   -2878.227\n",
      "MasVnrType_Stone      3871.0616   2391.528      1.619      0.106    -819.233    8561.356\n",
      "MSZoning_FV           1.338e+04   5753.146      2.326      0.020    2099.981    2.47e+04\n",
      "MSZoning_RH            1.42e+04   7319.303      1.940      0.053    -155.723    2.86e+04\n",
      "MSZoning_RL           6717.9675   2932.343      2.291      0.022     967.021    1.25e+04\n",
      "Street_Pave           9254.0919   9267.065      0.999      0.318   -8920.587    2.74e+04\n",
      "LotShape_IR2          4148.7663   3465.044      1.197      0.231   -2646.920    1.09e+04\n",
      "LotShape_IR3         -1.174e+04   8148.921     -1.440      0.150   -2.77e+04    4244.374\n",
      "LotShape_Reg          2300.3190   1279.869      1.797      0.072    -209.775    4810.413\n",
      "LotConfig_Corner     -3902.4807   8.57e+04     -0.046      0.964   -1.72e+05    1.64e+05\n",
      "LotConfig_CulDSac     5683.0255   8.57e+04      0.066      0.947   -1.62e+05    1.74e+05\n",
      "LotConfig_FR2        -2465.5013   8.57e+04     -0.029      0.977   -1.71e+05    1.66e+05\n",
      "LotConfig_FR3        -1.335e+04   8.59e+04     -0.156      0.876   -1.82e+05    1.55e+05\n",
      "LotConfig_Inside      -525.9683   8.57e+04     -0.006      0.995   -1.69e+05    1.68e+05\n",
      "LandContour_Bnk      -7616.6455   1.07e+05     -0.071      0.943   -2.18e+05    2.03e+05\n",
      "LandContour_HLS       7463.4844   1.07e+05      0.070      0.944   -2.03e+05    2.18e+05\n",
      "LandContour_Low      -8371.1028   1.07e+05     -0.078      0.938   -2.18e+05    2.02e+05\n",
      "LandContour_Lvl      -6039.8602   1.07e+05     -0.056      0.955   -2.16e+05    2.04e+05\n",
      "LandSlope_Mod         1454.4938   3186.290      0.456      0.648   -4794.496    7703.483\n",
      "LandSlope_Sev        -8576.1441   8595.555     -0.998      0.319   -2.54e+04    8281.561\n",
      "Heating_GasA          9809.1243   4550.081      2.156      0.031     885.451    1.87e+04\n",
      "Condition             8516.9501   1581.745      5.385      0.000    5414.813    1.16e+04\n",
      "BldgType_1Fam        -1344.3175   8.58e+04     -0.016      0.988    -1.7e+05    1.67e+05\n",
      "BldgType_2fmCon      -9809.5652   8.57e+04     -0.114      0.909   -1.78e+05    1.58e+05\n",
      "BldgType_Duplex       -1.02e+04    8.6e+04     -0.119      0.906   -1.79e+05    1.58e+05\n",
      "BldgType_Twnhs         728.8205   8.61e+04      0.008      0.993   -1.68e+05     1.7e+05\n",
      "BldgType_TwnhsE       6062.5710   8.61e+04      0.070      0.944   -1.63e+05    1.75e+05\n",
      "HouseStyle_1.5Story   3371.1159   6091.867      0.553      0.580   -8576.327    1.53e+04\n",
      "HouseStyle_1Story     5357.1452   6465.494      0.829      0.407   -7323.059     1.8e+04\n",
      "HouseStyle_2.5Fin    -3792.7679   1.15e+04     -0.330      0.742   -2.64e+04    1.88e+04\n",
      "HouseStyle_SFoyer     -865.5524   8533.131     -0.101      0.919   -1.76e+04    1.59e+04\n",
      "HouseStyle_SLvl      -1360.8458   7173.151     -0.190      0.850   -1.54e+04    1.27e+04\n",
      "RoofStyle_Hip         4711.0935   1463.692      3.219      0.001    1840.483    7581.704\n",
      "RoofMatl_CompShg     -4346.6264   5920.465     -0.734      0.463    -1.6e+04    7264.661\n",
      "Foundation_BrkTil    -7284.1437   1.07e+05     -0.068      0.946   -2.17e+05    2.03e+05\n",
      "Foundation_CBlock    -8397.9166   1.07e+05     -0.078      0.938   -2.18e+05    2.02e+05\n",
      "Foundation_PConc     -4872.1185   1.07e+05     -0.045      0.964   -2.15e+05    2.05e+05\n",
      "SaleType_COD         -1.597e+04   4457.111     -3.584      0.000   -2.47e+04   -7232.110\n",
      "SaleType_New          5877.2194   4042.840      1.454      0.146   -2051.646    1.38e+04\n",
      "SaleType_WD          -9143.0317   3394.624     -2.693      0.007   -1.58e+04   -2485.454\n",
      "Neighborhood_Blmngtn  6605.2778   7008.080      0.943      0.346   -7139.052    2.03e+04\n",
      "Neighborhood_Blueste  1.745e+04   1.13e+04      1.543      0.123   -4726.609    3.96e+04\n",
      "Neighborhood_BrDale   2.843e+04   8893.073      3.197      0.001     1.1e+04    4.59e+04\n",
      "Neighborhood_BrkSide  2806.3520   6356.825      0.441      0.659   -9660.729    1.53e+04\n",
      "Neighborhood_ClearCr -2421.8235   6985.418     -0.347      0.729   -1.61e+04    1.13e+04\n",
      "Neighborhood_CollgCr -9325.9671   4725.344     -1.974      0.049   -1.86e+04     -58.566\n",
      "Neighborhood_Crawfor  3357.7894   5862.252      0.573      0.567   -8139.330    1.49e+04\n",
      "Neighborhood_Edwards -7849.6634   5356.727     -1.465      0.143   -1.84e+04    2656.014\n",
      "Neighborhood_Gilbert -1.002e+04   5096.909     -1.966      0.049      -2e+04     -26.918\n",
      "Neighborhood_Greens   7192.2241   1.45e+04      0.495      0.621   -2.13e+04    3.57e+04\n",
      "Neighborhood_GrnHill  1.197e+05   1.71e+04      7.012      0.000    8.62e+04    1.53e+05\n",
      "Neighborhood_IDOTRR   -433.8724   7118.952     -0.061      0.951   -1.44e+04    1.35e+04\n",
      "Neighborhood_Landmrk  6011.8463   2.43e+04      0.247      0.805   -4.17e+04    5.37e+04\n",
      "Neighborhood_MeadowV  1.102e+04   8885.845      1.240      0.215   -6411.145    2.84e+04\n",
      "Neighborhood_Mitchel -4822.1022   5364.308     -0.899      0.369   -1.53e+04    5698.443\n",
      "Neighborhood_NAmes   -7206.3030   5183.076     -1.390      0.165   -1.74e+04    2958.807\n",
      "Neighborhood_NPkVill  2.434e+04   8527.827      2.854      0.004    7611.674    4.11e+04\n",
      "Neighborhood_NWAmes  -1.275e+04   5378.471     -2.370      0.018   -2.33e+04   -2197.142\n",
      "Neighborhood_NoRidge  1.434e+04   5742.886      2.497      0.013    3075.539    2.56e+04\n",
      "Neighborhood_NridgHt   2.62e+04   4830.040      5.425      0.000    1.67e+04    3.57e+04\n",
      "Neighborhood_OldTown -3427.0115   6416.880     -0.534      0.593    -1.6e+04    9157.851\n",
      "Neighborhood_SWISU   -7735.0338   6866.853     -1.126      0.260   -2.12e+04    5732.321\n",
      "Neighborhood_Sawyer  -3736.4241   5429.771     -0.688      0.491   -1.44e+04    6912.508\n",
      "Neighborhood_SawyerW -1.193e+04   5127.742     -2.327      0.020    -2.2e+04   -1873.224\n",
      "Neighborhood_StoneBr  4.149e+04   6194.604      6.698      0.000    2.93e+04    5.36e+04\n",
      "Neighborhood_Timber  -9152.5304   5530.852     -1.655      0.098      -2e+04    1694.642\n",
      "Neighborhood_Veenker -1.144e+04   7494.279     -1.526      0.127   -2.61e+04    3260.107\n",
      "MSSubClass_20        -2600.8262   5839.950     -0.445      0.656   -1.41e+04    8852.553\n",
      "MSSubClass_30         6254.2130   6411.159      0.976      0.329   -6319.428    1.88e+04\n",
      "MSSubClass_40        -6014.7407   1.24e+04     -0.486      0.627   -3.03e+04    1.83e+04\n",
      "MSSubClass_45         6216.2898   7317.723      0.849      0.396   -8135.316    2.06e+04\n",
      "MSSubClass_60        -4886.6415   6567.546     -0.744      0.457   -1.78e+04    7993.708\n",
      "MSSubClass_70         3226.6440   6498.980      0.496      0.620   -9519.233     1.6e+04\n",
      "MSSubClass_75         8880.1151   8741.528      1.016      0.310   -8263.875     2.6e+04\n",
      "MSSubClass_85         -539.6584   8582.809     -0.063      0.950   -1.74e+04    1.63e+04\n",
      "MSSubClass_120       -3.514e+04    1.3e+04     -2.694      0.007   -6.07e+04   -9561.800\n",
      "MSSubClass_150        -7.14e+04   2.72e+04     -2.623      0.009   -1.25e+05    -1.8e+04\n",
      "MSSubClass_160       -3.473e+04   1.35e+04     -2.571      0.010   -6.12e+04   -8237.673\n",
      "MSSubClass_180       -2.284e+04    1.5e+04     -1.521      0.128   -5.23e+04    6609.619\n",
      "MSZoning_ACI         -3270.3107   6203.082     -0.527      0.598   -1.54e+04    8895.248\n",
      "RoofStyle_Othr        -1.33e+04   4719.812     -2.818      0.005   -2.26e+04   -4044.849\n",
      "Foundation_Other      5990.0546   1.07e+05      0.056      0.955   -2.04e+05    2.16e+05\n",
      "Exterior_BrkFace       1.33e+04   6024.621      2.207      0.027    1481.693    2.51e+04\n",
      "Exterior_CmentBd      4871.9090   5706.822      0.854      0.393   -6320.379    1.61e+04\n",
      "Exterior_HdBoard     -6730.9591   4973.700     -1.353      0.176   -1.65e+04    3023.522\n",
      "Exterior_MetalSd      1050.6053   4744.291      0.221      0.825   -8253.955    1.04e+04\n",
      "Exterior_Other       -4408.8817   7969.979     -0.553      0.580      -2e+04    1.12e+04\n",
      "Exterior_Plywood     -5206.8078   5226.617     -0.996      0.319   -1.55e+04    5043.697\n",
      "Exterior_Stucco      -3952.5479   6716.709     -0.588      0.556   -1.71e+04    9220.343\n",
      "Exterior_VinylSd     -2187.2899   4898.409     -0.447      0.655   -1.18e+04    7419.529\n",
      "Exterior_WdSdng      -4041.2466   4784.008     -0.845      0.398   -1.34e+04    5341.207\n",
      "Exterior_WdShing     -4486.2560   5754.163     -0.780      0.436   -1.58e+04    6798.878\n",
      "==============================================================================\n",
      "Omnibus:                      373.862   Durbin-Watson:                   1.984\n",
      "Prob(Omnibus):                  0.000   Jarque-Bera (JB):             4264.302\n",
      "Skew:                           0.506   Prob(JB):                         0.00\n",
      "Kurtosis:                      10.000   Cond. No.                     1.10e+16\n",
      "==============================================================================\n",
      "\n",
      "Notes:\n",
      "[1] Standard Errors assume that the covariance matrix of the errors is correctly specified.\n",
      "[2] The smallest eigenvalue is 2.34e-21. This might indicate that there are\n",
      "strong multicollinearity problems or that the design matrix is singular.\n"
     ]
    }
   ],
   "source": [
    "X.drop(['Exterior_AsbShng'], axis=1, inplace=True)\n",
    "model = sm.OLS(y,X)\n",
    "results = model.fit()\n",
    "print(results.summary())"
   ]
  },
  {
   "cell_type": "markdown",
   "id": "63656189",
   "metadata": {},
   "source": [
    "- R-squared:                       0.927\n",
    "- Adj. R-squared:                  0.922\n",
    "\n",
    "|Column Names|coef|std err|t|p-value|[0.025|0.975]|\n",
    "|---|---|---|---|---|---|---|\n",
    "|BldgType_Twnhs|728.8205|8.61e+04|0.008|0.993|-1.68e+05|1.7e+05|\n"
   ]
  },
  {
   "cell_type": "code",
   "execution_count": 43,
   "id": "ddca3a04",
   "metadata": {},
   "outputs": [
    {
     "name": "stdout",
     "output_type": "stream",
     "text": [
      "                            OLS Regression Results                            \n",
      "==============================================================================\n",
      "Dep. Variable:              SalePrice   R-squared:                       0.927\n",
      "Model:                            OLS   Adj. R-squared:                  0.922\n",
      "Method:                 Least Squares   F-statistic:                     169.8\n",
      "Date:                Sat, 29 Oct 2022   Prob (F-statistic):               0.00\n",
      "Time:                        08:13:34   Log-Likelihood:                -23300.\n",
      "No. Observations:                2046   AIC:                         4.689e+04\n",
      "Df Residuals:                    1902   BIC:                         4.770e+04\n",
      "Df Model:                         143                                         \n",
      "Covariance Type:            nonrobust                                         \n",
      "========================================================================================\n",
      "                           coef    std err          t      P>|t|      [0.025      0.975]\n",
      "----------------------------------------------------------------------------------------\n",
      "const                -1.414e+04   4.79e+05     -0.030      0.976   -9.53e+05    9.25e+05\n",
      "LotFrontage            133.7670     39.895      3.353      0.001      55.525     212.009\n",
      "LotArea                  1.1329      0.144      7.846      0.000       0.850       1.416\n",
      "Alley                 1016.1199   1462.070      0.695      0.487   -1851.308    3883.548\n",
      "OverallQual           8110.4769    778.663     10.416      0.000    6583.354    9637.600\n",
      "OverallCond           5638.2840    665.613      8.471      0.000    4332.876    6943.692\n",
      "YearBuilt              365.9842     66.547      5.500      0.000     235.472     496.497\n",
      "YearRemod/Add           59.2163     43.500      1.361      0.174     -26.097     144.529\n",
      "MasVnrArea              33.0867      4.704      7.034      0.000      23.861      42.313\n",
      "ExterQual             8205.4015   1643.706      4.992      0.000    4981.745    1.14e+04\n",
      "ExterCond            -2134.3946   1576.079     -1.354      0.176   -5225.420     956.631\n",
      "BsmtQual              2857.1971   1316.486      2.170      0.030     275.289    5439.105\n",
      "BsmtCond             -3655.4996   1553.793     -2.353      0.019   -6702.817    -608.183\n",
      "BsmtExposure          4051.8650    662.774      6.113      0.000    2752.024    5351.706\n",
      "TotalBsmtSF             14.7229      2.915      5.050      0.000       9.005      20.441\n",
      "HeatingQC             1084.7084    736.894      1.472      0.141    -360.497    2529.914\n",
      "CentralAir           -5568.2550   2684.494     -2.074      0.038   -1.08e+04    -303.393\n",
      "Electrical           -2748.8860   2032.798     -1.352      0.176   -6735.633    1237.861\n",
      "1stFlrSF                16.0866      3.994      4.027      0.000       8.253      23.920\n",
      "2ndFlrSF                18.5160      3.692      5.015      0.000      11.275      25.757\n",
      "LowQualFinSF             4.7604      8.489      0.561      0.575     -11.888      21.409\n",
      "GrLivArea               39.3630      3.495     11.261      0.000      32.508      46.218\n",
      "BsmtFullBath          3330.6905   1487.323      2.239      0.025     413.734    6247.647\n",
      "BsmtHalfBath           490.7008   2228.826      0.220      0.826   -3880.500    4861.901\n",
      "FullBath              1373.2962   1637.213      0.839      0.402   -1837.626    4584.218\n",
      "HalfBath              1893.8483   1602.565      1.182      0.237   -1249.122    5036.818\n",
      "BedroomAbvGr         -3857.8672    954.060     -4.044      0.000   -5728.982   -1986.752\n",
      "KitchenAbvGr         -8424.6699   4756.897     -1.771      0.077   -1.78e+04     904.614\n",
      "KitchenQual           6519.4335   1266.845      5.146      0.000    4034.883    9003.984\n",
      "Functional            1.257e+04   1747.100      7.197      0.000    9147.513     1.6e+04\n",
      "Fireplaces            3055.1296   1058.475      2.886      0.004     979.236    5131.023\n",
      "GarageFinish           762.1961    935.595      0.815      0.415   -1072.704    2597.097\n",
      "GarageCars            5765.3976   1274.852      4.522      0.000    3265.142    8265.653\n",
      "GarageCond            2513.6192   2135.963      1.177      0.239   -1675.457    6702.695\n",
      "PavedDrive            1170.1242   1246.384      0.939      0.348   -1274.300    3614.548\n",
      "WoodDeckSF              10.0971      4.537      2.225      0.026       1.198      18.996\n",
      "OpenPorchSF              8.9722      8.856      1.013      0.311      -8.396      26.340\n",
      "EnclosedPorch            2.0767      9.644      0.215      0.830     -16.837      20.991\n",
      "3SsnPorch               10.4302     20.129      0.518      0.604     -29.047      49.907\n",
      "ScreenPorch             63.4101      9.449      6.711      0.000      44.879      81.941\n",
      "PoolArea                 7.6636     15.251      0.503      0.615     -22.247      37.574\n",
      "Fence                 -424.6490    632.610     -0.671      0.502   -1665.331     816.033\n",
      "MoSold                -177.5998    189.528     -0.937      0.349    -549.304     194.104\n",
      "YrSold                -440.2005    399.833     -1.101      0.271   -1224.358     343.957\n",
      "MiscFeature_Gar2         0.3672      1.444      0.254      0.799      -2.466       3.200\n",
      "MiscFeature_Othr         4.0359      2.928      1.378      0.168      -1.707       9.779\n",
      "MiscFeature_Shed         1.0936      2.770      0.395      0.693      -4.340       6.527\n",
      "MiscFeature_TenC       -24.7185     12.110     -2.041      0.041     -48.469      -0.968\n",
      "GarageType_2Types     -2.58e+04   7825.353     -3.297      0.001   -4.11e+04   -1.04e+04\n",
      "GarageType_Attchd    -1.602e+04   5222.404     -3.067      0.002   -2.63e+04   -5772.922\n",
      "GarageType_Basment   -1.751e+04   7121.505     -2.459      0.014   -3.15e+04   -3541.536\n",
      "GarageType_BuiltIn   -1.301e+04   5812.765     -2.238      0.025   -2.44e+04   -1611.774\n",
      "GarageType_CarPort   -1.637e+04   8572.797     -1.909      0.056   -3.32e+04     448.065\n",
      "GarageType_Detchd    -1.151e+04   5069.585     -2.270      0.023   -2.15e+04   -1565.270\n",
      "GarageYrBltDiff         21.8641     44.018      0.497      0.619     -64.464     108.192\n",
      "BsmtLivArea             21.1944      2.125      9.975      0.000      17.027      25.362\n",
      "BsmtFin               -455.9988    350.873     -1.300      0.194   -1144.135     232.137\n",
      "MasVnrType_BrkFace   -6259.8413   1724.247     -3.630      0.000   -9641.455   -2878.227\n",
      "MasVnrType_Stone      3871.0616   2391.528      1.619      0.106    -819.233    8561.356\n",
      "MSZoning_FV           1.338e+04   5753.146      2.326      0.020    2099.981    2.47e+04\n",
      "MSZoning_RH            1.42e+04   7319.303      1.940      0.053    -155.723    2.86e+04\n",
      "MSZoning_RL           6717.9675   2932.343      2.291      0.022     967.021    1.25e+04\n",
      "Street_Pave           9254.0919   9267.065      0.999      0.318   -8920.587    2.74e+04\n",
      "LotShape_IR2          4148.7663   3465.044      1.197      0.231   -2646.920    1.09e+04\n",
      "LotShape_IR3         -1.174e+04   8148.921     -1.440      0.150   -2.77e+04    4244.374\n",
      "LotShape_Reg          2300.3190   1279.869      1.797      0.072    -209.775    4810.413\n",
      "LotConfig_Corner     -3816.7372   9.58e+04     -0.040      0.968   -1.92e+05    1.84e+05\n",
      "LotConfig_CulDSac     5768.7690   9.58e+04      0.060      0.952   -1.82e+05    1.94e+05\n",
      "LotConfig_FR2        -2379.7578   9.58e+04     -0.025      0.980    -1.9e+05    1.86e+05\n",
      "LotConfig_FR3        -1.327e+04   9.59e+04     -0.138      0.890   -2.01e+05    1.75e+05\n",
      "LotConfig_Inside      -440.2248   9.58e+04     -0.005      0.996   -1.88e+05    1.87e+05\n",
      "LandContour_Bnk      -7509.4661    1.2e+05     -0.063      0.950   -2.42e+05    2.27e+05\n",
      "LandContour_HLS       7570.6638    1.2e+05      0.063      0.950   -2.27e+05    2.42e+05\n",
      "LandContour_Low      -8263.9234    1.2e+05     -0.069      0.945   -2.43e+05    2.26e+05\n",
      "LandContour_Lvl      -5932.6808    1.2e+05     -0.050      0.960   -2.41e+05    2.29e+05\n",
      "LandSlope_Mod         1454.4938   3186.290      0.456      0.648   -4794.496    7703.483\n",
      "LandSlope_Sev        -8576.1441   8595.555     -0.998      0.319   -2.54e+04    8281.561\n",
      "Heating_GasA          9809.1243   4550.081      2.156      0.031     885.451    1.87e+04\n",
      "Condition             8516.9501   1581.745      5.385      0.000    5414.813    1.16e+04\n",
      "BldgType_1Fam        -2073.1381   1.23e+04     -0.169      0.866   -2.62e+04     2.2e+04\n",
      "BldgType_2fmCon      -1.054e+04   1.33e+04     -0.794      0.428   -3.66e+04    1.55e+04\n",
      "BldgType_Duplex      -1.093e+04   1.41e+04     -0.776      0.438   -3.86e+04    1.67e+04\n",
      "BldgType_TwnhsE       5333.7505   4186.868      1.274      0.203   -2877.585    1.35e+04\n",
      "HouseStyle_1.5Story   3371.1159   6091.867      0.553      0.580   -8576.327    1.53e+04\n",
      "HouseStyle_1Story     5357.1452   6465.494      0.829      0.407   -7323.059     1.8e+04\n",
      "HouseStyle_2.5Fin    -3792.7679   1.15e+04     -0.330      0.742   -2.64e+04    1.88e+04\n",
      "HouseStyle_SFoyer     -865.5524   8533.131     -0.101      0.919   -1.76e+04    1.59e+04\n",
      "HouseStyle_SLvl      -1360.8458   7173.151     -0.190      0.850   -1.54e+04    1.27e+04\n",
      "RoofStyle_Hip         4711.0935   1463.692      3.219      0.001    1840.483    7581.704\n",
      "RoofMatl_CompShg     -4346.6264   5920.465     -0.734      0.463    -1.6e+04    7264.661\n",
      "Foundation_BrkTil    -7176.9643    1.2e+05     -0.060      0.952   -2.42e+05    2.27e+05\n",
      "Foundation_CBlock    -8290.7372    1.2e+05     -0.069      0.945   -2.43e+05    2.26e+05\n",
      "Foundation_PConc     -4764.9391    1.2e+05     -0.040      0.968    -2.4e+05     2.3e+05\n",
      "SaleType_COD         -1.597e+04   4457.111     -3.584      0.000   -2.47e+04   -7232.110\n",
      "SaleType_New          5877.2194   4042.840      1.454      0.146   -2051.646    1.38e+04\n",
      "SaleType_WD          -9143.0317   3394.624     -2.693      0.007   -1.58e+04   -2485.454\n",
      "Neighborhood_Blmngtn  6605.2778   7008.080      0.943      0.346   -7139.052    2.03e+04\n",
      "Neighborhood_Blueste  1.745e+04   1.13e+04      1.543      0.123   -4726.609    3.96e+04\n",
      "Neighborhood_BrDale   2.843e+04   8893.073      3.197      0.001     1.1e+04    4.59e+04\n",
      "Neighborhood_BrkSide  2806.3520   6356.825      0.441      0.659   -9660.729    1.53e+04\n",
      "Neighborhood_ClearCr -2421.8235   6985.418     -0.347      0.729   -1.61e+04    1.13e+04\n",
      "Neighborhood_CollgCr -9325.9671   4725.344     -1.974      0.049   -1.86e+04     -58.566\n",
      "Neighborhood_Crawfor  3357.7894   5862.252      0.573      0.567   -8139.330    1.49e+04\n",
      "Neighborhood_Edwards -7849.6634   5356.727     -1.465      0.143   -1.84e+04    2656.014\n",
      "Neighborhood_Gilbert -1.002e+04   5096.909     -1.966      0.049      -2e+04     -26.918\n",
      "Neighborhood_Greens   7192.2241   1.45e+04      0.495      0.621   -2.13e+04    3.57e+04\n",
      "Neighborhood_GrnHill  1.197e+05   1.71e+04      7.012      0.000    8.62e+04    1.53e+05\n",
      "Neighborhood_IDOTRR   -433.8724   7118.952     -0.061      0.951   -1.44e+04    1.35e+04\n",
      "Neighborhood_Landmrk  6011.8463   2.43e+04      0.247      0.805   -4.17e+04    5.37e+04\n",
      "Neighborhood_MeadowV  1.102e+04   8885.845      1.240      0.215   -6411.145    2.84e+04\n",
      "Neighborhood_Mitchel -4822.1022   5364.308     -0.899      0.369   -1.53e+04    5698.443\n",
      "Neighborhood_NAmes   -7206.3030   5183.076     -1.390      0.165   -1.74e+04    2958.807\n",
      "Neighborhood_NPkVill  2.434e+04   8527.827      2.854      0.004    7611.674    4.11e+04\n",
      "Neighborhood_NWAmes  -1.275e+04   5378.471     -2.370      0.018   -2.33e+04   -2197.142\n",
      "Neighborhood_NoRidge  1.434e+04   5742.886      2.497      0.013    3075.539    2.56e+04\n",
      "Neighborhood_NridgHt   2.62e+04   4830.040      5.425      0.000    1.67e+04    3.57e+04\n",
      "Neighborhood_OldTown -3427.0115   6416.880     -0.534      0.593    -1.6e+04    9157.851\n",
      "Neighborhood_SWISU   -7735.0338   6866.853     -1.126      0.260   -2.12e+04    5732.321\n",
      "Neighborhood_Sawyer  -3736.4241   5429.771     -0.688      0.491   -1.44e+04    6912.508\n",
      "Neighborhood_SawyerW -1.193e+04   5127.742     -2.327      0.020    -2.2e+04   -1873.224\n",
      "Neighborhood_StoneBr  4.149e+04   6194.604      6.698      0.000    2.93e+04    5.36e+04\n",
      "Neighborhood_Timber  -9152.5304   5530.852     -1.655      0.098      -2e+04    1694.642\n",
      "Neighborhood_Veenker -1.144e+04   7494.279     -1.526      0.127   -2.61e+04    3260.107\n",
      "MSSubClass_20        -2600.8262   5839.950     -0.445      0.656   -1.41e+04    8852.553\n",
      "MSSubClass_30         6254.2130   6411.159      0.976      0.329   -6319.428    1.88e+04\n",
      "MSSubClass_40        -6014.7407   1.24e+04     -0.486      0.627   -3.03e+04    1.83e+04\n",
      "MSSubClass_45         6216.2898   7317.723      0.849      0.396   -8135.316    2.06e+04\n",
      "MSSubClass_60        -4886.6415   6567.546     -0.744      0.457   -1.78e+04    7993.708\n",
      "MSSubClass_70         3226.6440   6498.980      0.496      0.620   -9519.233     1.6e+04\n",
      "MSSubClass_75         8880.1151   8741.528      1.016      0.310   -8263.875     2.6e+04\n",
      "MSSubClass_85         -539.6584   8582.809     -0.063      0.950   -1.74e+04    1.63e+04\n",
      "MSSubClass_120       -3.514e+04    1.3e+04     -2.694      0.007   -6.07e+04   -9561.800\n",
      "MSSubClass_150        -7.14e+04   2.72e+04     -2.623      0.009   -1.25e+05    -1.8e+04\n",
      "MSSubClass_160       -3.473e+04   1.35e+04     -2.571      0.010   -6.12e+04   -8237.673\n",
      "MSSubClass_180       -2.284e+04    1.5e+04     -1.521      0.128   -5.23e+04    6609.619\n",
      "MSZoning_ACI         -3270.3107   6203.082     -0.527      0.598   -1.54e+04    8895.248\n",
      "RoofStyle_Othr        -1.33e+04   4719.812     -2.818      0.005   -2.26e+04   -4044.849\n",
      "Foundation_Other      6097.2340    1.2e+05      0.051      0.959   -2.29e+05    2.41e+05\n",
      "Exterior_BrkFace       1.33e+04   6024.621      2.207      0.027    1481.693    2.51e+04\n",
      "Exterior_CmentBd      4871.9090   5706.822      0.854      0.393   -6320.379    1.61e+04\n",
      "Exterior_HdBoard     -6730.9591   4973.700     -1.353      0.176   -1.65e+04    3023.522\n",
      "Exterior_MetalSd      1050.6053   4744.291      0.221      0.825   -8253.955    1.04e+04\n",
      "Exterior_Other       -4408.8817   7969.979     -0.553      0.580      -2e+04    1.12e+04\n",
      "Exterior_Plywood     -5206.8078   5226.617     -0.996      0.319   -1.55e+04    5043.697\n",
      "Exterior_Stucco      -3952.5479   6716.709     -0.588      0.556   -1.71e+04    9220.343\n",
      "Exterior_VinylSd     -2187.2899   4898.409     -0.447      0.655   -1.18e+04    7419.529\n",
      "Exterior_WdSdng      -4041.2466   4784.008     -0.845      0.398   -1.34e+04    5341.207\n",
      "Exterior_WdShing     -4486.2560   5754.163     -0.780      0.436   -1.58e+04    6798.878\n",
      "==============================================================================\n",
      "Omnibus:                      373.862   Durbin-Watson:                   1.984\n",
      "Prob(Omnibus):                  0.000   Jarque-Bera (JB):             4264.302\n",
      "Skew:                           0.506   Prob(JB):                         0.00\n",
      "Kurtosis:                      10.000   Cond. No.                     1.10e+16\n",
      "==============================================================================\n",
      "\n",
      "Notes:\n",
      "[1] Standard Errors assume that the covariance matrix of the errors is correctly specified.\n",
      "[2] The smallest eigenvalue is 2.34e-21. This might indicate that there are\n",
      "strong multicollinearity problems or that the design matrix is singular.\n"
     ]
    }
   ],
   "source": [
    "X.drop(['BldgType_Twnhs'], axis=1, inplace=True)\n",
    "model = sm.OLS(y,X)\n",
    "results = model.fit()\n",
    "print(results.summary())"
   ]
  },
  {
   "cell_type": "markdown",
   "id": "39cfff93",
   "metadata": {},
   "source": [
    "- R-squared:                       0.927\n",
    "- Adj. R-squared:                  0.922\n",
    "\n",
    "|Column Names|coef|std err|t|p-value|[0.025|0.975]|\n",
    "|---|---|---|---|---|---|---|\n",
    "|LotConfig_Inside|-440.2248|9.58e+04|-0.005|0.996|-1.88e+05|1.87e+05|\n"
   ]
  },
  {
   "cell_type": "code",
   "execution_count": 44,
   "id": "1b6e903d",
   "metadata": {},
   "outputs": [],
   "source": [
    "X.drop(['LotConfig_Inside'], axis=1, inplace=True)"
   ]
  },
  {
   "cell_type": "markdown",
   "id": "feaba863",
   "metadata": {},
   "source": [
    "- R-squared:                       0.927\n",
    "- Adj. R-squared:                  0.922\n",
    "\n",
    "|Column Names|coef|std err|t|p-value|[0.025|0.975]|\n",
    "|---|---|---|---|---|---|---|\n",
    "|Foundation_PConc|-4838.3100|1.36e+05|-0.036|0.972|-2.71e+05|2.61e+05|\n"
   ]
  },
  {
   "cell_type": "code",
   "execution_count": 45,
   "id": "b6769c81",
   "metadata": {},
   "outputs": [],
   "source": [
    "X.drop(['Foundation_PConc'], axis=1, inplace=True)"
   ]
  },
  {
   "cell_type": "markdown",
   "id": "352b375d",
   "metadata": {},
   "source": [
    "- R-squared:                       0.927\n",
    "- Adj. R-squared:                  0.922\n",
    "\n",
    "|Column Names|coef|std err|t|p-value|[0.025|0.975]|\n",
    "|---|---|---|---|---|---|---|\n",
    "|LandContour_Lvl|-6973.7136|1.63e+05|-0.043|0.966|-3.26e+05|3.12e+05|\n"
   ]
  },
  {
   "cell_type": "code",
   "execution_count": 46,
   "id": "974d72f5",
   "metadata": {},
   "outputs": [],
   "source": [
    "X.drop(['LandContour_Lvl'], axis=1, inplace=True)"
   ]
  },
  {
   "cell_type": "markdown",
   "id": "a8d3a7c2",
   "metadata": {},
   "source": [
    "- R-squared:                       0.927\n",
    "- Adj. R-squared:                  0.922\n",
    "\n",
    "|Column Names|coef|std err|t|p-value|[0.025|0.975]|\n",
    "|---|---|---|---|---|---|---|\n",
    "|Neighborhood_IDOTRR|-433.8724|7118.952|-0.061|0.951|-1.44e+04|1.35e+04|"
   ]
  },
  {
   "cell_type": "code",
   "execution_count": 47,
   "id": "757fed1b",
   "metadata": {},
   "outputs": [],
   "source": [
    "X.drop(['Neighborhood_IDOTRR'], axis=1, inplace=True)"
   ]
  },
  {
   "cell_type": "markdown",
   "id": "2fae1e98",
   "metadata": {},
   "source": [
    "- R-squared:                       0.927\n",
    "- Adj. R-squared:                  0.922\n",
    "\n",
    "|Column Names|coef|std err|t|p-value|[0.025|0.975]|\n",
    "|---|---|---|---|---|---|---|\n",
    "|MSSubClass_85|-547.7170|8579.544|-0.064|0.949|-1.74e+04|1.63e+04|\n"
   ]
  },
  {
   "cell_type": "code",
   "execution_count": 48,
   "id": "2d8b8015",
   "metadata": {},
   "outputs": [],
   "source": [
    "X.drop(['MSSubClass_85'], axis=1, inplace=True)"
   ]
  },
  {
   "cell_type": "markdown",
   "id": "5129b509",
   "metadata": {},
   "source": [
    "- R-squared:                       0.927\n",
    "- Adj. R-squared:                  0.922\n",
    "\n",
    "|Column Names|coef|std err|t|p-value|[0.025|0.975]|\n",
    "|---|---|---|---|---|---|---|\n",
    "|HouseStyle_SFoyer|-1134.2850|7322.134|-0.155|0.877|-1.55e+04|1.32e+04|\n"
   ]
  },
  {
   "cell_type": "code",
   "execution_count": 49,
   "id": "7d33713d",
   "metadata": {},
   "outputs": [],
   "source": [
    "X.drop(['HouseStyle_SFoyer'], axis=1, inplace=True)"
   ]
  },
  {
   "cell_type": "markdown",
   "id": "cad05e58",
   "metadata": {},
   "source": [
    "- R-squared:                       0.927\n",
    "- Adj. R-squared:                  0.922\n",
    "\n",
    "|Column Names|coef|std err|t|p-value|[0.025|0.975]|\n",
    "|---|---|---|---|---|---|---|\n",
    "|HouseStyle_SLvl|-380.4831|4109.134|-0.093|0.926|-8439.358|7678.391|\n"
   ]
  },
  {
   "cell_type": "code",
   "execution_count": 50,
   "id": "ac873380",
   "metadata": {},
   "outputs": [],
   "source": [
    "X.drop(['HouseStyle_SLvl'], axis=1, inplace=True)"
   ]
  },
  {
   "cell_type": "markdown",
   "id": "00c72265",
   "metadata": {},
   "source": [
    "Adj. R-squared matches R-squared now. \n",
    "\n",
    "- R-squared:                       0.927\n",
    "- Adj. R-squared:                  0.922\n",
    "\n",
    "|Column Names|coef|std err|t|p-value|[0.025|0.975]|\n",
    "|---|---|---|---|---|---|---|\n",
    "|BldgType_1Fam|-2098.6388|1.23e+04|-0.171|0.864|-2.62e+04|2.2e+04|\n"
   ]
  },
  {
   "cell_type": "code",
   "execution_count": 51,
   "id": "750f5b3a",
   "metadata": {},
   "outputs": [],
   "source": [
    "X.drop(['BldgType_1Fam'], axis=1, inplace=True)"
   ]
  },
  {
   "cell_type": "markdown",
   "id": "e3ec681f",
   "metadata": {},
   "source": [
    "- R-squared:                       0.927\n",
    "- Adj. R-squared:                  0.922\n",
    "\n",
    "|Column Names|coef|std err|t|p-value|[0.025|0.975]|\n",
    "|---|---|---|---|---|---|---|\n",
    "|BsmtHalfBath|479.2982|2224.436|0.215|0.829|-3883.284|4841.881|\n"
   ]
  },
  {
   "cell_type": "code",
   "execution_count": 52,
   "id": "0e6c4316",
   "metadata": {},
   "outputs": [],
   "source": [
    "X.drop(['BsmtHalfBath'], axis=1, inplace=True)"
   ]
  },
  {
   "cell_type": "markdown",
   "id": "4f1a4b30",
   "metadata": {},
   "source": [
    "- R-squared:                       0.927\n",
    "- Adj. R-squared:                  0.922\n",
    "\n",
    "|Column Names|coef|std err|t|p-value|[0.025|0.975]|\n",
    "|---|---|---|---|---|---|---|\n",
    "|EnclosedPorch|1.9756|9.612|0.206|0.837|-16.876|20.827|\n"
   ]
  },
  {
   "cell_type": "code",
   "execution_count": 53,
   "id": "b2d3608a",
   "metadata": {},
   "outputs": [],
   "source": [
    "X.drop(['EnclosedPorch'], axis=1, inplace=True)"
   ]
  },
  {
   "cell_type": "markdown",
   "id": "cef20036",
   "metadata": {},
   "source": [
    "- R-squared:                       0.927\n",
    "- Adj. R-squared:                  0.922\n",
    "\n",
    "|Column Names|coef|std err|t|p-value|[0.025|0.975]|\n",
    "|---|---|---|---|---|---|---|\n",
    "|Neighborhood_Landmrk|6403.2259|2.41e+04|0.266|0.790|-4.08e+04|5.36e+04|\n"
   ]
  },
  {
   "cell_type": "code",
   "execution_count": 54,
   "id": "091287c4",
   "metadata": {},
   "outputs": [],
   "source": [
    "X.drop(['Neighborhood_Landmrk'], axis=1, inplace=True)"
   ]
  },
  {
   "cell_type": "markdown",
   "id": "4824ca8a",
   "metadata": {},
   "source": [
    "- R-squared:                       0.927\n",
    "- Adj. R-squared:                  0.922\n",
    "\n",
    "|Column Names|coef|std err|t|p-value|[0.025|0.975]|\n",
    "|---|---|---|---|---|---|---|\n",
    "|Exterior_MetalSd|976.5510|4722.461|0.207|0.836|-8285.171|1.02e+04|\n"
   ]
  },
  {
   "cell_type": "code",
   "execution_count": 55,
   "id": "c386e029",
   "metadata": {},
   "outputs": [],
   "source": [
    "X.drop(['Exterior_MetalSd'], axis=1, inplace=True)"
   ]
  },
  {
   "cell_type": "markdown",
   "id": "42849391",
   "metadata": {},
   "source": [
    "- R-squared:                       0.927\n",
    "- Adj. R-squared:                  0.922\n",
    "\n",
    "|Column Names|coef|std err|t|p-value|[0.025|0.975]|\n",
    "|---|---|---|---|---|---|---|\n",
    "|MiscFeature_Gar2|0.3457|1.435|0.241|0.810|-2.470|3.161|\n"
   ]
  },
  {
   "cell_type": "code",
   "execution_count": 56,
   "id": "51adb5fc",
   "metadata": {},
   "outputs": [],
   "source": [
    "X.drop(['MiscFeature_Gar2'], axis=1, inplace=True)"
   ]
  },
  {
   "cell_type": "markdown",
   "id": "f074626e",
   "metadata": {},
   "source": [
    "- R-squared:                       0.927\n",
    "- Adj. R-squared:                  0.922\n",
    "\n",
    "|Column Names|coef|std err|t|p-value|[0.025|0.975]|\n",
    "|---|---|---|---|---|---|---|\n",
    "|HouseStyle_2.5Fin|-4086.2191|1.14e+04|-0.359|0.720|-2.64e+04|1.82e+04|\n"
   ]
  },
  {
   "cell_type": "code",
   "execution_count": 57,
   "id": "c501bfc9",
   "metadata": {},
   "outputs": [],
   "source": [
    "X.drop(['HouseStyle_2.5Fin'], axis=1, inplace=True)"
   ]
  },
  {
   "cell_type": "markdown",
   "id": "ceb419c3",
   "metadata": {},
   "source": [
    "- R-squared:                       0.927\n",
    "- Adj. R-squared:                  0.922\n",
    "\n",
    "|Column Names|coef|std err|t|p-value|[0.025|0.975]|\n",
    "|---|---|---|---|---|---|---|\n",
    "|MSSubClass_20|-1893.0300|4687.685|-0.404|0.686|-1.11e+04|7300.481|\n"
   ]
  },
  {
   "cell_type": "code",
   "execution_count": 58,
   "id": "250b3bed",
   "metadata": {},
   "outputs": [],
   "source": [
    "X.drop(['MSSubClass_20'], axis=1, inplace=True)"
   ]
  },
  {
   "cell_type": "markdown",
   "id": "cbe96622",
   "metadata": {},
   "source": [
    "- R-squared:                       0.927\n",
    "- Adj. R-squared:                  0.922\n",
    "\n",
    "|Column Names|coef|std err|t|p-value|[0.025|0.975]|\n",
    "|---|---|---|---|---|---|---|\n",
    "|MSSubClass_40|-4089.9792|1.16e+04|-0.351|0.725|-2.69e+04|1.87e+04|\n"
   ]
  },
  {
   "cell_type": "code",
   "execution_count": 59,
   "id": "749e6ca8",
   "metadata": {},
   "outputs": [],
   "source": [
    "X.drop(['MSSubClass_40'], axis=1, inplace=True)"
   ]
  },
  {
   "cell_type": "markdown",
   "id": "939685c4",
   "metadata": {},
   "source": [
    "- R-squared:                       0.927\n",
    "- Adj. R-squared:                  0.922\n",
    "\n",
    "|Column Names|coef|std err|t|p-value|[0.025|0.975]|\n",
    "|---|---|---|---|---|---|---|\n",
    "|Neighborhood_ClearCr|-2264.0848|5979.781|-0.379|0.705|-1.4e+04|9463.482|\n"
   ]
  },
  {
   "cell_type": "code",
   "execution_count": 60,
   "id": "52609132",
   "metadata": {},
   "outputs": [],
   "source": [
    "X.drop(['Neighborhood_ClearCr'], axis=1, inplace=True)"
   ]
  },
  {
   "cell_type": "markdown",
   "id": "e45c0536",
   "metadata": {},
   "source": [
    "- R-squared:                       0.927\n",
    "- Adj. R-squared:                  0.922\n",
    "\n",
    "|Column Names|coef|std err|t|p-value|[0.025|0.975]|\n",
    "|---|---|---|---|---|---|---|\n",
    "|LandSlope_Mod|1373.8991|3150.076|0.436|0.663|-4804.040|7551.838|\n"
   ]
  },
  {
   "cell_type": "code",
   "execution_count": 61,
   "id": "64a84891",
   "metadata": {},
   "outputs": [],
   "source": [
    "X.drop(['LandSlope_Mod'], axis=1, inplace=True)"
   ]
  },
  {
   "cell_type": "markdown",
   "id": "d7a5178d",
   "metadata": {},
   "source": [
    "- R-squared:                       0.927\n",
    "- Adj. R-squared:                  0.922\n",
    "\n",
    "|Column Names|coef|std err|t|p-value|[0.025|0.975]|\n",
    "|---|---|---|---|---|---|---|\n",
    "|MiscFeature_Shed|1.0991|2.755|0.399|0.690|-4.304|6.502|\n"
   ]
  },
  {
   "cell_type": "code",
   "execution_count": 62,
   "id": "52251e4b",
   "metadata": {},
   "outputs": [],
   "source": [
    "X.drop(['MiscFeature_Shed'], axis=1, inplace=True)"
   ]
  },
  {
   "cell_type": "markdown",
   "id": "a8feff21",
   "metadata": {},
   "source": [
    "- R-squared:                       0.927\n",
    "- Adj. R-squared:                  0.923\n",
    "\n",
    "|Column Names|coef|std err|t|p-value|[0.025|0.975]|\n",
    "|---|---|---|---|---|---|---|\n",
    "|LandContour_Low|-1718.9346|4019.496|-0.428|0.669|-9601.977|6164.108|\n"
   ]
  },
  {
   "cell_type": "code",
   "execution_count": 63,
   "id": "9a622078",
   "metadata": {},
   "outputs": [],
   "source": [
    "X.drop(['LandContour_Low'], axis=1, inplace=True)"
   ]
  },
  {
   "cell_type": "markdown",
   "id": "923c4f3a",
   "metadata": {},
   "source": [
    "- R-squared:                       0.927\n",
    "- Adj. R-squared:                  0.923\n",
    "\n",
    "|Column Names|coef|std err|t|p-value|[0.025|0.975]|\n",
    "|---|---|---|---|---|---|---|\n",
    "|GarageYrBltDiff|21.0025|43.362|0.484|0.628|-64.038|106.043|\n"
   ]
  },
  {
   "cell_type": "code",
   "execution_count": 64,
   "id": "1764796a",
   "metadata": {},
   "outputs": [],
   "source": [
    "X.drop(['GarageYrBltDiff'], axis=1, inplace=True)"
   ]
  },
  {
   "cell_type": "markdown",
   "id": "28d4f4ac",
   "metadata": {},
   "source": [
    "- R-squared:                       0.927\n",
    "- Adj. R-squared:                  0.923\n",
    "\n",
    "|Column Names|coef|std err|t|p-value|[0.025|0.975]|\n",
    "|---|---|---|---|---|---|---|\n",
    "|LandContour_Bnk|-1376.2155|2827.660|-0.487|0.627|-6921.823|4169.392|\n",
    "|MSZoning_ACI|-2920.4879|6007.840|-0.486|0.627|-1.47e+04|8862.089|\n"
   ]
  },
  {
   "cell_type": "code",
   "execution_count": 65,
   "id": "c83b7256",
   "metadata": {},
   "outputs": [],
   "source": [
    "X.drop(['LandContour_Bnk','MSZoning_ACI'], axis=1, inplace=True)"
   ]
  },
  {
   "cell_type": "markdown",
   "id": "b8690161",
   "metadata": {},
   "source": [
    "- R-squared:                       0.927\n",
    "- Adj. R-squared:                  0.923\n",
    "\n",
    "|Column Names|coef|std err|t|p-value|[0.025|0.975]|\n",
    "|---|---|---|---|---|---|---|\n",
    "|LowQualFinSF|3.7914|7.822|0.485|0.628|-11.548|19.131|\n",
    "|3SsnPorch|9.6961|19.933|0.486|0.627|-29.397|48.789|\n"
   ]
  },
  {
   "cell_type": "code",
   "execution_count": 66,
   "id": "7b78daf4",
   "metadata": {},
   "outputs": [],
   "source": [
    "X.drop(['LowQualFinSF','3SsnPorch'], axis=1, inplace=True)"
   ]
  },
  {
   "cell_type": "markdown",
   "id": "1e7aaa3f",
   "metadata": {},
   "source": [
    "- R-squared:                       0.927\n",
    "- Adj. R-squared:                  0.923\n",
    "\n",
    "|Column Names|coef|std err|t|p-value|[0.025|0.975]|\n",
    "|---|---|---|---|---|---|---|\n",
    "|PoolArea|7.6253|15.043|0.507|0.612|-21.878|37.128|\n"
   ]
  },
  {
   "cell_type": "code",
   "execution_count": 67,
   "id": "94d70591",
   "metadata": {},
   "outputs": [],
   "source": [
    "X.drop(['PoolArea'], axis=1, inplace=True)"
   ]
  },
  {
   "cell_type": "markdown",
   "id": "66dec072",
   "metadata": {},
   "source": [
    "- R-squared:                       0.927\n",
    "- Adj. R-squared:                  0.923\n",
    "\n",
    "|Column Names|coef|std err|t|p-value|[0.025|0.975]|\n",
    "|---|---|---|---|---|---|---|\n",
    "|Neighborhood_Greens|8274.8493|1.39e+04|0.596|0.551|-1.9e+04|3.55e+04|\n"
   ]
  },
  {
   "cell_type": "code",
   "execution_count": 68,
   "id": "36a1e756",
   "metadata": {},
   "outputs": [],
   "source": [
    "X.drop(['Neighborhood_Greens'], axis=1, inplace=True)"
   ]
  },
  {
   "cell_type": "markdown",
   "id": "5361d23a",
   "metadata": {},
   "source": [
    "- R-squared:                       0.927\n",
    "- Adj. R-squared:                  0.923\n",
    "\n",
    "|Column Names|coef|std err|t|p-value|[0.025|0.975]|\n",
    "|---|---|---|---|---|---|---|\n",
    "|LotConfig_FR2|-1941.0527|3109.942|-0.624|0.533|-8040.262|4158.156|\n"
   ]
  },
  {
   "cell_type": "code",
   "execution_count": 69,
   "id": "c76e8f33",
   "metadata": {},
   "outputs": [],
   "source": [
    "X.drop(['LotConfig_FR2'], axis=1, inplace=True)"
   ]
  },
  {
   "cell_type": "markdown",
   "id": "0014082a",
   "metadata": {},
   "source": [
    "- R-squared:                       0.927\n",
    "- Adj. R-squared:                  0.923\n",
    "\n",
    "|Column Names|coef|std err|t|p-value|[0.025|0.975]|\n",
    "|---|---|---|---|---|---|---|\n",
    "|Fence|-429.7675|624.257|-0.688|0.491|-1654.058|794.523|\n"
   ]
  },
  {
   "cell_type": "code",
   "execution_count": 70,
   "id": "ceb29316",
   "metadata": {},
   "outputs": [],
   "source": [
    "X.drop(['Fence'], axis=1, inplace=True)"
   ]
  },
  {
   "cell_type": "markdown",
   "id": "e48d89da",
   "metadata": {},
   "source": [
    "- R-squared:                       0.927\n",
    "- Adj. R-squared:                  0.923\n",
    "\n",
    "|Column Names|coef|std err|t|p-value|[0.025|0.975]|\n",
    "|---|---|---|---|---|---|---|\n",
    "|Neighborhood_OldTown|-2026.2887|3132.699|-0.647|0.518|-8170.124|4117.547|\n"
   ]
  },
  {
   "cell_type": "code",
   "execution_count": 71,
   "id": "0170bdf1",
   "metadata": {},
   "outputs": [],
   "source": [
    "X.drop(['Neighborhood_OldTown'], axis=1, inplace=True)"
   ]
  },
  {
   "cell_type": "markdown",
   "id": "36d3d7d1",
   "metadata": {},
   "source": [
    "- R-squared:                       0.927\n",
    "- Adj. R-squared:                  0.922\n",
    "\n",
    "|Column Names|coef|std err|t|p-value|[0.025|0.975]|\n",
    "|---|---|---|---|---|---|---|\n",
    "|Neighborhood_Sawyer|-1984.1224|3241.737|-0.612|0.541|-8341.801|4373.556|\n"
   ]
  },
  {
   "cell_type": "code",
   "execution_count": 72,
   "id": "def01089",
   "metadata": {},
   "outputs": [],
   "source": [
    "X.drop(['Neighborhood_Sawyer'], axis=1, inplace=True)"
   ]
  },
  {
   "cell_type": "markdown",
   "id": "061bc55b",
   "metadata": {},
   "source": [
    "- R-squared:                       0.927\n",
    "- Adj. R-squared:                  0.923\n",
    "\n",
    "|Column Names|coef|std err|t|p-value|[0.025|0.975]|\n",
    "|---|---|---|---|---|---|---|\n",
    "|RoofMatl_CompShg|-4386.5327|5776.467|-0.759|0.448|-1.57e+04|6942.244|\n",
    "|Exterior_Other|-5064.2642|6654.130|-0.761|0.447|-1.81e+04|7985.779|\n"
   ]
  },
  {
   "cell_type": "code",
   "execution_count": 73,
   "id": "da74c36b",
   "metadata": {},
   "outputs": [],
   "source": [
    "X.drop(['RoofMatl_CompShg','Exterior_Other'], axis=1, inplace=True)"
   ]
  },
  {
   "cell_type": "markdown",
   "id": "a3cdb8c5",
   "metadata": {},
   "source": [
    "- R-squared:                       0.927\n",
    "- Adj. R-squared:                  0.923\n",
    "\n",
    "|Column Names|coef|std err|t|p-value|[0.025|0.975]|\n",
    "|---|---|---|---|---|---|---|\n",
    "|Neighborhood_Mitchel|-2368.0905|3065.567|-0.772|0.440|-8380.261|3644.079|\n"
   ]
  },
  {
   "cell_type": "code",
   "execution_count": 74,
   "id": "c1d76190",
   "metadata": {},
   "outputs": [],
   "source": [
    "X.drop(['Neighborhood_Mitchel'], axis=1, inplace=True)"
   ]
  },
  {
   "cell_type": "markdown",
   "id": "4761d1b8",
   "metadata": {},
   "source": [
    "- R-squared:                       0.927\n",
    "- Adj. R-squared:                  0.923\n",
    "\n",
    "|Column Names|coef|std err|t|p-value|[0.025|0.975]|\n",
    "|---|---|---|---|---|---|---|\n",
    "|Alley|1095.7645|1381.803|0.793|0.428|-1614.217|3805.746|\n"
   ]
  },
  {
   "cell_type": "code",
   "execution_count": 75,
   "id": "575a40d1",
   "metadata": {},
   "outputs": [],
   "source": [
    "X.drop(['Alley'], axis=1, inplace=True)"
   ]
  },
  {
   "cell_type": "markdown",
   "id": "d2d2ed75",
   "metadata": {},
   "source": [
    "- R-squared:                       0.927\n",
    "- Adj. R-squared:                  0.923\n",
    "\n",
    "|Column Names|coef|std err|t|p-value|[0.025|0.975]|\n",
    "|---|---|---|---|---|---|---|\n",
    "|Exterior_Stucco|-4337.8285|5091.643|-0.852|0.394|-1.43e+04|5647.862|\n"
   ]
  },
  {
   "cell_type": "code",
   "execution_count": 76,
   "id": "3dfa545b",
   "metadata": {},
   "outputs": [],
   "source": [
    "X.drop(['Exterior_Stucco'], axis=1, inplace=True)"
   ]
  },
  {
   "cell_type": "markdown",
   "id": "5be9eb4e",
   "metadata": {},
   "source": [
    "- R-squared:                       0.927\n",
    "- Adj. R-squared:                  0.923\n",
    "\n",
    "|Column Names|coef|std err|t|p-value|[0.025|0.975]|\n",
    "|---|---|---|---|---|---|---|\n",
    "|PavedDrive|1106.8519|1219.913|0.907|0.364|-1285.630|3499.334|\n",
    "|Foundation_BrkTil|-2352.8664|2592.059|-0.908|0.364|-7436.389|2730.656|\n"
   ]
  },
  {
   "cell_type": "code",
   "execution_count": 77,
   "id": "9f040556",
   "metadata": {},
   "outputs": [],
   "source": [
    "X.drop(['PavedDrive','Foundation_BrkTil'], axis=1, inplace=True)"
   ]
  },
  {
   "cell_type": "markdown",
   "id": "a5648488",
   "metadata": {},
   "source": [
    "- R-squared:                       0.927\n",
    "- Adj. R-squared:                  0.923\n",
    "\n",
    "|Column Names|coef|std err|t|p-value|[0.025|0.975]|\n",
    "|---|---|---|---|---|---|---|\n",
    "|GarageFinish|834.8107|918.678|0.909|0.364|-966.892|2636.514|\n"
   ]
  },
  {
   "cell_type": "code",
   "execution_count": 78,
   "id": "388acb98",
   "metadata": {},
   "outputs": [],
   "source": [
    "X.drop(['GarageFinish'], axis=1, inplace=True)"
   ]
  },
  {
   "cell_type": "markdown",
   "id": "e9cf6c28",
   "metadata": {},
   "source": [
    "- R-squared:                       0.927\n",
    "- Adj. R-squared:                  0.923\n",
    "\n",
    "|Column Names|coef|std err|t|p-value|[0.025|0.975]|\n",
    "|---|---|---|---|---|---|---|\n",
    "|MSSubClass_60|-3020.5241|3143.322|-0.961|0.337|-9185.174|3144.126|\n"
   ]
  },
  {
   "cell_type": "code",
   "execution_count": 79,
   "id": "ae0a689c",
   "metadata": {},
   "outputs": [],
   "source": [
    "X.drop(['MSSubClass_60'], axis=1, inplace=True)"
   ]
  },
  {
   "cell_type": "markdown",
   "id": "534f076e",
   "metadata": {},
   "source": [
    "- R-squared:                       0.927\n",
    "- Adj. R-squared:                  0.923\n",
    "\n",
    "|Column Names|coef|std err|t|p-value|[0.025|0.975]|\n",
    "|---|---|---|---|---|---|---|\n",
    "|FullBath|1538.2079|1583.777|0.971|0.332|-1567.878|4644.294|"
   ]
  },
  {
   "cell_type": "code",
   "execution_count": 80,
   "id": "7f52f0bd",
   "metadata": {},
   "outputs": [],
   "source": [
    "X.drop(['FullBath'], axis=1, inplace=True)"
   ]
  },
  {
   "cell_type": "markdown",
   "id": "1f1bbb28",
   "metadata": {},
   "source": [
    "- R-squared:                       0.927\n",
    "- Adj. R-squared:                  0.923\n",
    "\n",
    "|Column Names|coef|std err|t|p-value|[0.025|0.975]|\n",
    "|---|---|---|---|---|---|---|\n",
    "|HalfBath|1042.7321|1434.977|0.727|0.468|-1771.529|3856.993|\n"
   ]
  },
  {
   "cell_type": "code",
   "execution_count": 81,
   "id": "bb64297f",
   "metadata": {},
   "outputs": [],
   "source": [
    "X.drop(['HalfBath'], axis=1, inplace=True)"
   ]
  },
  {
   "cell_type": "markdown",
   "id": "e0fc6bc4",
   "metadata": {},
   "source": [
    "- R-squared:                       0.927\n",
    "- Adj. R-squared:                  0.923\n",
    "\n",
    "|Column Names|coef|std err|t|p-value|[0.025|0.975]|\n",
    "|---|---|---|---|---|---|---|\n",
    "|MSSubClass_45|6681.3195|7050.741|0.948|0.343|-7146.506|2.05e+04|\n"
   ]
  },
  {
   "cell_type": "code",
   "execution_count": 82,
   "id": "724b9c63",
   "metadata": {},
   "outputs": [],
   "source": [
    "X.drop(['MSSubClass_45'], axis=1, inplace=True)"
   ]
  },
  {
   "cell_type": "markdown",
   "id": "4b881c71",
   "metadata": {},
   "source": [
    "- R-squared:                       0.927\n",
    "- Adj. R-squared:                  0.923\n",
    "\n",
    "|Column Names|coef|std err|t|p-value|[0.025|0.975]|\n",
    "|---|---|---|---|---|---|---|\n",
    "|YrSold|-389.7046|391.989|-0.994|0.320|-1158.469|379.060|\n"
   ]
  },
  {
   "cell_type": "code",
   "execution_count": 83,
   "id": "26c97973",
   "metadata": {},
   "outputs": [],
   "source": [
    "X.drop(['YrSold'], axis=1, inplace=True)"
   ]
  },
  {
   "cell_type": "markdown",
   "id": "864156d2",
   "metadata": {},
   "source": [
    "- R-squared:                       0.927\n",
    "- Adj. R-squared:                  0.923\n",
    "\n",
    "|Column Names|coef|std err|t|p-value|[0.025|0.975]|\n",
    "|---|---|---|---|---|---|---|\n",
    "|MoSold|-167.0432|184.259|-0.907|0.365|-528.409|194.322|\n"
   ]
  },
  {
   "cell_type": "code",
   "execution_count": 84,
   "id": "930c1d39",
   "metadata": {},
   "outputs": [],
   "source": [
    "X.drop(['MoSold'], axis=1, inplace=True)"
   ]
  },
  {
   "cell_type": "markdown",
   "id": "8106acea",
   "metadata": {},
   "source": [
    "- R-squared:                       0.927\n",
    "- Adj. R-squared:                  0.923\n",
    "\n",
    "|Column Names|coef|std err|t|p-value|[0.025|0.975]|\n",
    "|---|---|---|---|---|---|---|\n",
    "|LotShape_IR2|3660.9113|3407.691|1.074|0.283|-3022.203|1.03e+04|\n"
   ]
  },
  {
   "cell_type": "code",
   "execution_count": 85,
   "id": "5e897385",
   "metadata": {},
   "outputs": [],
   "source": [
    "X.drop(['LotShape_IR2'], axis=1, inplace=True)"
   ]
  },
  {
   "cell_type": "markdown",
   "id": "37ebd54a",
   "metadata": {},
   "source": [
    "- R-squared:                       0.927\n",
    "- Adj. R-squared:                  0.923\n",
    "\n",
    "|Column Names|coef|std err|t|p-value|[0.025|0.975]|\n",
    "|---|---|---|---|---|---|---|\n",
    "|Neighborhood_SWISU|-4705.4113|4576.132|-1.028|0.304|-1.37e+04|4269.231|\n"
   ]
  },
  {
   "cell_type": "code",
   "execution_count": 86,
   "id": "fd8170d7",
   "metadata": {},
   "outputs": [],
   "source": [
    "X.drop(['Neighborhood_SWISU'], axis=1, inplace=True)"
   ]
  },
  {
   "cell_type": "markdown",
   "id": "759a8eb8",
   "metadata": {},
   "source": [
    "- R-squared:                       0.927\n",
    "- Adj. R-squared:                  0.923\n",
    "\n",
    "|Column Names|coef|std err|t|p-value|[0.025|0.975]|\n",
    "|---|---|---|---|---|---|---|\n",
    "|LandSlope_Sev|-9295.0124|8243.550|-1.128|0.260|-2.55e+04|6872.109|\n"
   ]
  },
  {
   "cell_type": "code",
   "execution_count": 87,
   "id": "1ad76123",
   "metadata": {},
   "outputs": [],
   "source": [
    "X.drop(['LandSlope_Sev'], axis=1, inplace=True)"
   ]
  },
  {
   "cell_type": "markdown",
   "id": "9ae9129e",
   "metadata": {},
   "source": [
    "- R-squared:                       0.927\n",
    "- Adj. R-squared:                  0.923\n",
    "\n",
    "|Column Names|coef|std err|t|p-value|[0.025|0.975]|\n",
    "|---|---|---|---|---|---|---|\n",
    "|Exterior_CmentBd|3866.0083|3379.624|1.144|0.253|-2762.055|1.05e+04|\n"
   ]
  },
  {
   "cell_type": "code",
   "execution_count": 88,
   "id": "608b45fb",
   "metadata": {},
   "outputs": [],
   "source": [
    "X.drop(['Exterior_CmentBd'], axis=1, inplace=True)"
   ]
  },
  {
   "cell_type": "markdown",
   "id": "bf8bc2ac",
   "metadata": {},
   "source": [
    "- R-squared:                       0.927\n",
    "- Adj. R-squared:                  0.923\n",
    "\n",
    "|Column Names|coef|std err|t|p-value|[0.025|0.975]|\n",
    "|---|---|---|---|---|---|---|\n",
    "|Street_Pave|9859.9091|8637.371|1.142|0.254|-7079.558|2.68e+04|\n"
   ]
  },
  {
   "cell_type": "code",
   "execution_count": 89,
   "id": "380e61ed",
   "metadata": {},
   "outputs": [],
   "source": [
    "X.drop(['Street_Pave'], axis=1, inplace=True)"
   ]
  },
  {
   "cell_type": "markdown",
   "id": "115739da",
   "metadata": {},
   "source": [
    "- R-squared:                       0.927\n",
    "- Adj. R-squared:                  0.923\n",
    "\n",
    "|Column Names|coef|std err|t|p-value|[0.025|0.975]|\n",
    "|---|---|---|---|---|---|---|\n",
    "|ExterCond|-1847.6881|1510.013|-1.224|0.221|-4809.100|1113.724|\n",
    "|OpenPorchSF|10.5074|8.589|1.223|0.221|-6.337|27.352|\n"
   ]
  },
  {
   "cell_type": "code",
   "execution_count": 90,
   "id": "3188b959",
   "metadata": {},
   "outputs": [],
   "source": [
    "X.drop(['ExterCond','OpenPorchSF'], axis=1, inplace=True)"
   ]
  },
  {
   "cell_type": "markdown",
   "id": "05f27e63",
   "metadata": {},
   "source": [
    "- R-squared:                       0.926\n",
    "- Adj. R-squared:                  0.923\n",
    "\n",
    "|Column Names|coef|std err|t|p-value|[0.025|0.975]|\n",
    "|---|---|---|---|---|---|---|\n",
    "|BsmtFin|-457.5821|341.752|-1.339|0.181|-1127.821|212.656|\n"
   ]
  },
  {
   "cell_type": "code",
   "execution_count": 91,
   "id": "7b654462",
   "metadata": {},
   "outputs": [],
   "source": [
    "X.drop(['BsmtFin'], axis=1, inplace=True)"
   ]
  },
  {
   "cell_type": "markdown",
   "id": "799866ed",
   "metadata": {},
   "source": [
    "- R-squared:                       0.926\n",
    "- Adj. R-squared:                  0.923\n",
    "\n",
    "|Column Names|coef|std err|t|p-value|[0.025|0.975]|\n",
    "|---|---|---|---|---|---|---|\n",
    "|GarageCond|2276.9721|2036.851|1.118|0.264|-1717.661|6271.605|\n"
   ]
  },
  {
   "cell_type": "code",
   "execution_count": 92,
   "id": "c5142730",
   "metadata": {},
   "outputs": [],
   "source": [
    "X.drop(['GarageCond'], axis=1, inplace=True)"
   ]
  },
  {
   "cell_type": "markdown",
   "id": "4ed98855",
   "metadata": {},
   "source": [
    "- R-squared:                       0.926\n",
    "- Adj. R-squared:                  0.923\n",
    "\n",
    "|Column Names|coef|std err|t|p-value|[0.025|0.975]|\n",
    "|---|---|---|---|---|---|---|\n",
    "|1stFlrSF|14.2073|10.723|1.325|0.185|-6.823|35.237|\n"
   ]
  },
  {
   "cell_type": "code",
   "execution_count": 93,
   "id": "816ca6e2",
   "metadata": {},
   "outputs": [],
   "source": [
    "X.drop(['1stFlrSF'], axis=1, inplace=True)"
   ]
  },
  {
   "cell_type": "markdown",
   "id": "a0e09df0",
   "metadata": {},
   "source": [
    "- R-squared:                       0.926\n",
    "- Adj. R-squared:                  0.923\n",
    "\n",
    "|Column Names|coef|std err|t|p-value|[0.025|0.975]|\n",
    "|---|---|---|---|---|---|---|\n",
    "|2ndFlrSF|1.9130|3.529|0.542|0.588|-5.009|8.835|\n"
   ]
  },
  {
   "cell_type": "code",
   "execution_count": 94,
   "id": "1080d163",
   "metadata": {},
   "outputs": [],
   "source": [
    "X.drop(['2ndFlrSF'], axis=1, inplace=True)"
   ]
  },
  {
   "cell_type": "markdown",
   "id": "b790cdee",
   "metadata": {},
   "source": [
    "- R-squared:                       0.926\n",
    "- Adj. R-squared:                  0.923\n",
    "\n",
    "|Column Names|coef|std err|t|p-value|[0.025|0.975]|\n",
    "|---|---|---|---|---|---|---|\n",
    "|GarageType_CarPort|-9900.9959|7431.156|-1.332|0.183|-2.45e+04|4672.830|\n"
   ]
  },
  {
   "cell_type": "code",
   "execution_count": 95,
   "id": "906329e7",
   "metadata": {},
   "outputs": [],
   "source": [
    "X.drop(['GarageType_CarPort'], axis=1, inplace=True)"
   ]
  },
  {
   "cell_type": "markdown",
   "id": "e0b4dc71",
   "metadata": {},
   "source": [
    "- R-squared:                       0.926\n",
    "- Adj. R-squared:                  0.923\n",
    "\n",
    "|Column Names|coef|std err|t|p-value|[0.025|0.975]|\n",
    "|---|---|---|---|---|---|---|\n",
    "|YearRemod/Add|57.8054|41.308|1.399|0.162|-23.208|138.818|\n"
   ]
  },
  {
   "cell_type": "code",
   "execution_count": 96,
   "id": "b9dbf3d5",
   "metadata": {},
   "outputs": [],
   "source": [
    "X.drop(['YearRemod/Add'], axis=1, inplace=True)"
   ]
  },
  {
   "cell_type": "markdown",
   "id": "d0de3873",
   "metadata": {},
   "source": [
    "- R-squared:                       0.926\n",
    "- Adj. R-squared:                  0.923\n",
    "\n",
    "|Column Names|coef|std err|t|p-value|[0.025|0.975]|\n",
    "|---|---|---|---|---|---|---|\n",
    "|Exterior_WdShing|-4850.6820|3612.038|-1.343|0.179|-1.19e+04|2233.166|\n"
   ]
  },
  {
   "cell_type": "code",
   "execution_count": 97,
   "id": "722c2c6c",
   "metadata": {},
   "outputs": [],
   "source": [
    "X.drop(['Exterior_WdShing'], axis=1, inplace=True)"
   ]
  },
  {
   "cell_type": "markdown",
   "id": "5d9a95ab",
   "metadata": {},
   "source": [
    "- R-squared:                       0.926\n",
    "- Adj. R-squared:                  0.923\n",
    "\n",
    "|Column Names|coef|std err|t|p-value|[0.025|0.975]|\n",
    "|---|---|---|---|---|---|---|\n",
    "|Electrical|-2645.7197|1970.905|-1.342|0.180|-6511.013|1219.574|\n"
   ]
  },
  {
   "cell_type": "code",
   "execution_count": 98,
   "id": "5d6fc1ee",
   "metadata": {},
   "outputs": [],
   "source": [
    "X.drop(['Electrical'], axis=1, inplace=True)"
   ]
  },
  {
   "cell_type": "markdown",
   "id": "8304a37b",
   "metadata": {},
   "source": [
    "- R-squared:                       0.926\n",
    "- Adj. R-squared:                  0.923\n",
    "\n",
    "|Column Names|coef|std err|t|p-value|[0.025|0.975]|\n",
    "|---|---|---|---|---|---|---|\n",
    "|GarageType_BuiltIn|-5140.6343|3710.635|-1.385|0.166|-1.24e+04|2136.575|\n"
   ]
  },
  {
   "cell_type": "code",
   "execution_count": 99,
   "id": "b718cffa",
   "metadata": {},
   "outputs": [],
   "source": [
    "X.drop(['GarageType_BuiltIn'], axis=1, inplace=True)"
   ]
  },
  {
   "cell_type": "markdown",
   "id": "638ca711",
   "metadata": {},
   "source": [
    "- R-squared:                       0.926\n",
    "- Adj. R-squared:                  0.923\n",
    "\n",
    "|Column Names|coef|std err|t|p-value|[0.025|0.975]|\n",
    "|---|---|---|---|---|---|---|\n",
    "|GarageType_Detchd|-2604.0739|2182.358|-1.193|0.233|-6884.061|1675.913|\n"
   ]
  },
  {
   "cell_type": "code",
   "execution_count": 100,
   "id": "085276f9",
   "metadata": {},
   "outputs": [],
   "source": [
    "X.drop(['GarageType_Detchd'], axis=1, inplace=True)"
   ]
  },
  {
   "cell_type": "markdown",
   "id": "845ec875",
   "metadata": {},
   "source": [
    "- R-squared:                       0.926\n",
    "- Adj. R-squared:                  0.923\n",
    "\n",
    "|Column Names|coef|std err|t|p-value|[0.025|0.975]|\n",
    "|---|---|---|---|---|---|---|\n",
    "|BldgType_Duplex|-5727.4221|4636.846|-1.235|0.217|-1.48e+04|3366.245|\n"
   ]
  },
  {
   "cell_type": "code",
   "execution_count": 101,
   "id": "4eb6b256",
   "metadata": {},
   "outputs": [],
   "source": [
    "X.drop(['BldgType_Duplex'], axis=1, inplace=True)"
   ]
  },
  {
   "cell_type": "markdown",
   "id": "e575e1e7",
   "metadata": {},
   "source": [
    "- R-squared:                       0.926\n",
    "- Adj. R-squared:                  0.923\n",
    "\n",
    "|Column Names|coef|std err|t|p-value|[0.025|0.975]|\n",
    "|---|---|---|---|---|---|---|\n",
    "|BldgType_2fmCon|-3491.6668|3725.791|-0.937|0.349|-1.08e+04|3815.259|\n"
   ]
  },
  {
   "cell_type": "code",
   "execution_count": 102,
   "id": "c331d8b4",
   "metadata": {},
   "outputs": [],
   "source": [
    "X.drop(['BldgType_2fmCon'], axis=1, inplace=True)"
   ]
  },
  {
   "cell_type": "markdown",
   "id": "98ba1ad6",
   "metadata": {},
   "source": [
    "- R-squared:                       0.926\n",
    "- Adj. R-squared:                  0.923\n",
    "\n",
    "|Column Names|coef|std err|t|p-value|[0.025|0.975]|\n",
    "|---|---|---|---|---|---|---|\n",
    "|MSSubClass_70|5372.5563|3631.957|1.479|0.139|-1750.342|1.25e+04|\n",
    "|GarageType_Basment|-7040.8667|4746.254|-1.483|0.138|-1.63e+04|2267.363|\n"
   ]
  },
  {
   "cell_type": "code",
   "execution_count": 103,
   "id": "a189941c",
   "metadata": {},
   "outputs": [],
   "source": [
    "X.drop(['MSSubClass_70','GarageType_Basment'], axis=1, inplace=True)"
   ]
  },
  {
   "cell_type": "markdown",
   "id": "5d7912b2",
   "metadata": {},
   "source": [
    "- R-squared:                       0.926\n",
    "- Adj. R-squared:                  0.923\n",
    "\n",
    "|Column Names|coef|std err|t|p-value|[0.025|0.975]|\n",
    "|---|---|---|---|---|---|---|\n",
    "|MSSubClass_75|7822.7066|6061.351|1.291|0.197|-4064.649|1.97e+04|\n"
   ]
  },
  {
   "cell_type": "code",
   "execution_count": 104,
   "id": "3cf3f78d",
   "metadata": {},
   "outputs": [],
   "source": [
    "X.drop(['MSSubClass_75'], axis=1, inplace=True)"
   ]
  },
  {
   "cell_type": "markdown",
   "id": "a143edae",
   "metadata": {},
   "source": [
    "- R-squared:                       0.926\n",
    "- Adj. R-squared:                  0.923\n",
    "\n",
    "|Column Names|coef|std err|t|p-value|[0.025|0.975]|\n",
    "|---|---|---|---|---|---|---|\n",
    "|HouseStyle_1.5Story|2594.3248|2146.041|1.209|0.227|-1614.432|6803.081|\n"
   ]
  },
  {
   "cell_type": "code",
   "execution_count": 105,
   "id": "74eb149d",
   "metadata": {},
   "outputs": [],
   "source": [
    "X.drop(['HouseStyle_1.5Story'], axis=1, inplace=True)"
   ]
  },
  {
   "cell_type": "markdown",
   "id": "f51ba063",
   "metadata": {},
   "source": [
    "- R-squared:                       0.925\n",
    "- Adj. R-squared:                  0.922\n",
    "\n",
    "|Column Names|coef|std err|t|p-value|[0.025|0.975]|\n",
    "|---|---|---|---|---|---|---|\n",
    "|BldgType_TwnhsE|5211.6996|3825.207|1.362|0.173|-2290.186|1.27e+04|\n"
   ]
  },
  {
   "cell_type": "code",
   "execution_count": 106,
   "id": "889e4350",
   "metadata": {},
   "outputs": [],
   "source": [
    "X.drop(['BldgType_TwnhsE'], axis=1, inplace=True)"
   ]
  },
  {
   "cell_type": "markdown",
   "id": "d288c7cd",
   "metadata": {},
   "source": [
    "- R-squared:                       0.925\n",
    "- Adj. R-squared:                  0.922\n",
    "\n",
    "|Column Names|coef|std err|t|p-value|[0.025|0.975]|\n",
    "|---|---|---|---|---|---|---|\n",
    "|Neighborhood_Veenker|-8578.1574|5901.276|-1.454|0.146|-2.02e+04|2995.252|\n"
   ]
  },
  {
   "cell_type": "code",
   "execution_count": 107,
   "id": "059312fa",
   "metadata": {},
   "outputs": [],
   "source": [
    "X.drop(['Neighborhood_Veenker'], axis=1, inplace=True)"
   ]
  },
  {
   "cell_type": "markdown",
   "id": "1deab3ea",
   "metadata": {},
   "source": [
    "- R-squared:                       0.925\n",
    "- Adj. R-squared:                  0.922\n",
    "\n",
    "|Column Names|coef|std err|t|p-value|[0.025|0.975]|\n",
    "|---|---|---|---|---|---|---|\n",
    "|Neighborhood_Timber|-5511.9817|3710.534|-1.485|0.138|-1.28e+04|1765.006|\n"
   ]
  },
  {
   "cell_type": "code",
   "execution_count": 108,
   "id": "7d59c337",
   "metadata": {},
   "outputs": [],
   "source": [
    "X.drop(['Neighborhood_Timber'], axis=1, inplace=True)"
   ]
  },
  {
   "cell_type": "markdown",
   "id": "d69a0ebf",
   "metadata": {},
   "source": [
    "- R-squared:                       0.925\n",
    "- Adj. R-squared:                  0.922\n",
    "\n",
    "|Column Names|coef|std err|t|p-value|[0.025|0.975]|\n",
    "|---|---|---|---|---|---|---|\n",
    "|Neighborhood_Edwards|-3408.0887|2283.369|-1.493|0.136|-7886.162|1069.984|\n",
    "|LotShape_IR3|-1.2e+04|8005.895|-1.499|0.134|-2.77e+04|3701.020|\n"
   ]
  },
  {
   "cell_type": "code",
   "execution_count": 109,
   "id": "52d9e277",
   "metadata": {},
   "outputs": [],
   "source": [
    "X.drop(['Neighborhood_Edwards','LotShape_IR3'], axis=1, inplace=True)"
   ]
  },
  {
   "cell_type": "markdown",
   "id": "3c79e627",
   "metadata": {},
   "source": [
    "- R-squared:                       0.925\n",
    "- Adj. R-squared:                  0.922\n",
    "\n",
    "|Column Names|coef|std err|t|p-value|[0.025|0.975]|\n",
    "|---|---|---|---|---|---|---|\n",
    "|Neighborhood_NAmes|-1936.0019|1792.428|-1.080|0.280|-5451.255|1579.252|\n"
   ]
  },
  {
   "cell_type": "code",
   "execution_count": 110,
   "id": "ef24d905",
   "metadata": {},
   "outputs": [],
   "source": [
    "X.drop(['Neighborhood_NAmes'], axis=1, inplace=True)"
   ]
  },
  {
   "cell_type": "markdown",
   "id": "eb2218f6",
   "metadata": {},
   "source": [
    "- R-squared:                       0.925\n",
    "- Adj. R-squared:                  0.922\n",
    "\n",
    "|Column Names|coef|std err|t|p-value|[0.025|0.975]|\n",
    "|---|---|---|---|---|---|---|\n",
    "|Neighborhood_CollgCr|-3392.9617|2266.609|-1.497|0.135|-7838.163|1052.240|\n",
    "|Exterior_VinylSd|-2460.1315|1640.310|-1.500|0.134|-5677.054|756.791|\n"
   ]
  },
  {
   "cell_type": "code",
   "execution_count": 111,
   "id": "77507363",
   "metadata": {},
   "outputs": [],
   "source": [
    "X.drop(['Neighborhood_CollgCr','Exterior_VinylSd'], axis=1, inplace=True)"
   ]
  },
  {
   "cell_type": "markdown",
   "id": "ee84b324",
   "metadata": {},
   "source": [
    "- R-squared:                       0.925\n",
    "- Adj. R-squared:                  0.922\n",
    "\n",
    "|Column Names|coef|std err|t|p-value|[0.025|0.975]|\n",
    "|---|---|---|---|---|---|---|\n",
    "|Neighborhood_Gilbert|-2371.2304|2542.668|-0.933|0.351|-7357.827|2615.366|\n"
   ]
  },
  {
   "cell_type": "code",
   "execution_count": 112,
   "id": "b785162a",
   "metadata": {},
   "outputs": [],
   "source": [
    "X.drop(['Neighborhood_Gilbert'], axis=1, inplace=True)"
   ]
  },
  {
   "cell_type": "markdown",
   "id": "c342a4d4",
   "metadata": {},
   "source": [
    "- R-squared:                       0.925\n",
    "- Adj. R-squared:                  0.922\n",
    "\n",
    "|Column Names|coef|std err|t|p-value|[0.025|0.975]|\n",
    "|---|---|---|---|---|---|---|\n",
    "|MSSubClass_30|4442.4347|2832.899|1.568|0.117|-1113.350|9998.220|\n"
   ]
  },
  {
   "cell_type": "code",
   "execution_count": 113,
   "id": "69cd8de9",
   "metadata": {},
   "outputs": [],
   "source": [
    "X.drop(['MSSubClass_30'], axis=1, inplace=True)"
   ]
  },
  {
   "cell_type": "markdown",
   "id": "165087e6",
   "metadata": {},
   "source": [
    "- R-squared:                       0.925\n",
    "- Adj. R-squared:                  0.922\n",
    "\n",
    "|Column Names|coef|std err|t|p-value|[0.025|0.975]|\n",
    "|---|---|---|---|---|---|---|\n",
    "|Neighborhood_SawyerW|-4110.7582|2604.694|-1.578|0.115|-9218.993|997.477|\n"
   ]
  },
  {
   "cell_type": "code",
   "execution_count": 114,
   "id": "92d98bc9",
   "metadata": {},
   "outputs": [],
   "source": [
    "X.drop(['Neighborhood_SawyerW'], axis=1, inplace=True)"
   ]
  },
  {
   "cell_type": "markdown",
   "id": "bcfa9d5e",
   "metadata": {},
   "source": [
    "- R-squared:                       0.925\n",
    "- Adj. R-squared:                  0.922\n",
    "\n",
    "|Column Names|coef|std err|t|p-value|[0.025|0.975]|\n",
    "|---|---|---|---|---|---|---|\n",
    "|MSZoning_RH|9615.3664|6223.383|1.545|0.122|-2589.713|2.18e+04|\n"
   ]
  },
  {
   "cell_type": "code",
   "execution_count": 115,
   "id": "39e93926",
   "metadata": {},
   "outputs": [],
   "source": [
    "X.drop(['MSZoning_RH'], axis=1, inplace=True)"
   ]
  },
  {
   "cell_type": "markdown",
   "id": "7e092c28",
   "metadata": {},
   "source": [
    "- R-squared:                       0.925\n",
    "- Adj. R-squared:                  0.922\n",
    "\n",
    "|Column Names|coef|std err|t|p-value|[0.025|0.975]|\n",
    "|---|---|---|---|---|---|---|\n",
    "|MSZoning_RL|2358.1486|1821.760|1.294|0.196|-1214.622|5930.919|\n"
   ]
  },
  {
   "cell_type": "code",
   "execution_count": 116,
   "id": "107b897b",
   "metadata": {},
   "outputs": [],
   "source": [
    "X.drop(['MSZoning_RL'], axis=1, inplace=True)"
   ]
  },
  {
   "cell_type": "markdown",
   "id": "9b0dd482",
   "metadata": {},
   "source": [
    "- R-squared:                       0.924\n",
    "- Adj. R-squared:                  0.922\n",
    "\n",
    "|Column Names|coef|std err|t|p-value|[0.025|0.975]|\n",
    "|---|---|---|---|---|---|---|\n",
    "|HeatingQC|1142.1106|703.316|1.624|0.105|-237.207|2521.428|\n"
   ]
  },
  {
   "cell_type": "code",
   "execution_count": 117,
   "id": "6ca6f572",
   "metadata": {},
   "outputs": [],
   "source": [
    "X.drop(['HeatingQC'], axis=1, inplace=True)"
   ]
  },
  {
   "cell_type": "markdown",
   "id": "e076298c",
   "metadata": {},
   "source": [
    "- R-squared:                       0.924\n",
    "- Adj. R-squared:                  0.922\n",
    "\n",
    "|Column Names|coef|std err|t|p-value|[0.025|0.975]|\n",
    "|---|---|---|---|---|---|---|\n",
    "|MasVnrType_Stone|3725.7971|2260.772|1.648|0.100|-707.946|8159.540|\n"
   ]
  },
  {
   "cell_type": "code",
   "execution_count": 118,
   "id": "0462337a",
   "metadata": {},
   "outputs": [],
   "source": [
    "X.drop(['MasVnrType_Stone'], axis=1, inplace=True)"
   ]
  },
  {
   "cell_type": "markdown",
   "id": "7c689e19",
   "metadata": {},
   "source": [
    "- R-squared:                       0.924\n",
    "- Adj. R-squared:                  0.922\n",
    "\n",
    "|Column Names|coef|std err|t|p-value|[0.025|0.975]|\n",
    "|---|---|---|---|---|---|---|\n",
    "|Neighborhood_Blueste|1.564e+04|9675.665|1.616|0.106|-3335.208|3.46e+04|\n"
   ]
  },
  {
   "cell_type": "code",
   "execution_count": 119,
   "id": "105ab06d",
   "metadata": {},
   "outputs": [],
   "source": [
    "X.drop(['Neighborhood_Blueste'], axis=1, inplace=True)"
   ]
  },
  {
   "cell_type": "markdown",
   "id": "6f559da3",
   "metadata": {},
   "source": [
    "- R-squared:                       0.924\n",
    "- Adj. R-squared:                  0.922\n",
    "\n",
    "|Column Names|coef|std err|t|p-value|[0.025|0.975]|\n",
    "|---|---|---|---|---|---|---|\n",
    "|LotShape_Reg|2144.6124|1215.768|1.764|0.078|-239.705|4528.930|\n"
   ]
  },
  {
   "cell_type": "code",
   "execution_count": 120,
   "id": "46890d5d",
   "metadata": {},
   "outputs": [],
   "source": [
    "X.drop(['LotShape_Reg'], axis=1, inplace=True)"
   ]
  },
  {
   "cell_type": "markdown",
   "id": "86886caa",
   "metadata": {},
   "source": [
    "- R-squared:                       0.924\n",
    "- Adj. R-squared:                  0.922\n",
    "\n",
    "|Column Names|coef|std err|t|p-value|[0.025|0.975]|\n",
    "|---|---|---|---|---|---|---|\n",
    "|MiscFeature_Othr|4.9934|2.813|1.775|0.076|-0.523|10.509|\n"
   ]
  },
  {
   "cell_type": "code",
   "execution_count": 121,
   "id": "41b973d0",
   "metadata": {},
   "outputs": [],
   "source": [
    "X.drop(['MiscFeature_Othr'], axis=1, inplace=True)"
   ]
  },
  {
   "cell_type": "markdown",
   "id": "d2cd90b4",
   "metadata": {},
   "source": [
    "- R-squared:                       0.924\n",
    "- Adj. R-squared:                  0.922\n",
    "\n",
    "|Column Names|coef|std err|t|p-value|[0.025|0.975]|\n",
    "|---|---|---|---|---|---|---|\n",
    "|LotConfig_FR3|-1.371e+04|7602.440|-1.803|0.071|-2.86e+04|1199.616|\n"
   ]
  },
  {
   "cell_type": "code",
   "execution_count": 122,
   "id": "15caa62b",
   "metadata": {},
   "outputs": [],
   "source": [
    "X.drop(['LotConfig_FR3'], axis=1, inplace=True)"
   ]
  },
  {
   "cell_type": "markdown",
   "id": "82c70fc6",
   "metadata": {},
   "source": [
    "- R-squared:                       0.924\n",
    "- Adj. R-squared:                  0.921\n",
    "\n",
    "|Column Names|coef|std err|t|p-value|[0.025|0.975]|\n",
    "|---|---|---|---|---|---|---|\n",
    "|MiscFeature_TenC|-21.8941|11.392|-1.922|0.055|-44.235|0.447|\n",
    "|Foundation_CBlock|-2725.8636|1420.992|-1.918|0.055|-5512.656|60.929|\n"
   ]
  },
  {
   "cell_type": "code",
   "execution_count": 123,
   "id": "f0a21bf7",
   "metadata": {},
   "outputs": [],
   "source": [
    "X.drop(['MiscFeature_TenC','Foundation_CBlock'], axis=1, inplace=True)"
   ]
  },
  {
   "cell_type": "markdown",
   "id": "e1d119c7",
   "metadata": {},
   "source": [
    "- R-squared:                       0.924\n",
    "- Adj. R-squared:                  0.921\n",
    "\n",
    "|Column Names|coef|std err|t|p-value|[0.025|0.975]|\n",
    "|---|---|---|---|---|---|---|\n",
    "|LotConfig_Corner|-2561.6516|1439.148|-1.780|0.075|-5384.048|260.745|\n"
   ]
  },
  {
   "cell_type": "code",
   "execution_count": 124,
   "id": "9592944b",
   "metadata": {},
   "outputs": [],
   "source": [
    "X.drop(['LotConfig_Corner'], axis=1, inplace=True)"
   ]
  },
  {
   "cell_type": "code",
   "execution_count": 125,
   "id": "0fc3759e",
   "metadata": {
    "scrolled": true
   },
   "outputs": [
    {
     "name": "stdout",
     "output_type": "stream",
     "text": [
      "                            OLS Regression Results                            \n",
      "==============================================================================\n",
      "Dep. Variable:              SalePrice   R-squared:                       0.923\n",
      "Model:                            OLS   Adj. R-squared:                  0.921\n",
      "Method:                 Least Squares   F-statistic:                     420.4\n",
      "Date:                Sat, 29 Oct 2022   Prob (F-statistic):               0.00\n",
      "Time:                        08:13:35   Log-Likelihood:                -23355.\n",
      "No. Observations:                2046   AIC:                         4.683e+04\n",
      "Df Residuals:                    1988   BIC:                         4.715e+04\n",
      "Df Model:                          57                                         \n",
      "Covariance Type:            nonrobust                                         \n",
      "========================================================================================\n",
      "                           coef    std err          t      P>|t|      [0.025      0.975]\n",
      "----------------------------------------------------------------------------------------\n",
      "const                -6.937e+05   6.45e+04    -10.756      0.000    -8.2e+05   -5.67e+05\n",
      "LotFrontage             82.7274     35.159      2.353      0.019      13.774     151.681\n",
      "LotArea                  1.0683      0.126      8.458      0.000       0.821       1.316\n",
      "OverallQual           8531.4650    721.189     11.830      0.000    7117.100    9945.830\n",
      "OverallCond           5588.7150    560.938      9.963      0.000    4488.627    6688.803\n",
      "YearBuilt              311.1114     33.862      9.188      0.000     244.703     377.520\n",
      "MasVnrArea              35.4743      4.409      8.047      0.000      26.828      44.120\n",
      "ExterQual             9700.2813   1555.902      6.235      0.000    6648.912    1.28e+04\n",
      "BsmtQual              3871.0540   1229.427      3.149      0.002    1459.953    6282.155\n",
      "BsmtCond             -4734.9724   1465.091     -3.232      0.001   -7608.248   -1861.697\n",
      "BsmtExposure          3678.0244    601.698      6.113      0.000    2498.000    4858.049\n",
      "TotalBsmtSF             16.9102      2.337      7.237      0.000      12.328      21.493\n",
      "CentralAir           -6142.3102   2438.563     -2.519      0.012   -1.09e+04   -1359.902\n",
      "GrLivArea               57.5580      2.256     25.511      0.000      53.133      61.983\n",
      "BsmtFullBath          2673.0125   1348.323      1.982      0.048      28.738    5317.287\n",
      "BedroomAbvGr         -4088.5022    876.738     -4.663      0.000   -5807.923   -2369.081\n",
      "KitchenAbvGr         -1.486e+04   2768.013     -5.368      0.000   -2.03e+04   -9430.427\n",
      "KitchenQual           6964.8373   1203.684      5.786      0.000    4604.224    9325.451\n",
      "Functional            1.304e+04   1668.509      7.817      0.000    9770.262    1.63e+04\n",
      "Fireplaces            3233.7277    992.720      3.257      0.001    1286.846    5180.609\n",
      "GarageCars            5053.0981    942.712      5.360      0.000    3204.291    6901.905\n",
      "WoodDeckSF              12.9732      4.334      2.993      0.003       4.473      21.473\n",
      "ScreenPorch             60.8404      9.085      6.697      0.000      43.024      78.657\n",
      "GarageType_2Types    -1.145e+04   5482.825     -2.087      0.037   -2.22e+04    -692.461\n",
      "GarageType_Attchd    -3601.5871   1330.221     -2.708      0.007   -6210.361    -992.814\n",
      "BsmtLivArea             18.9002      1.748     10.813      0.000      15.472      22.328\n",
      "MasVnrType_BrkFace   -8260.7749   1503.093     -5.496      0.000   -1.12e+04   -5312.973\n",
      "MSZoning_FV           1.633e+04   2771.202      5.892      0.000    1.09e+04    2.18e+04\n",
      "LotConfig_CulDSac     5302.6237   2308.826      2.297      0.022     774.652    9830.595\n",
      "LandContour_HLS       1.444e+04   2853.458      5.059      0.000    8840.519       2e+04\n",
      "Heating_GasA          1.233e+04   4283.533      2.878      0.004    3926.836    2.07e+04\n",
      "Condition             8568.7057   1506.485      5.688      0.000    5614.250    1.15e+04\n",
      "HouseStyle_1Story     4251.6619   1694.204      2.510      0.012     929.060    7574.264\n",
      "RoofStyle_Hip         4556.8342   1405.564      3.242      0.001    1800.302    7313.367\n",
      "SaleType_COD         -1.743e+04   4371.503     -3.986      0.000    -2.6e+04   -8852.435\n",
      "SaleType_New          9199.2184   3926.500      2.343      0.019    1498.732    1.69e+04\n",
      "SaleType_WD          -8243.1297   3339.126     -2.469      0.014   -1.48e+04   -1694.576\n",
      "Neighborhood_Blmngtn  1.599e+04   5487.427      2.913      0.004    5225.588    2.67e+04\n",
      "Neighborhood_BrDale   2.312e+04   6470.252      3.573      0.000    1.04e+04    3.58e+04\n",
      "Neighborhood_BrkSide  8961.6987   2783.438      3.220      0.001    3502.936    1.44e+04\n",
      "Neighborhood_Crawfor  1.136e+04   3003.146      3.782      0.000    5469.592    1.72e+04\n",
      "Neighborhood_GrnHill  1.209e+05   1.62e+04      7.467      0.000    8.92e+04    1.53e+05\n",
      "Neighborhood_MeadowV  1.505e+04   5812.956      2.589      0.010    3649.909    2.65e+04\n",
      "Neighborhood_NPkVill   2.29e+04   6112.025      3.746      0.000    1.09e+04    3.49e+04\n",
      "Neighborhood_NWAmes  -6054.0985   2683.128     -2.256      0.024   -1.13e+04    -792.061\n",
      "Neighborhood_NoRidge  2.289e+04   3662.042      6.251      0.000    1.57e+04    3.01e+04\n",
      "Neighborhood_NridgHt  3.465e+04   2748.418     12.609      0.000    2.93e+04       4e+04\n",
      "Neighborhood_StoneBr  4.869e+04   4263.541     11.419      0.000    4.03e+04     5.7e+04\n",
      "MSSubClass_120       -2.646e+04   2877.846     -9.194      0.000   -3.21e+04   -2.08e+04\n",
      "MSSubClass_150       -6.563e+04   2.27e+04     -2.897      0.004    -1.1e+05   -2.12e+04\n",
      "MSSubClass_160       -2.472e+04   3827.173     -6.460      0.000   -3.22e+04   -1.72e+04\n",
      "MSSubClass_180       -2.087e+04   8145.446     -2.563      0.010   -3.68e+04   -4900.339\n",
      "RoofStyle_Othr       -1.183e+04   3992.182     -2.964      0.003   -1.97e+04   -4004.831\n",
      "Foundation_Other      1.491e+04   4553.043      3.275      0.001    5982.844    2.38e+04\n",
      "Exterior_BrkFace      1.177e+04   3811.980      3.087      0.002    4291.764    1.92e+04\n",
      "Exterior_HdBoard     -6439.1735   1693.876     -3.801      0.000   -9761.132   -3117.215\n",
      "Exterior_Plywood     -6294.0523   2220.867     -2.834      0.005   -1.06e+04   -1938.580\n",
      "Exterior_WdSdng      -3541.5231   1746.355     -2.028      0.043   -6966.402    -116.644\n",
      "==============================================================================\n",
      "Omnibus:                      363.207   Durbin-Watson:                   2.003\n",
      "Prob(Omnibus):                  0.000   Jarque-Bera (JB):             4063.145\n",
      "Skew:                           0.484   Prob(JB):                         0.00\n",
      "Kurtosis:                       9.836   Cond. No.                     1.50e+06\n",
      "==============================================================================\n",
      "\n",
      "Notes:\n",
      "[1] Standard Errors assume that the covariance matrix of the errors is correctly specified.\n",
      "[2] The condition number is large, 1.5e+06. This might indicate that there are\n",
      "strong multicollinearity or other numerical problems.\n"
     ]
    }
   ],
   "source": [
    "model = sm.OLS(y,X)\n",
    "results = model.fit()\n",
    "print(results.summary())"
   ]
  },
  {
   "cell_type": "code",
   "execution_count": 131,
   "id": "dec42422",
   "metadata": {},
   "outputs": [
    {
     "data": {
      "text/plain": [
       "Index(['const', 'LotFrontage', 'LotArea', 'OverallQual', 'OverallCond',\n",
       "       'YearBuilt', 'MasVnrArea', 'ExterQual', 'BsmtQual', 'BsmtCond',\n",
       "       'BsmtExposure', 'TotalBsmtSF', 'CentralAir', 'GrLivArea',\n",
       "       'BsmtFullBath', 'BedroomAbvGr', 'KitchenAbvGr', 'KitchenQual',\n",
       "       'Functional', 'Fireplaces', 'GarageCars', 'WoodDeckSF', 'ScreenPorch',\n",
       "       'GarageType_2Types', 'GarageType_Attchd', 'BsmtLivArea',\n",
       "       'MasVnrType_BrkFace', 'MSZoning_FV', 'LotConfig_CulDSac',\n",
       "       'LandContour_HLS', 'Heating_GasA', 'Condition', 'HouseStyle_1Story',\n",
       "       'RoofStyle_Hip', 'SaleType_COD', 'SaleType_New', 'SaleType_WD',\n",
       "       'Neighborhood_Blmngtn', 'Neighborhood_BrDale', 'Neighborhood_BrkSide',\n",
       "       'Neighborhood_Crawfor', 'Neighborhood_GrnHill', 'Neighborhood_MeadowV',\n",
       "       'Neighborhood_NPkVill', 'Neighborhood_NWAmes', 'Neighborhood_NoRidge',\n",
       "       'Neighborhood_NridgHt', 'Neighborhood_StoneBr', 'MSSubClass_120',\n",
       "       'MSSubClass_150', 'MSSubClass_160', 'MSSubClass_180', 'RoofStyle_Othr',\n",
       "       'Foundation_Other', 'Exterior_BrkFace', 'Exterior_HdBoard',\n",
       "       'Exterior_Plywood', 'Exterior_WdSdng'],\n",
       "      dtype='object')"
      ]
     },
     "execution_count": 131,
     "metadata": {},
     "output_type": "execute_result"
    }
   ],
   "source": [
    "X.columns"
   ]
  },
  {
   "cell_type": "markdown",
   "id": "14480b97",
   "metadata": {},
   "source": [
    "These are the features we are left with to predict our sale price.\n",
    "\n",
    "- LotFrontage\n",
    "- LotArea\n",
    "- OverallQual\n",
    "- OverallCond  \n",
    "- YearBuilt \n",
    "- MasVnrArea      \n",
    "- ExterQual \n",
    "- BsmtQual         \n",
    "- BsmtCond\n",
    "- BsmtExposure\n",
    "- TotalBsmtSF\n",
    "- CentralAir\n",
    "- GrLivArea \n",
    "- BsmtFullBath \n",
    "- BedroomAbvGr\n",
    "- KitchenAbvGr\n",
    "- KitchenQual\n",
    "- Functional\n",
    "- Fireplaces   \n",
    "- GarageCars        \n",
    "- WoodDeckSF\n",
    "- ScreenPorch \n",
    "- GarageType_2Types\n",
    "- GarageType_Attchd\n",
    "- BsmtLivArea \n",
    "- MasVnrType_BrkFace \n",
    "- MSZoning_FV  \n",
    "- LotConfig_CulDSac \n",
    "- LandContour_HLS \n",
    "- Heating_GasA \n",
    "- Condition    \n",
    "- HouseStyle_1Story  \n",
    "- RoofStyle_Hip \n",
    "- SaleType_COD        \n",
    "- SaleType_New\n",
    "- SaleType_WD \n",
    "- Neighborhood_Blmngtn \n",
    "- Neighborhood_BrDale\n",
    "- Neighborhood_BrkSide \n",
    "- Neighborhood_Crawfor\n",
    "- Neighborhood_GrnHill \n",
    "- Neighborhood_MeadowV\n",
    "- Neighborhood_NPkVill\n",
    "- Neighborhood_NWAmes\n",
    "- Neighborhood_NoRidge\n",
    "- Neighborhood_NridgHt\n",
    "- Neighborhood_StoneBr\n",
    "- MSSubClass_120\n",
    "- MSSubClass_150\n",
    "- MSSubClass_160\n",
    "- MSSubClass_180\n",
    "- RoofStyle_Othr\n",
    "- Foundation_Other\n",
    "- Exterior_BrkFace\n",
    "- Exterior_HdBoard\n",
    "- Exterior_Plywood\n",
    "- Exterior_WdSdng"
   ]
  },
  {
   "cell_type": "markdown",
   "id": "76b9e72d",
   "metadata": {},
   "source": [
    "### 2.1.4 Saving Final Dataset"
   ]
  },
  {
   "cell_type": "code",
   "execution_count": 127,
   "id": "afd25aed",
   "metadata": {},
   "outputs": [],
   "source": [
    "columns = ['Id','PID','LotFrontage', 'LotArea', 'OverallQual', 'OverallCond',\n",
    "            'YearBuilt', 'MasVnrArea', 'ExterQual', 'BsmtQual', 'BsmtCond',\n",
    "            'BsmtExposure', 'TotalBsmtSF', 'CentralAir', 'GrLivArea',\n",
    "            'BsmtFullBath', 'BedroomAbvGr', 'KitchenAbvGr', 'KitchenQual',\n",
    "            'Functional', 'Fireplaces', 'GarageCars', 'WoodDeckSF', 'ScreenPorch',\n",
    "            'GarageType_2Types', 'GarageType_Attchd', 'BsmtLivArea',\n",
    "            'MasVnrType_BrkFace', 'MSZoning_FV', 'LotConfig_CulDSac',\n",
    "            'LandContour_HLS', 'Heating_GasA', 'Condition', 'HouseStyle_1Story',\n",
    "            'RoofStyle_Hip', 'SaleType_COD', 'SaleType_New', 'SaleType_WD',\n",
    "            'Neighborhood_Blmngtn', 'Neighborhood_BrDale', 'Neighborhood_BrkSide',\n",
    "            'Neighborhood_Crawfor', 'Neighborhood_GrnHill', 'Neighborhood_MeadowV',\n",
    "            'Neighborhood_NPkVill', 'Neighborhood_NWAmes', 'Neighborhood_NoRidge',\n",
    "            'Neighborhood_NridgHt', 'Neighborhood_StoneBr', 'MSSubClass_120',\n",
    "            'MSSubClass_150', 'MSSubClass_160', 'MSSubClass_180', 'RoofStyle_Othr',\n",
    "            'Foundation_Other', 'Exterior_BrkFace', 'Exterior_HdBoard',\n",
    "            'Exterior_Plywood', 'Exterior_WdSdng', 'SalePrice']"
   ]
  },
  {
   "cell_type": "code",
   "execution_count": 128,
   "id": "ae60550f",
   "metadata": {},
   "outputs": [],
   "source": [
    "train = train[columns]"
   ]
  },
  {
   "cell_type": "code",
   "execution_count": 132,
   "id": "74bc6329",
   "metadata": {},
   "outputs": [],
   "source": [
    "columns_t = [col for col in columns if col != 'SalePrice']\n",
    "test = test[columns_t]"
   ]
  },
  {
   "cell_type": "code",
   "execution_count": 135,
   "id": "78ec4777",
   "metadata": {},
   "outputs": [],
   "source": [
    "train.to_csv('../datasets/train_clean2.csv', index=False)"
   ]
  },
  {
   "cell_type": "code",
   "execution_count": 136,
   "id": "dcc44b2b",
   "metadata": {},
   "outputs": [],
   "source": [
    "test.to_csv('../datasets/test_clean2.csv', index=False)"
   ]
  },
  {
   "cell_type": "code",
   "execution_count": 133,
   "id": "c59a6e93",
   "metadata": {},
   "outputs": [
    {
     "data": {
      "text/plain": [
       "(2046, 60)"
      ]
     },
     "execution_count": 133,
     "metadata": {},
     "output_type": "execute_result"
    }
   ],
   "source": [
    "train.shape"
   ]
  },
  {
   "cell_type": "code",
   "execution_count": 134,
   "id": "288c03e3",
   "metadata": {},
   "outputs": [
    {
     "data": {
      "text/plain": [
       "(878, 59)"
      ]
     },
     "execution_count": 134,
     "metadata": {},
     "output_type": "execute_result"
    }
   ],
   "source": [
    "test.shape"
   ]
  },
  {
   "cell_type": "code",
   "execution_count": null,
   "id": "e2b72d4e",
   "metadata": {},
   "outputs": [],
   "source": []
  }
 ],
 "metadata": {
  "kernelspec": {
   "display_name": "Python 3 (ipykernel)",
   "language": "python",
   "name": "python3"
  },
  "language_info": {
   "codemirror_mode": {
    "name": "ipython",
    "version": 3
   },
   "file_extension": ".py",
   "mimetype": "text/x-python",
   "name": "python",
   "nbconvert_exporter": "python",
   "pygments_lexer": "ipython3",
   "version": "3.9.7"
  }
 },
 "nbformat": 4,
 "nbformat_minor": 5
}
