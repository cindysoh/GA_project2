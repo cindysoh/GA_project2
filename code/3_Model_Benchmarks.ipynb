{
 "cells": [
  {
   "cell_type": "markdown",
   "id": "c973b93e",
   "metadata": {},
   "source": [
    "# 3. Model Benchmarks\n",
    "\n",
    "* [3.1 Feature Selection](#3.1-Model-Preparation)\n",
    "    * [3.1.1 Scaling](#3.1.1-Scaling)\n",
    "    * [3.1.2 Instantiate Models](#3.1.2-Instantiate-Models)\n",
    "    * [3.1.3 Cross Validation](#3.1.3-Cross-Validation)    \n",
    "    * [2.1.4 Saving Final Dataset](#2.1.4-Saving-Final-Dataset)\n",
    "    \n",
    "* [3.2 Models Fitting and Evaluation](#3.2-Models-Fitting-and-Evaluation)\n",
    "    * [3.2.1 Linear Regression](#3.2.1-Linear-Regression)\n",
    "    * [3.2.2 Lasso Regression](#3.2.2-Lasso-Regression)\n",
    "    * [3.2.3 Ridge Regression](#3.2.3-Ridge-Regression)    \n",
    "\n",
    "* [3.3 Optimising Alpha](#3.3-Optimising-Alpha)\n",
    "    * [3.3.1 Lasso Regression](#3.3.1-Lasso-Regression)\n",
    "    * [3.3.2 Ridge Regression](#3.3.2-Ridge-Regression)    \n",
    "    * [3.3.3 Elastic Net](#3.3.3-Elastic-Net)\n",
    "\n",
    "* [3.4 Conclusion](#3.4-Conclusion)"
   ]
  },
  {
   "cell_type": "code",
   "execution_count": 1,
   "id": "fa93f477",
   "metadata": {},
   "outputs": [],
   "source": [
    "import pandas as pd\n",
    "import numpy as np\n",
    "import seaborn as sns\n",
    "import matplotlib.pyplot as plt\n",
    "from sklearn.linear_model import Ridge, Lasso, ElasticNet, LinearRegression, RidgeCV, LassoCV, ElasticNetCV\n",
    "from sklearn.preprocessing import PolynomialFeatures, StandardScaler, RobustScaler\n",
    "from sklearn.model_selection import train_test_split, cross_val_score, cross_val_predict\n",
    "from sklearn.metrics import r2_score\n",
    "from sklearn import metrics\n",
    "import statsmodels.api as sm\n",
    "\n",
    "import warnings\n",
    "warnings.filterwarnings('ignore')"
   ]
  },
  {
   "cell_type": "code",
   "execution_count": 2,
   "id": "1a06d04f",
   "metadata": {},
   "outputs": [],
   "source": [
    "train = pd.read_csv('../datasets/train_clean2.csv') "
   ]
  },
  {
   "cell_type": "code",
   "execution_count": 3,
   "id": "098452da",
   "metadata": {},
   "outputs": [],
   "source": [
    "features = [col for col in train._get_numeric_data().columns[2:] if col != 'SalePrice']\n",
    "X = train[features]\n",
    "y = train['SalePrice']"
   ]
  },
  {
   "cell_type": "code",
   "execution_count": 4,
   "id": "8463c2fe",
   "metadata": {},
   "outputs": [],
   "source": [
    "X_train, X_test, y_train, y_test = train_test_split(X, y, random_state=42)"
   ]
  },
  {
   "cell_type": "markdown",
   "id": "5ce1ab95",
   "metadata": {},
   "source": [
    "## 3.1 Model Preparation"
   ]
  },
  {
   "cell_type": "markdown",
   "id": "b4f49c6c",
   "metadata": {},
   "source": [
    "### 3.1.1 Scaling"
   ]
  },
  {
   "cell_type": "code",
   "execution_count": 5,
   "id": "613753ad",
   "metadata": {},
   "outputs": [],
   "source": [
    "ss = StandardScaler()\n",
    "ss.fit(X_train)\n",
    "X_train_s = ss.transform(X_train)\n",
    "X_test = ss.transform(X_test)"
   ]
  },
  {
   "cell_type": "markdown",
   "id": "128b66fa",
   "metadata": {},
   "source": [
    "### 3.1.2 Instantiate Models"
   ]
  },
  {
   "cell_type": "code",
   "execution_count": 6,
   "id": "66215537",
   "metadata": {},
   "outputs": [],
   "source": [
    "lr = LinearRegression()\n",
    "lasso = LassoCV(alphas=[0.01,10,100])\n",
    "ridge = RidgeCV(alphas=np.linspace(1, 1000, 10))"
   ]
  },
  {
   "cell_type": "markdown",
   "id": "f38981bb",
   "metadata": {},
   "source": [
    "### 3.1.3 Cross Validation"
   ]
  },
  {
   "cell_type": "code",
   "execution_count": 7,
   "id": "6fb01db4",
   "metadata": {},
   "outputs": [
    {
     "data": {
      "text/plain": [
       "0.9106406379701889"
      ]
     },
     "execution_count": 7,
     "metadata": {},
     "output_type": "execute_result"
    }
   ],
   "source": [
    "lr_scores = cross_val_score(lr, X_train_s, y_train, cv=10)\n",
    "lr_scores.mean()"
   ]
  },
  {
   "cell_type": "code",
   "execution_count": 8,
   "id": "cbd21e0f",
   "metadata": {},
   "outputs": [
    {
     "data": {
      "text/plain": [
       "0.9106706987526941"
      ]
     },
     "execution_count": 8,
     "metadata": {},
     "output_type": "execute_result"
    }
   ],
   "source": [
    "lasso_scores = cross_val_score(lasso, X_train_s, y_train, cv=10)\n",
    "lasso_scores.mean()"
   ]
  },
  {
   "cell_type": "code",
   "execution_count": 9,
   "id": "a63b90fa",
   "metadata": {
    "scrolled": true
   },
   "outputs": [
    {
     "data": {
      "text/plain": [
       "0.9106619631523021"
      ]
     },
     "execution_count": 9,
     "metadata": {},
     "output_type": "execute_result"
    }
   ],
   "source": [
    "ridge_scores = cross_val_score(ridge, X_train_s, y_train, cv=10)\n",
    "ridge_scores.mean()"
   ]
  },
  {
   "cell_type": "markdown",
   "id": "90f6bfba",
   "metadata": {},
   "source": [
    "All 3 results from cross validation are quite close with lasso performing slightly better."
   ]
  },
  {
   "cell_type": "markdown",
   "id": "5f912e5f",
   "metadata": {},
   "source": [
    "## 3.2 Models Fitting and Evaluation"
   ]
  },
  {
   "cell_type": "markdown",
   "id": "0d5b57be",
   "metadata": {},
   "source": [
    "### 3.2.1 Linear Regression"
   ]
  },
  {
   "cell_type": "code",
   "execution_count": 10,
   "id": "417595e8",
   "metadata": {},
   "outputs": [
    {
     "data": {
      "text/plain": [
       "LinearRegression()"
      ]
     },
     "execution_count": 10,
     "metadata": {},
     "output_type": "execute_result"
    }
   ],
   "source": [
    "lr.fit(X_train_s, y_train)"
   ]
  },
  {
   "cell_type": "code",
   "execution_count": 11,
   "id": "b09d7f84",
   "metadata": {},
   "outputs": [
    {
     "name": "stdout",
     "output_type": "stream",
     "text": [
      "0.9220631816484637\n",
      "0.9234719374036359\n"
     ]
    }
   ],
   "source": [
    "print(lr.score(X_train_s, y_train))\n",
    "print(lr.score(X_test, y_test))"
   ]
  },
  {
   "cell_type": "code",
   "execution_count": 12,
   "id": "48891aab",
   "metadata": {},
   "outputs": [
    {
     "data": {
      "text/plain": [
       "0.9106406379701889"
      ]
     },
     "execution_count": 12,
     "metadata": {},
     "output_type": "execute_result"
    }
   ],
   "source": [
    "lr_scores.mean()"
   ]
  },
  {
   "cell_type": "code",
   "execution_count": 13,
   "id": "5f437823",
   "metadata": {},
   "outputs": [],
   "source": [
    "lr_pred = lr.predict(X_test)"
   ]
  },
  {
   "cell_type": "code",
   "execution_count": 14,
   "id": "86c37910",
   "metadata": {},
   "outputs": [
    {
     "data": {
      "text/plain": [
       "0.9234719374036359"
      ]
     },
     "execution_count": 14,
     "metadata": {},
     "output_type": "execute_result"
    }
   ],
   "source": [
    "r2_score(y_test, lr_pred)"
   ]
  },
  {
   "cell_type": "markdown",
   "id": "1e7b77ac",
   "metadata": {},
   "source": [
    "### 3.2.2 Lasso Regression"
   ]
  },
  {
   "cell_type": "code",
   "execution_count": 15,
   "id": "4a3c21a3",
   "metadata": {
    "scrolled": false
   },
   "outputs": [
    {
     "data": {
      "text/plain": [
       "LassoCV(alphas=[0.01, 10, 100])"
      ]
     },
     "execution_count": 15,
     "metadata": {},
     "output_type": "execute_result"
    }
   ],
   "source": [
    "lasso.fit(X_train_s, y_train)"
   ]
  },
  {
   "cell_type": "code",
   "execution_count": 16,
   "id": "05528bf5",
   "metadata": {
    "scrolled": true
   },
   "outputs": [
    {
     "name": "stdout",
     "output_type": "stream",
     "text": [
      "0.9220617254394374\n",
      "0.9234637999804518\n"
     ]
    }
   ],
   "source": [
    "print(lasso.score(X_train_s, y_train))\n",
    "print(lasso.score(X_test, y_test))"
   ]
  },
  {
   "cell_type": "code",
   "execution_count": 17,
   "id": "5670cbd8",
   "metadata": {},
   "outputs": [
    {
     "data": {
      "text/plain": [
       "0.9106706987526941"
      ]
     },
     "execution_count": 17,
     "metadata": {},
     "output_type": "execute_result"
    }
   ],
   "source": [
    "lasso_scores.mean()"
   ]
  },
  {
   "cell_type": "code",
   "execution_count": 18,
   "id": "082b4845",
   "metadata": {},
   "outputs": [
    {
     "data": {
      "text/plain": [
       "10.0"
      ]
     },
     "execution_count": 18,
     "metadata": {},
     "output_type": "execute_result"
    }
   ],
   "source": [
    "lasso.alpha_"
   ]
  },
  {
   "cell_type": "code",
   "execution_count": 19,
   "id": "433cca49",
   "metadata": {},
   "outputs": [
    {
     "name": "stdout",
     "output_type": "stream",
     "text": [
      "Percent variables zeroed out: 0.0\n"
     ]
    }
   ],
   "source": [
    "print ('Percent variables zeroed out:', np.sum((lasso.coef_ == 0))/float(X.shape[0]))"
   ]
  },
  {
   "cell_type": "code",
   "execution_count": 20,
   "id": "94aba441",
   "metadata": {},
   "outputs": [],
   "source": [
    "lasso_pred = lasso.predict(X_test)"
   ]
  },
  {
   "cell_type": "code",
   "execution_count": 21,
   "id": "eab9f2a0",
   "metadata": {},
   "outputs": [
    {
     "data": {
      "text/plain": [
       "0.9234637999804518"
      ]
     },
     "execution_count": 21,
     "metadata": {},
     "output_type": "execute_result"
    }
   ],
   "source": [
    "r2_score(y_test, lasso_pred)"
   ]
  },
  {
   "cell_type": "code",
   "execution_count": null,
   "id": "ec49707f",
   "metadata": {},
   "outputs": [],
   "source": []
  },
  {
   "cell_type": "markdown",
   "id": "b6f43cf4",
   "metadata": {},
   "source": [
    "### 3.2.3 Ridge Regression"
   ]
  },
  {
   "cell_type": "code",
   "execution_count": 22,
   "id": "c6acc987",
   "metadata": {
    "scrolled": false
   },
   "outputs": [
    {
     "data": {
      "text/plain": [
       "RidgeCV(alphas=array([   1.,  112.,  223.,  334.,  445.,  556.,  667.,  778.,  889.,\n",
       "       1000.]))"
      ]
     },
     "execution_count": 22,
     "metadata": {},
     "output_type": "execute_result"
    }
   ],
   "source": [
    "ridge.fit(X_train_s, y_train)"
   ]
  },
  {
   "cell_type": "code",
   "execution_count": 23,
   "id": "1388a17f",
   "metadata": {},
   "outputs": [
    {
     "name": "stdout",
     "output_type": "stream",
     "text": [
      "0.922062836278796\n",
      "0.9235084835835983\n"
     ]
    }
   ],
   "source": [
    "print(ridge.score(X_train_s, y_train))\n",
    "print(ridge.score(X_test, y_test))"
   ]
  },
  {
   "cell_type": "code",
   "execution_count": 24,
   "id": "d3abc573",
   "metadata": {},
   "outputs": [
    {
     "data": {
      "text/plain": [
       "0.9106619631523021"
      ]
     },
     "execution_count": 24,
     "metadata": {},
     "output_type": "execute_result"
    }
   ],
   "source": [
    "ridge_scores.mean()"
   ]
  },
  {
   "cell_type": "code",
   "execution_count": 25,
   "id": "2e78c465",
   "metadata": {},
   "outputs": [
    {
     "data": {
      "text/plain": [
       "1.0"
      ]
     },
     "execution_count": 25,
     "metadata": {},
     "output_type": "execute_result"
    }
   ],
   "source": [
    "ridge.alpha_"
   ]
  },
  {
   "cell_type": "code",
   "execution_count": 26,
   "id": "b36491e5",
   "metadata": {},
   "outputs": [],
   "source": [
    "ridge_pred = ridge.predict(X_test)"
   ]
  },
  {
   "cell_type": "code",
   "execution_count": 27,
   "id": "e709f187",
   "metadata": {
    "scrolled": true
   },
   "outputs": [
    {
     "data": {
      "text/plain": [
       "0.9235084835835983"
      ]
     },
     "execution_count": 27,
     "metadata": {},
     "output_type": "execute_result"
    }
   ],
   "source": [
    "r2_score(y_test, ridge_pred)"
   ]
  },
  {
   "cell_type": "code",
   "execution_count": 28,
   "id": "e2fe1895",
   "metadata": {
    "scrolled": false
   },
   "outputs": [
    {
     "data": {
      "text/plain": [
       "<AxesSubplot:>"
      ]
     },
     "execution_count": 28,
     "metadata": {},
     "output_type": "execute_result"
    },
    {
     "data": {
      "image/png": "[encoded data removed]",
      "text/plain": [
       "<Figure size 1080x504 with 1 Axes>"
      ]
     },
     "metadata": {
      "needs_background": "light"
     },
     "output_type": "display_data"
    }
   ],
   "source": [
    "pd.Series(ridge.coef_, index=features).plot.bar(figsize=(15, 7))"
   ]
  },
  {
   "cell_type": "code",
   "execution_count": 29,
   "id": "b1d4b044",
   "metadata": {},
   "outputs": [],
   "source": [
    "ridge_residuals = y_test - ridge_pred"
   ]
  },
  {
   "cell_type": "code",
   "execution_count": 30,
   "id": "62174b9c",
   "metadata": {
    "scrolled": true
   },
   "outputs": [
    {
     "data": {
      "text/plain": [
       "<matplotlib.collections.PathCollection at 0x7fca5e052f70>"
      ]
     },
     "execution_count": 30,
     "metadata": {},
     "output_type": "execute_result"
    },
    {
     "data": {
      "image/png": "[encoded data removed]",
      "text/plain": [
       "<Figure size 432x288 with 1 Axes>"
      ]
     },
     "metadata": {
      "needs_background": "light"
     },
     "output_type": "display_data"
    }
   ],
   "source": [
    "plt.scatter(ridge_pred, ridge_residuals)"
   ]
  },
  {
   "cell_type": "code",
   "execution_count": 31,
   "id": "e5eb4ca1",
   "metadata": {},
   "outputs": [
    {
     "name": "stdout",
     "output_type": "stream",
     "text": [
      "===== Linear =====\n",
      "0.9220631816484637\n",
      "0.9234719374036359\n",
      "\n",
      "===== Lasso ======\n",
      "0.9220631816484637\n",
      "0.9234719374036359\n",
      "\n",
      "===== Ridge ======\n",
      "0.922062836278796\n",
      "0.9235084835835983\n"
     ]
    }
   ],
   "source": [
    "print(\" Linear \".center(18, \"=\"))\n",
    "print(lr.score(X_train_s, y_train))\n",
    "print(lr.score(X_test, y_test))\n",
    "print()\n",
    "print(\" Lasso \".center(18, \"=\"))\n",
    "print(lr.score(X_train_s, y_train))\n",
    "print(lr.score(X_test, y_test))\n",
    "print()\n",
    "print(\" Ridge \".center(18, \"=\"))\n",
    "print(ridge.score(X_train_s, y_train))\n",
    "print(ridge.score(X_test, y_test))"
   ]
  },
  {
   "cell_type": "markdown",
   "id": "34fd3ae5",
   "metadata": {},
   "source": [
    "After fitting into the respective models, we can see that Ridge test score did slightly better."
   ]
  },
  {
   "cell_type": "markdown",
   "id": "ceb416db",
   "metadata": {},
   "source": [
    "## 3.3 Optimising Alpha"
   ]
  },
  {
   "cell_type": "markdown",
   "id": "0bf71eda",
   "metadata": {},
   "source": [
    "### 3.3.1 Lasso Regression"
   ]
  },
  {
   "cell_type": "code",
   "execution_count": 32,
   "id": "d5bb5ed9",
   "metadata": {},
   "outputs": [
    {
     "name": "stderr",
     "output_type": "stream",
     "text": [
      "[Parallel(n_jobs=1)]: Using backend SequentialBackend with 1 concurrent workers.\n",
      "....................................................................................................................................................................................................................................................................................................................................................................................................................................................................................................................................................................................................................................................................................................................................................................................................................................................................................................................................................................................................................................................................................................................................................................................................................................................................................................................................................................................................................................................................................................................................................................................................................................................................................................................................................................................................................................................................................................................................................................................................................................................................................................................................................................................................................................................................................................................................................................................................................................................................................................................................................................................................................................................................................................................................................................................................................................................................................................................................................................................................................................................................................................................................................................................................................................................................................................................................................................................................................................................................................................................................................................................................................................................................................................................................................................................................................................................................................................................................................................................................................................................................................................................................................................................................................................................................................................................................................................................................................................................................................................................................................................................."
     ]
    },
    {
     "name": "stdout",
     "output_type": "stream",
     "text": [
      "63.51562302351785\n"
     ]
    },
    {
     "name": "stderr",
     "output_type": "stream",
     "text": [
      "...................................................................................................................................................................................................................................................................................................................................................................................................................................................................................................................................................................................................................[Parallel(n_jobs=1)]: Done  10 out of  10 | elapsed:    1.4s finished\n"
     ]
    }
   ],
   "source": [
    "optimal_lasso = LassoCV(n_alphas=500, cv=10, verbose=1)\n",
    "optimal_lasso.fit(X_train_s, y_train)\n",
    "\n",
    "print (optimal_lasso.alpha_)"
   ]
  },
  {
   "cell_type": "code",
   "execution_count": 33,
   "id": "5658daa8",
   "metadata": {},
   "outputs": [
    {
     "name": "stdout",
     "output_type": "stream",
     "text": [
      "[0.89113211 0.90638195 0.91683126 0.9300571  0.88820376 0.9148516\n",
      " 0.90901206 0.89710836 0.91128374 0.94113919]\n",
      "0.9106001121047822\n"
     ]
    }
   ],
   "source": [
    "lasso2 = Lasso(alpha=optimal_lasso.alpha_)\n",
    "\n",
    "lasso_scores2 = cross_val_score(lasso2, X_train_s, y_train, cv=10)\n",
    "\n",
    "print (lasso_scores2)\n",
    "print (np.mean(lasso_scores2))"
   ]
  },
  {
   "cell_type": "code",
   "execution_count": 34,
   "id": "a4eb053d",
   "metadata": {},
   "outputs": [
    {
     "data": {
      "text/html": [
       "<div>\n",
       "<style scoped>\n",
       "    .dataframe tbody tr th:only-of-type {\n",
       "        vertical-align: middle;\n",
       "    }\n",
       "\n",
       "    .dataframe tbody tr th {\n",
       "        vertical-align: top;\n",
       "    }\n",
       "\n",
       "    .dataframe thead th {\n",
       "        text-align: right;\n",
       "    }\n",
       "</style>\n",
       "<table border=\"1\" class=\"dataframe\">\n",
       "  <thead>\n",
       "    <tr style=\"text-align: right;\">\n",
       "      <th></th>\n",
       "      <th>variable</th>\n",
       "      <th>coef</th>\n",
       "      <th>abs_coef</th>\n",
       "    </tr>\n",
       "  </thead>\n",
       "  <tbody>\n",
       "    <tr>\n",
       "      <th>12</th>\n",
       "      <td>GrLivArea</td>\n",
       "      <td>29366.061729</td>\n",
       "      <td>29366.061729</td>\n",
       "    </tr>\n",
       "    <tr>\n",
       "      <th>2</th>\n",
       "      <td>OverallQual</td>\n",
       "      <td>11977.018214</td>\n",
       "      <td>11977.018214</td>\n",
       "    </tr>\n",
       "    <tr>\n",
       "      <th>4</th>\n",
       "      <td>YearBuilt</td>\n",
       "      <td>9374.581082</td>\n",
       "      <td>9374.581082</td>\n",
       "    </tr>\n",
       "    <tr>\n",
       "      <th>45</th>\n",
       "      <td>Neighborhood_NridgHt</td>\n",
       "      <td>8518.687106</td>\n",
       "      <td>8518.687106</td>\n",
       "    </tr>\n",
       "    <tr>\n",
       "      <th>24</th>\n",
       "      <td>BsmtLivArea</td>\n",
       "      <td>8185.767171</td>\n",
       "      <td>8185.767171</td>\n",
       "    </tr>\n",
       "    <tr>\n",
       "      <th>47</th>\n",
       "      <td>MSSubClass_120</td>\n",
       "      <td>-7281.333939</td>\n",
       "      <td>7281.333939</td>\n",
       "    </tr>\n",
       "    <tr>\n",
       "      <th>10</th>\n",
       "      <td>TotalBsmtSF</td>\n",
       "      <td>7247.146457</td>\n",
       "      <td>7247.146457</td>\n",
       "    </tr>\n",
       "    <tr>\n",
       "      <th>3</th>\n",
       "      <td>OverallCond</td>\n",
       "      <td>6739.261115</td>\n",
       "      <td>6739.261115</td>\n",
       "    </tr>\n",
       "    <tr>\n",
       "      <th>6</th>\n",
       "      <td>ExterQual</td>\n",
       "      <td>6261.774550</td>\n",
       "      <td>6261.774550</td>\n",
       "    </tr>\n",
       "    <tr>\n",
       "      <th>46</th>\n",
       "      <td>Neighborhood_StoneBr</td>\n",
       "      <td>5990.428393</td>\n",
       "      <td>5990.428393</td>\n",
       "    </tr>\n",
       "    <tr>\n",
       "      <th>16</th>\n",
       "      <td>KitchenQual</td>\n",
       "      <td>4891.279183</td>\n",
       "      <td>4891.279183</td>\n",
       "    </tr>\n",
       "    <tr>\n",
       "      <th>5</th>\n",
       "      <td>MasVnrArea</td>\n",
       "      <td>4820.869812</td>\n",
       "      <td>4820.869812</td>\n",
       "    </tr>\n",
       "    <tr>\n",
       "      <th>49</th>\n",
       "      <td>MSSubClass_160</td>\n",
       "      <td>-4568.056717</td>\n",
       "      <td>4568.056717</td>\n",
       "    </tr>\n",
       "    <tr>\n",
       "      <th>9</th>\n",
       "      <td>BsmtExposure</td>\n",
       "      <td>4442.810206</td>\n",
       "      <td>4442.810206</td>\n",
       "    </tr>\n",
       "    <tr>\n",
       "      <th>17</th>\n",
       "      <td>Functional</td>\n",
       "      <td>4281.041252</td>\n",
       "      <td>4281.041252</td>\n",
       "    </tr>\n",
       "    <tr>\n",
       "      <th>1</th>\n",
       "      <td>LotArea</td>\n",
       "      <td>4164.557054</td>\n",
       "      <td>4164.557054</td>\n",
       "    </tr>\n",
       "    <tr>\n",
       "      <th>14</th>\n",
       "      <td>BedroomAbvGr</td>\n",
       "      <td>-4136.482230</td>\n",
       "      <td>4136.482230</td>\n",
       "    </tr>\n",
       "    <tr>\n",
       "      <th>25</th>\n",
       "      <td>MasVnrType_BrkFace</td>\n",
       "      <td>-3708.517958</td>\n",
       "      <td>3708.517958</td>\n",
       "    </tr>\n",
       "    <tr>\n",
       "      <th>33</th>\n",
       "      <td>SaleType_COD</td>\n",
       "      <td>-3498.211776</td>\n",
       "      <td>3498.211776</td>\n",
       "    </tr>\n",
       "    <tr>\n",
       "      <th>40</th>\n",
       "      <td>Neighborhood_GrnHill</td>\n",
       "      <td>3431.173346</td>\n",
       "      <td>3431.173346</td>\n",
       "    </tr>\n",
       "  </tbody>\n",
       "</table>\n",
       "</div>"
      ],
      "text/plain": [
       "                variable          coef      abs_coef\n",
       "12             GrLivArea  29366.061729  29366.061729\n",
       "2            OverallQual  11977.018214  11977.018214\n",
       "4              YearBuilt   9374.581082   9374.581082\n",
       "45  Neighborhood_NridgHt   8518.687106   8518.687106\n",
       "24           BsmtLivArea   8185.767171   8185.767171\n",
       "47        MSSubClass_120  -7281.333939   7281.333939\n",
       "10           TotalBsmtSF   7247.146457   7247.146457\n",
       "3            OverallCond   6739.261115   6739.261115\n",
       "6              ExterQual   6261.774550   6261.774550\n",
       "46  Neighborhood_StoneBr   5990.428393   5990.428393\n",
       "16           KitchenQual   4891.279183   4891.279183\n",
       "5             MasVnrArea   4820.869812   4820.869812\n",
       "49        MSSubClass_160  -4568.056717   4568.056717\n",
       "9           BsmtExposure   4442.810206   4442.810206\n",
       "17            Functional   4281.041252   4281.041252\n",
       "1                LotArea   4164.557054   4164.557054\n",
       "14          BedroomAbvGr  -4136.482230   4136.482230\n",
       "25    MasVnrType_BrkFace  -3708.517958   3708.517958\n",
       "33          SaleType_COD  -3498.211776   3498.211776\n",
       "40  Neighborhood_GrnHill   3431.173346   3431.173346"
      ]
     },
     "execution_count": 34,
     "metadata": {},
     "output_type": "execute_result"
    }
   ],
   "source": [
    "lasso_coefs = pd.DataFrame({'variable':X.columns,\n",
    "                            'coef':lasso.coef_,\n",
    "                            'abs_coef':np.abs(lasso.coef_)})\n",
    "\n",
    "lasso_coefs.sort_values('abs_coef', inplace=True, ascending=False)\n",
    "\n",
    "lasso_coefs.head(20)"
   ]
  },
  {
   "cell_type": "code",
   "execution_count": 35,
   "id": "8aa57809",
   "metadata": {},
   "outputs": [
    {
     "name": "stdout",
     "output_type": "stream",
     "text": [
      "== Lasso before===\n",
      "0.9106706987526941\n",
      "=== Lasso after===\n",
      "0.9106001121047822\n"
     ]
    }
   ],
   "source": [
    "print(\" Lasso before\".center(18, \"=\"))\n",
    "print(lasso_scores.mean())\n",
    "print(\" Lasso after\".center(18, \"=\"))\n",
    "print (np.mean(lasso_scores2))"
   ]
  },
  {
   "cell_type": "markdown",
   "id": "d3dfe8a8",
   "metadata": {},
   "source": [
    "### 3.3.2 Ridge Regression"
   ]
  },
  {
   "cell_type": "code",
   "execution_count": 36,
   "id": "7308cc3d",
   "metadata": {},
   "outputs": [
    {
     "name": "stdout",
     "output_type": "stream",
     "text": [
      "27.049597304631355\n"
     ]
    }
   ],
   "source": [
    "ridge_alphas = np.logspace(0, 5, 200)\n",
    "\n",
    "optimal_ridge = RidgeCV(alphas=ridge_alphas, cv=10)\n",
    "optimal_ridge.fit(X_train_s, y_train)\n",
    "\n",
    "print (optimal_ridge.alpha_)"
   ]
  },
  {
   "cell_type": "code",
   "execution_count": 37,
   "id": "ea5cbe3b",
   "metadata": {},
   "outputs": [
    {
     "name": "stdout",
     "output_type": "stream",
     "text": [
      "[0.89399244 0.90582881 0.91802811 0.92880939 0.89156645 0.91340608\n",
      " 0.90955537 0.89611859 0.9110453  0.94065762]\n",
      "0.910900816110563\n"
     ]
    }
   ],
   "source": [
    "ridge2 = Ridge(alpha=optimal_ridge.alpha_)\n",
    "\n",
    "ridge_scores2 = cross_val_score(ridge2, X_train_s, y_train, cv=10)\n",
    "\n",
    "print (ridge_scores2)\n",
    "print (np.mean(ridge_scores2))"
   ]
  },
  {
   "cell_type": "code",
   "execution_count": 38,
   "id": "2e40db01",
   "metadata": {},
   "outputs": [
    {
     "name": "stdout",
     "output_type": "stream",
     "text": [
      "== Ridge before===\n",
      "0.9106619631523021\n",
      "=== Ridge after===\n",
      "0.910900816110563\n"
     ]
    }
   ],
   "source": [
    "print(\" Ridge before\".center(18, \"=\"))\n",
    "print(ridge_scores.mean())\n",
    "print(\" Ridge after\".center(18, \"=\"))\n",
    "print (np.mean(ridge_scores2))"
   ]
  },
  {
   "cell_type": "code",
   "execution_count": null,
   "id": "21c246f1",
   "metadata": {},
   "outputs": [],
   "source": []
  },
  {
   "cell_type": "markdown",
   "id": "a0062445",
   "metadata": {},
   "source": [
    "### 3.3.3 Elastic Net"
   ]
  },
  {
   "cell_type": "code",
   "execution_count": 39,
   "id": "f4343036",
   "metadata": {
    "scrolled": true
   },
   "outputs": [
    {
     "name": "stderr",
     "output_type": "stream",
     "text": [
      "[Parallel(n_jobs=1)]: Using backend SequentialBackend with 1 concurrent workers.\n"
     ]
    },
    {
     "name": "stderr",
     "output_type": "stream",
     "text": [
      "............................................................................................................................................................................................................................................................................................................................................................................................................................................................................................................................................................................................................................................................................................................................................................................................................................................................................................................................................................................................................................................................................................................................................................................................................................................................................................................................................................................................................................................................................................................................................................................................................................................................................................................................................................................................................................................................................................................................................................................................................................................................................................................................................................................................................................................................................................................................................................................................................................................................................................................................................................................................................................................................................................................................................................................................................................................................................................................................................................................................................................................................................................................................................................................................................................................................................................................................................................................................................................................................................................................................................................................................................................................................................................................................................................................................................................................................................................................................................................................................................................................................................................................................................................................................................................................................................................................................................................................................................................................................................................................................................................................................................................................................................................................................................................................................................................................................................................................................................................................................................................................................................................................................................................................................................................................................................................................................................................................................................................................................................................................................................................................................................................................................................................................................................................................................................................................................................................................................................................................................................................................................................................................................................................................................................................................................................................................................................................................................................................................................................................................................................................................................................................................................................................................................................................................................................................................................................................................................................................................................................................................................................................................................................................................................................................................................................................................................................................................................................................................................................................................................................................................................................................................................................................................................................................................................................................................................................................................................................................................................................................................................................................................................................................................................................................................................................................................................................................................................................................................................................................................................................................................................................................................................................................................................................................................................................................................................................................................................................................................................................................................................................................................................................................................................................................................................................................................................................................................................................................................................................................................................................................................................................................................................................................................................................................................."
     ]
    },
    {
     "name": "stderr",
     "output_type": "stream",
     "text": [
      "................................................................................................................................................................................................................................................................................................................................................................................................................................................................................................................................................................................................................................................................................................................................................................................................................................................................................................................................................................................................................................................................................................................................................................................................................................................................................................................................................................................................................................................................................................................................................................................................................................................................................................................................................................................................................................................................................................................................................................................................................................................................................................................................................................................................................................................................................................................................................................................................................................................................................................................................................................................................................................................................................................................................................................................................................................................................................................................................................................................................................................................................................................................................................................................................................................................................................................................................................................................................................................................................................................................................................................................................................................................................................................................................................................................................................................................................................................................................................................................................................................................................................................................................................................................................................................................................................................................................................................................................................................................................................................................................................................................................................................................................................................................................................................................................................................................................................................................................................................................................................................................................................................................................................................................................................................................................................................................................................................................................................................................................................................................................................................................................................................................................................................................................................................................................................................................................................................................................................................................................................................................................................................................................................................................................................................................................................................................................................................................................................................................................................................................................................................................................................................................................................................................................................................................................................................................................................................................................................................................................................................................................................................................................................................................................................................................................................................................................................................................................................................................................................................................................................................................................................................................................................................................................................................................................................................................................................................................................................................................................................................................................................................................................................................................................................................................................................................................................................................................................................................................................................................................................................................................................................................................................................................................................................................................................................................................................................................................................................................................................................................................................................................................................................................................................................................................................................................."
     ]
    },
    {
     "name": "stderr",
     "output_type": "stream",
     "text": [
      "......................................................................................................................................................................................................................................................................................................................................................................................................................................................................................................................................................................................................................................................................................................................................................................................................................................................................................................................................................................................................................................................................................................................................................................................................................................................................................................................................................................................................................................................................................................................................................................................................................................................................................................................................................................................................................................................................................................................................................................................................................................................................................................................................................................................................................................................................................................................................................................................................................................................................................................................................................................................................................................................................................................................................................................................................................................................................................................................................................................................................................................................................................................................................................................................................................................................................................................................................................................................................................................................................................................................................................................................................................................................................................................................................................................................................................................................................................................................................................................................................................................................................................................................................................................................................................................................................................................................................................................................................................................................................................................................................................................................................................................................................................................................................................................................................................................................................................................................................................................................................................................................................................................................................................................................................................................................................................................................................................................................................................................................................................................................................................................................................................................................................................................................................................................................................................................................................................................................................................................................................................................................................................................................................................................................................................................................................................................................................................................................................................................................................................................................................................................................................................................................"
     ]
    },
    {
     "name": "stdout",
     "output_type": "stream",
     "text": [
      "63.51562302351785\n",
      "1.0\n"
     ]
    },
    {
     "name": "stderr",
     "output_type": "stream",
     "text": [
      "....................................................................................................................................................................................................................................................................................................[Parallel(n_jobs=1)]: Done 250 out of 250 | elapsed:    6.3s finished\n"
     ]
    }
   ],
   "source": [
    "l1_ratios = np.linspace(0.01, 1.0, 25)\n",
    "\n",
    "optimal_enet = ElasticNetCV(l1_ratio=l1_ratios, n_alphas=100, cv=10,\n",
    "                            verbose=1)\n",
    "optimal_enet.fit(X_train_s, y_train)\n",
    "\n",
    "print (optimal_enet.alpha_)\n",
    "print (optimal_enet.l1_ratio_)"
   ]
  },
  {
   "cell_type": "code",
   "execution_count": 40,
   "id": "5c6c9a6a",
   "metadata": {},
   "outputs": [
    {
     "name": "stdout",
     "output_type": "stream",
     "text": [
      "[0.89113211 0.90638195 0.91683126 0.9300571  0.88820376 0.9148516\n",
      " 0.90901206 0.89710836 0.91128374 0.94113919]\n",
      "0.9106001121047822\n"
     ]
    }
   ],
   "source": [
    "enet = ElasticNet(alpha=optimal_enet.alpha_, l1_ratio=optimal_enet.l1_ratio_)\n",
    "\n",
    "enet_scores = cross_val_score(enet, X_train_s, y_train, cv=10)\n",
    "\n",
    "print (enet_scores)\n",
    "print (np.mean(enet_scores))"
   ]
  },
  {
   "cell_type": "code",
   "execution_count": 41,
   "id": "7f5e6010",
   "metadata": {},
   "outputs": [
    {
     "data": {
      "text/plain": [
       "Lasso(alpha=63.51562302351785)"
      ]
     },
     "execution_count": 41,
     "metadata": {},
     "output_type": "execute_result"
    }
   ],
   "source": [
    "ridge2.fit(X_train_s, y_train)\n",
    "lasso2.fit(X_train_s, y_train)"
   ]
  },
  {
   "cell_type": "code",
   "execution_count": 42,
   "id": "722396cb",
   "metadata": {},
   "outputs": [],
   "source": [
    "ridge_resid = y_train - ridge2.predict(X_train_s)\n",
    "lasso_resid = y_train - lasso2.predict(X_train_s)"
   ]
  },
  {
   "cell_type": "code",
   "execution_count": 43,
   "id": "6268d744",
   "metadata": {},
   "outputs": [
    {
     "data": {
      "text/plain": [
       "<seaborn.axisgrid.JointGrid at 0x7fca5e129fa0>"
      ]
     },
     "execution_count": 43,
     "metadata": {},
     "output_type": "execute_result"
    },
    {
     "data": {
      "image/png": "[encoded data removed]",
      "text/plain": [
       "<Figure size 432x432 with 3 Axes>"
      ]
     },
     "metadata": {
      "needs_background": "light"
     },
     "output_type": "display_data"
    }
   ],
   "source": [
    "sns.jointplot(ridge_resid, lasso_resid)"
   ]
  },
  {
   "cell_type": "code",
   "execution_count": null,
   "id": "461c3a75",
   "metadata": {},
   "outputs": [],
   "source": []
  },
  {
   "cell_type": "markdown",
   "id": "84b4a396",
   "metadata": {},
   "source": [
    "## 3.4 Conclusion\n",
    "Based on the model evaluation, we can determine that Ridge is model that we will use for prediction."
   ]
  },
  {
   "cell_type": "code",
   "execution_count": 44,
   "id": "b24ea54d",
   "metadata": {},
   "outputs": [
    {
     "data": {
      "text/plain": [
       "Text(0.5, 1.0, 'Ridge Predictions of Sale Price vs Actual Sale Price')"
      ]
     },
     "execution_count": 44,
     "metadata": {},
     "output_type": "execute_result"
    },
    {
     "data": {
      "image/png": "[encoded data removed]",
      "text/plain": [
       "<Figure size 720x576 with 1 Axes>"
      ]
     },
     "metadata": {
      "needs_background": "light"
     },
     "output_type": "display_data"
    }
   ],
   "source": [
    "ridge_preds = ridge2.predict(X_test)\n",
    "\n",
    "plt.figure(figsize=(10,8))\n",
    "sns.regplot(data=X_train_s, x=ridge_preds, y=y_test, marker='x', line_kws={'color':'black'})\n",
    "plt.xlabel('Predicted Sale Price', fontsize=14)\n",
    "plt.ylabel('Actual Sale Price', fontsize=14)\n",
    "plt.title('Ridge Predictions of Sale Price vs Actual Sale Price', fontsize=15)"
   ]
  },
  {
   "cell_type": "markdown",
   "id": "38716dd4",
   "metadata": {},
   "source": [
    "Notice that the best fit line pass through most of the points except for a few outlier, that are of more expensive price."
   ]
  },
  {
   "cell_type": "code",
   "execution_count": 45,
   "id": "4a0c5596",
   "metadata": {},
   "outputs": [
    {
     "data": {
      "text/plain": [
       "Text(0.5, 1.0, 'Residuals')"
      ]
     },
     "execution_count": 45,
     "metadata": {},
     "output_type": "execute_result"
    },
    {
     "data": {
      "image/png": "[encoded data removed]",
      "text/plain": [
       "<Figure size 432x288 with 1 Axes>"
      ]
     },
     "metadata": {
      "needs_background": "light"
     },
     "output_type": "display_data"
    }
   ],
   "source": [
    "ax = sns.scatterplot(data=train, x=y_test, y=y_test-ridge_preds)\n",
    "ax.axhline(y=0, c='red')\n",
    "plt.xlabel('Predicted Sale Price', fontsize=12)\n",
    "plt.ylabel('Actual Sale Price', fontsize=12)\n",
    "plt.title('Residuals', fontsize=18)"
   ]
  },
  {
   "cell_type": "markdown",
   "id": "bd8f57ce",
   "metadata": {},
   "source": [
    "#### Top 20 Coefficient and bottom 10 Coefficient"
   ]
  },
  {
   "cell_type": "code",
   "execution_count": 46,
   "id": "f5d38f02",
   "metadata": {
    "scrolled": false
   },
   "outputs": [
    {
     "data": {
      "text/html": [
       "<div>\n",
       "<style scoped>\n",
       "    .dataframe tbody tr th:only-of-type {\n",
       "        vertical-align: middle;\n",
       "    }\n",
       "\n",
       "    .dataframe tbody tr th {\n",
       "        vertical-align: top;\n",
       "    }\n",
       "\n",
       "    .dataframe thead th {\n",
       "        text-align: right;\n",
       "    }\n",
       "</style>\n",
       "<table border=\"1\" class=\"dataframe\">\n",
       "  <thead>\n",
       "    <tr style=\"text-align: right;\">\n",
       "      <th></th>\n",
       "      <th>variable</th>\n",
       "      <th>coef</th>\n",
       "      <th>abs_coef</th>\n",
       "    </tr>\n",
       "  </thead>\n",
       "  <tbody>\n",
       "    <tr>\n",
       "      <th>12</th>\n",
       "      <td>GrLivArea</td>\n",
       "      <td>27366.120619</td>\n",
       "      <td>27366.120619</td>\n",
       "    </tr>\n",
       "    <tr>\n",
       "      <th>2</th>\n",
       "      <td>OverallQual</td>\n",
       "      <td>11976.649996</td>\n",
       "      <td>11976.649996</td>\n",
       "    </tr>\n",
       "    <tr>\n",
       "      <th>4</th>\n",
       "      <td>YearBuilt</td>\n",
       "      <td>8549.112980</td>\n",
       "      <td>8549.112980</td>\n",
       "    </tr>\n",
       "    <tr>\n",
       "      <th>45</th>\n",
       "      <td>Neighborhood_NridgHt</td>\n",
       "      <td>8242.509729</td>\n",
       "      <td>8242.509729</td>\n",
       "    </tr>\n",
       "    <tr>\n",
       "      <th>24</th>\n",
       "      <td>BsmtLivArea</td>\n",
       "      <td>8045.530091</td>\n",
       "      <td>8045.530091</td>\n",
       "    </tr>\n",
       "    <tr>\n",
       "      <th>10</th>\n",
       "      <td>TotalBsmtSF</td>\n",
       "      <td>7651.534862</td>\n",
       "      <td>7651.534862</td>\n",
       "    </tr>\n",
       "    <tr>\n",
       "      <th>6</th>\n",
       "      <td>ExterQual</td>\n",
       "      <td>6519.907073</td>\n",
       "      <td>6519.907073</td>\n",
       "    </tr>\n",
       "    <tr>\n",
       "      <th>3</th>\n",
       "      <td>OverallCond</td>\n",
       "      <td>6421.883374</td>\n",
       "      <td>6421.883374</td>\n",
       "    </tr>\n",
       "    <tr>\n",
       "      <th>46</th>\n",
       "      <td>Neighborhood_StoneBr</td>\n",
       "      <td>5920.283338</td>\n",
       "      <td>5920.283338</td>\n",
       "    </tr>\n",
       "    <tr>\n",
       "      <th>16</th>\n",
       "      <td>KitchenQual</td>\n",
       "      <td>5243.340334</td>\n",
       "      <td>5243.340334</td>\n",
       "    </tr>\n",
       "    <tr>\n",
       "      <th>5</th>\n",
       "      <td>MasVnrArea</td>\n",
       "      <td>4899.862922</td>\n",
       "      <td>4899.862922</td>\n",
       "    </tr>\n",
       "    <tr>\n",
       "      <th>1</th>\n",
       "      <td>LotArea</td>\n",
       "      <td>4337.770064</td>\n",
       "      <td>4337.770064</td>\n",
       "    </tr>\n",
       "    <tr>\n",
       "      <th>9</th>\n",
       "      <td>BsmtExposure</td>\n",
       "      <td>4264.813333</td>\n",
       "      <td>4264.813333</td>\n",
       "    </tr>\n",
       "    <tr>\n",
       "      <th>17</th>\n",
       "      <td>Functional</td>\n",
       "      <td>4113.664306</td>\n",
       "      <td>4113.664306</td>\n",
       "    </tr>\n",
       "    <tr>\n",
       "      <th>19</th>\n",
       "      <td>GarageCars</td>\n",
       "      <td>3673.378565</td>\n",
       "      <td>3673.378565</td>\n",
       "    </tr>\n",
       "    <tr>\n",
       "      <th>40</th>\n",
       "      <td>Neighborhood_GrnHill</td>\n",
       "      <td>3379.445560</td>\n",
       "      <td>3379.445560</td>\n",
       "    </tr>\n",
       "    <tr>\n",
       "      <th>7</th>\n",
       "      <td>BsmtQual</td>\n",
       "      <td>3236.338759</td>\n",
       "      <td>3236.338759</td>\n",
       "    </tr>\n",
       "    <tr>\n",
       "      <th>28</th>\n",
       "      <td>LandContour_HLS</td>\n",
       "      <td>3223.377057</td>\n",
       "      <td>3223.377057</td>\n",
       "    </tr>\n",
       "    <tr>\n",
       "      <th>26</th>\n",
       "      <td>MSZoning_FV</td>\n",
       "      <td>3056.717851</td>\n",
       "      <td>3056.717851</td>\n",
       "    </tr>\n",
       "    <tr>\n",
       "      <th>44</th>\n",
       "      <td>Neighborhood_NoRidge</td>\n",
       "      <td>3044.566648</td>\n",
       "      <td>3044.566648</td>\n",
       "    </tr>\n",
       "  </tbody>\n",
       "</table>\n",
       "</div>"
      ],
      "text/plain": [
       "                variable          coef      abs_coef\n",
       "12             GrLivArea  27366.120619  27366.120619\n",
       "2            OverallQual  11976.649996  11976.649996\n",
       "4              YearBuilt   8549.112980   8549.112980\n",
       "45  Neighborhood_NridgHt   8242.509729   8242.509729\n",
       "24           BsmtLivArea   8045.530091   8045.530091\n",
       "10           TotalBsmtSF   7651.534862   7651.534862\n",
       "6              ExterQual   6519.907073   6519.907073\n",
       "3            OverallCond   6421.883374   6421.883374\n",
       "46  Neighborhood_StoneBr   5920.283338   5920.283338\n",
       "16           KitchenQual   5243.340334   5243.340334\n",
       "5             MasVnrArea   4899.862922   4899.862922\n",
       "1                LotArea   4337.770064   4337.770064\n",
       "9           BsmtExposure   4264.813333   4264.813333\n",
       "17            Functional   4113.664306   4113.664306\n",
       "19            GarageCars   3673.378565   3673.378565\n",
       "40  Neighborhood_GrnHill   3379.445560   3379.445560\n",
       "7               BsmtQual   3236.338759   3236.338759\n",
       "28       LandContour_HLS   3223.377057   3223.377057\n",
       "26           MSZoning_FV   3056.717851   3056.717851\n",
       "44  Neighborhood_NoRidge   3044.566648   3044.566648"
      ]
     },
     "execution_count": 46,
     "metadata": {},
     "output_type": "execute_result"
    }
   ],
   "source": [
    "ridge_coefs = pd.DataFrame({'variable':X.columns,\n",
    "                            'coef':ridge2.coef_,\n",
    "                            'abs_coef':np.abs(ridge2.coef_)})\n",
    "\n",
    "ridge_coefs.sort_values('coef', inplace=True, ascending=False)\n",
    "\n",
    "ridge_coefs.head(20)"
   ]
  },
  {
   "cell_type": "code",
   "execution_count": 47,
   "id": "70296ca5",
   "metadata": {},
   "outputs": [
    {
     "data": {
      "text/html": [
       "<div>\n",
       "<style scoped>\n",
       "    .dataframe tbody tr th:only-of-type {\n",
       "        vertical-align: middle;\n",
       "    }\n",
       "\n",
       "    .dataframe tbody tr th {\n",
       "        vertical-align: top;\n",
       "    }\n",
       "\n",
       "    .dataframe thead th {\n",
       "        text-align: right;\n",
       "    }\n",
       "</style>\n",
       "<table border=\"1\" class=\"dataframe\">\n",
       "  <thead>\n",
       "    <tr style=\"text-align: right;\">\n",
       "      <th></th>\n",
       "      <th>variable</th>\n",
       "      <th>coef</th>\n",
       "      <th>abs_coef</th>\n",
       "    </tr>\n",
       "  </thead>\n",
       "  <tbody>\n",
       "    <tr>\n",
       "      <th>47</th>\n",
       "      <td>MSSubClass_120</td>\n",
       "      <td>-6735.277092</td>\n",
       "      <td>6735.277092</td>\n",
       "    </tr>\n",
       "    <tr>\n",
       "      <th>49</th>\n",
       "      <td>MSSubClass_160</td>\n",
       "      <td>-4147.104147</td>\n",
       "      <td>4147.104147</td>\n",
       "    </tr>\n",
       "    <tr>\n",
       "      <th>25</th>\n",
       "      <td>MasVnrType_BrkFace</td>\n",
       "      <td>-3606.637346</td>\n",
       "      <td>3606.637346</td>\n",
       "    </tr>\n",
       "    <tr>\n",
       "      <th>14</th>\n",
       "      <td>BedroomAbvGr</td>\n",
       "      <td>-3360.376580</td>\n",
       "      <td>3360.376580</td>\n",
       "    </tr>\n",
       "    <tr>\n",
       "      <th>33</th>\n",
       "      <td>SaleType_COD</td>\n",
       "      <td>-3342.850812</td>\n",
       "      <td>3342.850812</td>\n",
       "    </tr>\n",
       "    <tr>\n",
       "      <th>35</th>\n",
       "      <td>SaleType_WD</td>\n",
       "      <td>-2860.737321</td>\n",
       "      <td>2860.737321</td>\n",
       "    </tr>\n",
       "    <tr>\n",
       "      <th>8</th>\n",
       "      <td>BsmtCond</td>\n",
       "      <td>-2784.738520</td>\n",
       "      <td>2784.738520</td>\n",
       "    </tr>\n",
       "    <tr>\n",
       "      <th>15</th>\n",
       "      <td>KitchenAbvGr</td>\n",
       "      <td>-2580.763355</td>\n",
       "      <td>2580.763355</td>\n",
       "    </tr>\n",
       "    <tr>\n",
       "      <th>54</th>\n",
       "      <td>Exterior_HdBoard</td>\n",
       "      <td>-1760.727968</td>\n",
       "      <td>1760.727968</td>\n",
       "    </tr>\n",
       "    <tr>\n",
       "      <th>23</th>\n",
       "      <td>GarageType_Attchd</td>\n",
       "      <td>-1718.178176</td>\n",
       "      <td>1718.178176</td>\n",
       "    </tr>\n",
       "  </tbody>\n",
       "</table>\n",
       "</div>"
      ],
      "text/plain": [
       "              variable         coef     abs_coef\n",
       "47      MSSubClass_120 -6735.277092  6735.277092\n",
       "49      MSSubClass_160 -4147.104147  4147.104147\n",
       "25  MasVnrType_BrkFace -3606.637346  3606.637346\n",
       "14        BedroomAbvGr -3360.376580  3360.376580\n",
       "33        SaleType_COD -3342.850812  3342.850812\n",
       "35         SaleType_WD -2860.737321  2860.737321\n",
       "8             BsmtCond -2784.738520  2784.738520\n",
       "15        KitchenAbvGr -2580.763355  2580.763355\n",
       "54    Exterior_HdBoard -1760.727968  1760.727968\n",
       "23   GarageType_Attchd -1718.178176  1718.178176"
      ]
     },
     "execution_count": 47,
     "metadata": {},
     "output_type": "execute_result"
    }
   ],
   "source": [
    "ridge_coefs.sort_values('coef', inplace=True, ascending=True)\n",
    "\n",
    "ridge_coefs.head(10)"
   ]
  },
  {
   "cell_type": "code",
   "execution_count": 48,
   "id": "9a8b8026",
   "metadata": {},
   "outputs": [
    {
     "name": "stdout",
     "output_type": "stream",
     "text": [
      "the model produced 57 non-zero coefficients.\n"
     ]
    },
    {
     "data": {
      "image/png": "[encoded data removed]",
      "text/plain": [
       "<Figure size 1080x648 with 1 Axes>"
      ]
     },
     "metadata": {
      "needs_background": "light"
     },
     "output_type": "display_data"
    }
   ],
   "source": [
    "ridge_coefs2 = pd.DataFrame(ridge2.coef_, index = features)              # get coefficients from best model\n",
    "ridge_coefs2 = ridge_coefs2[ridge_coefs2[0] != 0]                                   # get non-zero coefficients\n",
    "print(f'the model produced {ridge_coefs2.shape[0]} non-zero coefficients.')\n",
    "\n",
    "# sort by absolute values\n",
    "ridge_coefs2 = ridge_coefs2.reindex(ridge_coefs2[0].abs().sort_values(ascending=True).index)\n",
    "\n",
    "# plot top 30 coefficients\n",
    "ridge_coefs2.tail(30).plot.barh(figsize=(15,9), legend = None)\n",
    "plt.title('Top 30 features with the Highest Coefficients',fontsize=14)\n",
    "plt.xlabel('Coefficient', fontsize=12)\n",
    "plt.yticks(fontsize=12)\n",
    "plt.tight_layout()"
   ]
  },
  {
   "cell_type": "markdown",
   "id": "f06d4d6a",
   "metadata": {},
   "source": [
    "Top features for prediction are GrLivArea, OverallQual and YearBuilt which seem to be reasonable for affecting SalePrice. Certain Neigborhood seem to affect SalePrice, which might be those more desirable areas. Bsmt, Garage can also play a part in increasing SalePrice. "
   ]
  },
  {
   "cell_type": "markdown",
   "id": "f1bb9e5f",
   "metadata": {},
   "source": [
    "## 3.5 Submission\n"
   ]
  },
  {
   "cell_type": "markdown",
   "id": "29696304",
   "metadata": {},
   "source": [
    "### 3.5.1 Ridge"
   ]
  },
  {
   "cell_type": "code",
   "execution_count": 49,
   "id": "79b4dd2c",
   "metadata": {},
   "outputs": [],
   "source": [
    "test = pd.read_csv('../datasets/test_clean2.csv') "
   ]
  },
  {
   "cell_type": "code",
   "execution_count": 50,
   "id": "d6a22014",
   "metadata": {},
   "outputs": [],
   "source": [
    "test2 = test.iloc[:,2:]"
   ]
  },
  {
   "cell_type": "code",
   "execution_count": 51,
   "id": "d2264c53",
   "metadata": {},
   "outputs": [
    {
     "data": {
      "text/plain": [
       "0.9232857163157989"
      ]
     },
     "execution_count": 51,
     "metadata": {},
     "output_type": "execute_result"
    }
   ],
   "source": [
    "X_final = ss.fit_transform(X)\n",
    "ridge2.fit(X_final, y)\n",
    "ridge2.score(X_final,y)"
   ]
  },
  {
   "cell_type": "code",
   "execution_count": 52,
   "id": "10cef68b",
   "metadata": {},
   "outputs": [],
   "source": [
    "test_final = ss.transform(test2)"
   ]
  },
  {
   "cell_type": "code",
   "execution_count": 53,
   "id": "20cf3c1a",
   "metadata": {},
   "outputs": [],
   "source": [
    "test_r = test"
   ]
  },
  {
   "cell_type": "code",
   "execution_count": 54,
   "id": "f20da592",
   "metadata": {},
   "outputs": [],
   "source": [
    "ridge_predict = ridge2.predict(test_final)\n",
    "test_r['SalePrice'] = ridge_predict"
   ]
  },
  {
   "cell_type": "code",
   "execution_count": 55,
   "id": "cc00b967",
   "metadata": {},
   "outputs": [
    {
     "data": {
      "text/html": [
       "<div>\n",
       "<style scoped>\n",
       "    .dataframe tbody tr th:only-of-type {\n",
       "        vertical-align: middle;\n",
       "    }\n",
       "\n",
       "    .dataframe tbody tr th {\n",
       "        vertical-align: top;\n",
       "    }\n",
       "\n",
       "    .dataframe thead th {\n",
       "        text-align: right;\n",
       "    }\n",
       "</style>\n",
       "<table border=\"1\" class=\"dataframe\">\n",
       "  <thead>\n",
       "    <tr style=\"text-align: right;\">\n",
       "      <th></th>\n",
       "      <th>Id</th>\n",
       "      <th>SalePrice</th>\n",
       "    </tr>\n",
       "  </thead>\n",
       "  <tbody>\n",
       "    <tr>\n",
       "      <th>0</th>\n",
       "      <td>2658</td>\n",
       "      <td>155306.341731</td>\n",
       "    </tr>\n",
       "    <tr>\n",
       "      <th>1</th>\n",
       "      <td>2718</td>\n",
       "      <td>153314.768755</td>\n",
       "    </tr>\n",
       "    <tr>\n",
       "      <th>2</th>\n",
       "      <td>2414</td>\n",
       "      <td>222720.171592</td>\n",
       "    </tr>\n",
       "    <tr>\n",
       "      <th>3</th>\n",
       "      <td>1989</td>\n",
       "      <td>111304.412700</td>\n",
       "    </tr>\n",
       "    <tr>\n",
       "      <th>4</th>\n",
       "      <td>625</td>\n",
       "      <td>176865.691509</td>\n",
       "    </tr>\n",
       "    <tr>\n",
       "      <th>...</th>\n",
       "      <td>...</td>\n",
       "      <td>...</td>\n",
       "    </tr>\n",
       "    <tr>\n",
       "      <th>873</th>\n",
       "      <td>1662</td>\n",
       "      <td>190358.596084</td>\n",
       "    </tr>\n",
       "    <tr>\n",
       "      <th>874</th>\n",
       "      <td>1234</td>\n",
       "      <td>223625.095667</td>\n",
       "    </tr>\n",
       "    <tr>\n",
       "      <th>875</th>\n",
       "      <td>1373</td>\n",
       "      <td>119675.939052</td>\n",
       "    </tr>\n",
       "    <tr>\n",
       "      <th>876</th>\n",
       "      <td>1672</td>\n",
       "      <td>104734.631660</td>\n",
       "    </tr>\n",
       "    <tr>\n",
       "      <th>877</th>\n",
       "      <td>1939</td>\n",
       "      <td>120246.459704</td>\n",
       "    </tr>\n",
       "  </tbody>\n",
       "</table>\n",
       "<p>878 rows × 2 columns</p>\n",
       "</div>"
      ],
      "text/plain": [
       "       Id      SalePrice\n",
       "0    2658  155306.341731\n",
       "1    2718  153314.768755\n",
       "2    2414  222720.171592\n",
       "3    1989  111304.412700\n",
       "4     625  176865.691509\n",
       "..    ...            ...\n",
       "873  1662  190358.596084\n",
       "874  1234  223625.095667\n",
       "875  1373  119675.939052\n",
       "876  1672  104734.631660\n",
       "877  1939  120246.459704\n",
       "\n",
       "[878 rows x 2 columns]"
      ]
     },
     "execution_count": 55,
     "metadata": {},
     "output_type": "execute_result"
    }
   ],
   "source": [
    "test_r[['Id','SalePrice']]"
   ]
  },
  {
   "cell_type": "code",
   "execution_count": 56,
   "id": "8b4503bd",
   "metadata": {},
   "outputs": [],
   "source": [
    "submission_ridge = test_r[['Id','SalePrice']]\n",
    "submission_ridge.to_csv('../datasets/submission_ridge.csv', index=False)"
   ]
  },
  {
   "cell_type": "markdown",
   "id": "a175db48",
   "metadata": {},
   "source": [
    "### 3.5.1 Lasso"
   ]
  },
  {
   "cell_type": "code",
   "execution_count": 57,
   "id": "e5cb70cf",
   "metadata": {},
   "outputs": [
    {
     "data": {
      "text/plain": [
       "0.9233391509219225"
      ]
     },
     "execution_count": 57,
     "metadata": {},
     "output_type": "execute_result"
    }
   ],
   "source": [
    "lasso2.fit(X_final, y)\n",
    "lasso2.score(X_final,y)"
   ]
  },
  {
   "cell_type": "code",
   "execution_count": 58,
   "id": "1df66f5e",
   "metadata": {},
   "outputs": [],
   "source": [
    "test_l = test"
   ]
  },
  {
   "cell_type": "code",
   "execution_count": 59,
   "id": "0d34f4a1",
   "metadata": {},
   "outputs": [],
   "source": [
    "lasso_predict = lasso2.predict(test_final)\n",
    "test_l['SalePrice'] = lasso_predict"
   ]
  },
  {
   "cell_type": "code",
   "execution_count": 60,
   "id": "39d80074",
   "metadata": {},
   "outputs": [
    {
     "data": {
      "text/html": [
       "<div>\n",
       "<style scoped>\n",
       "    .dataframe tbody tr th:only-of-type {\n",
       "        vertical-align: middle;\n",
       "    }\n",
       "\n",
       "    .dataframe tbody tr th {\n",
       "        vertical-align: top;\n",
       "    }\n",
       "\n",
       "    .dataframe thead th {\n",
       "        text-align: right;\n",
       "    }\n",
       "</style>\n",
       "<table border=\"1\" class=\"dataframe\">\n",
       "  <thead>\n",
       "    <tr style=\"text-align: right;\">\n",
       "      <th></th>\n",
       "      <th>Id</th>\n",
       "      <th>SalePrice</th>\n",
       "    </tr>\n",
       "  </thead>\n",
       "  <tbody>\n",
       "    <tr>\n",
       "      <th>0</th>\n",
       "      <td>2658</td>\n",
       "      <td>154882.310106</td>\n",
       "    </tr>\n",
       "    <tr>\n",
       "      <th>1</th>\n",
       "      <td>2718</td>\n",
       "      <td>152704.360653</td>\n",
       "    </tr>\n",
       "    <tr>\n",
       "      <th>2</th>\n",
       "      <td>2414</td>\n",
       "      <td>222685.905456</td>\n",
       "    </tr>\n",
       "    <tr>\n",
       "      <th>3</th>\n",
       "      <td>1989</td>\n",
       "      <td>111018.119112</td>\n",
       "    </tr>\n",
       "    <tr>\n",
       "      <th>4</th>\n",
       "      <td>625</td>\n",
       "      <td>176057.898504</td>\n",
       "    </tr>\n",
       "    <tr>\n",
       "      <th>...</th>\n",
       "      <td>...</td>\n",
       "      <td>...</td>\n",
       "    </tr>\n",
       "    <tr>\n",
       "      <th>873</th>\n",
       "      <td>1662</td>\n",
       "      <td>191051.900765</td>\n",
       "    </tr>\n",
       "    <tr>\n",
       "      <th>874</th>\n",
       "      <td>1234</td>\n",
       "      <td>223578.677734</td>\n",
       "    </tr>\n",
       "    <tr>\n",
       "      <th>875</th>\n",
       "      <td>1373</td>\n",
       "      <td>120609.102239</td>\n",
       "    </tr>\n",
       "    <tr>\n",
       "      <th>876</th>\n",
       "      <td>1672</td>\n",
       "      <td>104760.802714</td>\n",
       "    </tr>\n",
       "    <tr>\n",
       "      <th>877</th>\n",
       "      <td>1939</td>\n",
       "      <td>119109.480858</td>\n",
       "    </tr>\n",
       "  </tbody>\n",
       "</table>\n",
       "<p>878 rows × 2 columns</p>\n",
       "</div>"
      ],
      "text/plain": [
       "       Id      SalePrice\n",
       "0    2658  154882.310106\n",
       "1    2718  152704.360653\n",
       "2    2414  222685.905456\n",
       "3    1989  111018.119112\n",
       "4     625  176057.898504\n",
       "..    ...            ...\n",
       "873  1662  191051.900765\n",
       "874  1234  223578.677734\n",
       "875  1373  120609.102239\n",
       "876  1672  104760.802714\n",
       "877  1939  119109.480858\n",
       "\n",
       "[878 rows x 2 columns]"
      ]
     },
     "execution_count": 60,
     "metadata": {},
     "output_type": "execute_result"
    }
   ],
   "source": [
    "test_l[['Id','SalePrice']]"
   ]
  },
  {
   "cell_type": "code",
   "execution_count": 61,
   "id": "b64aa15a",
   "metadata": {},
   "outputs": [],
   "source": [
    "submission_lasso = test[['Id','SalePrice']]\n",
    "submission_lasso.to_csv('../datasets/submission_lasso.csv', index=False)"
   ]
  }
 ],
 "metadata": {
  "kernelspec": {
   "display_name": "Python 3 (ipykernel)",
   "language": "python",
   "name": "python3"
  },
  "language_info": {
   "codemirror_mode": {
    "name": "ipython",
    "version": 3
   },
   "file_extension": ".py",
   "mimetype": "text/x-python",
   "name": "python",
   "nbconvert_exporter": "python",
   "pygments_lexer": "ipython3",
   "version": "3.9.7"
  }
 },
 "nbformat": 4,
 "nbformat_minor": 5
}
